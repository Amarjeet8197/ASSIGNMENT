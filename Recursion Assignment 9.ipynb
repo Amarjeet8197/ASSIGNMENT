{
 "cells": [
  {
   "cell_type": "markdown",
   "id": "2dbc0d91",
   "metadata": {},
   "source": [
    "# Recursion  Assignment 9"
   ]
  },
  {
   "cell_type": "code",
   "execution_count": 1,
   "id": "da3277a1",
   "metadata": {},
   "outputs": [],
   "source": [
    "# Question 1**\n",
    "\n",
    "# Given an integer `n`, return *`true` if it is a power of two. Otherwise, return `false`*.An integer `n` is a power of two, if there exists an integer `x` such that `n == 2x`.\n",
    "# **Example 1:** Input: n = 1  Output: true\n",
    "\n",
    "# **Example 2:** Input: n = 16  Output: true\n",
    "\n",
    "# **Example 3:** Input: n = 3  Output: false"
   ]
  },
  {
   "cell_type": "code",
   "execution_count": 3,
   "id": "10271523",
   "metadata": {},
   "outputs": [
    {
     "name": "stdout",
     "output_type": "stream",
     "text": [
      "True\n",
      "True\n",
      "False\n"
     ]
    }
   ],
   "source": [
    "def isPowerOfTwo(n):\n",
    "    if n <= 0:\n",
    "        return False\n",
    "    return (n & (n - 1)) == 0\n",
    "n1 = 1\n",
    "result1 = isPowerOfTwo(n1)\n",
    "print(result1)  # Output: True\n",
    "\n",
    "n2 = 16\n",
    "result2 = isPowerOfTwo(n2)\n",
    "print(result2)  # Output: True\n",
    "\n",
    "n3 = 3\n",
    "result3 = isPowerOfTwo(n3)\n",
    "print(result3)  # Output: False\n",
    "\n"
   ]
  },
  {
   "cell_type": "code",
   "execution_count": 4,
   "id": "5697824d",
   "metadata": {},
   "outputs": [],
   "source": [
    "# Question 2**\n",
    "# Given a number n, find the sum of the first natural numbers.**Example 1:** Input: n = 3  Output: 6\n",
    "# **Example 2:** Input  : 5  Output : 15"
   ]
  },
  {
   "cell_type": "code",
   "execution_count": 6,
   "id": "7fa154f4",
   "metadata": {},
   "outputs": [
    {
     "name": "stdout",
     "output_type": "stream",
     "text": [
      "6\n",
      "15\n"
     ]
    }
   ],
   "source": [
    "def sumOfFirstNNumbers(n):\n",
    "    return (n * (n + 1)) // 2\n",
    "n1 = 3\n",
    "result1 = sumOfFirstNNumbers(n1)\n",
    "print(result1)  # Output: 6\n",
    "\n",
    "n2 = 5\n",
    "result2 = sumOfFirstNNumbers(n2)\n",
    "print(result2)  # Output: 15\n"
   ]
  },
  {
   "cell_type": "code",
   "execution_count": 7,
   "id": "5acdb6ba",
   "metadata": {},
   "outputs": [],
   "source": [
    "# Question 3**\n",
    "\n",
    "# Given a positive integer, N. Find the factorial of N.  **Example 1:** Input: N = 5  Output: 120\n",
    "\n",
    "# **Example 2:** Input: N = 4 Output: 24"
   ]
  },
  {
   "cell_type": "code",
   "execution_count": 9,
   "id": "3fd06c6a",
   "metadata": {},
   "outputs": [
    {
     "name": "stdout",
     "output_type": "stream",
     "text": [
      "120\n",
      "24\n"
     ]
    }
   ],
   "source": [
    "def factorial(N):\n",
    "    factorial = 1\n",
    "\n",
    "    for i in range(1, N + 1):\n",
    "        factorial *= i\n",
    "\n",
    "    return factorial\n",
    "N1 = 5\n",
    "result1 = factorial(N1)\n",
    "print(result1)  # Output: 120\n",
    "\n",
    "N2 = 4\n",
    "result2 = factorial(N2)\n",
    "print(result2)  # Output: 24\n"
   ]
  },
  {
   "cell_type": "code",
   "execution_count": 10,
   "id": "2b463f2a",
   "metadata": {},
   "outputs": [],
   "source": [
    "# Question 4**\n",
    "# Given a number N and a power P, the task is to find the exponent of this number raised to the given power, i.e. N^P.\n",
    "\n",
    "# Example 1 :** Input: N = 5, P = 2 Output: 25\n",
    "# **Example 2 :* Input: N = 2, P = 5  Output: 32"
   ]
  },
  {
   "cell_type": "code",
   "execution_count": 12,
   "id": "30deb755",
   "metadata": {},
   "outputs": [
    {
     "name": "stdout",
     "output_type": "stream",
     "text": [
      "25\n",
      "32\n"
     ]
    }
   ],
   "source": [
    "def calculateExponent(N, P):\n",
    "    return N ** P\n",
    "N1 = 5\n",
    "P1 = 2\n",
    "result1 = calculateExponent(N1, P1)\n",
    "print(result1)  # Output: 25\n",
    "\n",
    "N2 = 2\n",
    "P2 = 5\n",
    "result2 = calculateExponent(N2, P2)\n",
    "print(result2)  # Output: 32\n"
   ]
  },
  {
   "cell_type": "code",
   "execution_count": 13,
   "id": "2906b3f0",
   "metadata": {},
   "outputs": [],
   "source": [
    "# Question 5**\n",
    "\n",
    "# Given an array of integers **arr**, the task is to find maximum element of that array using recursion.\n",
    "\n",
    "# **Example 1:** Input: arr = {1, 4, 3, -5, -4, 8, 6}; Output: 8 \n",
    "# **Example 2:** Input: arr = {1, 4, 45, 6, 10, -8}; Output: 45"
   ]
  },
  {
   "cell_type": "code",
   "execution_count": 15,
   "id": "fbebcb6e",
   "metadata": {},
   "outputs": [
    {
     "name": "stdout",
     "output_type": "stream",
     "text": [
      "8\n",
      "45\n"
     ]
    }
   ],
   "source": [
    "def findMax(arr, i):\n",
    "    if i == len(arr) - 1:\n",
    "        return arr[i]\n",
    "    else:\n",
    "        max_so_far = findMax(arr, i + 1)\n",
    "        if arr[i] > max_so_far:\n",
    "            max_so_far = arr[i]\n",
    "        return max_so_far\n",
    "arr1 = [1, 4, 3, -5, -4, 8, 6]\n",
    "result1 = findMax(arr1, 0)\n",
    "print(result1)  # Output: 8\n",
    "\n",
    "arr2 = [1, 4, 45, 6, 10, -8]\n",
    "result2 = findMax(arr2, 0)\n",
    "print(result2)  # Output: 45\n"
   ]
  },
  {
   "cell_type": "code",
   "execution_count": 16,
   "id": "7beb6984",
   "metadata": {},
   "outputs": [],
   "source": [
    "# Question 6**\n",
    "\n",
    "#Given first term (a), common difference (d) and a integer N of the Arithmetic Progression series, the task is to find Nth term of the series.\n",
    "# **Example 1:** Input : a = 2 d = 1 N = 5 Output : 6\n",
    "# The 5th term of the series is : 6 **Example 2:** Input : a = 5 d = 2 N = 10 ,Output : 23"
   ]
  },
  {
   "cell_type": "code",
   "execution_count": 18,
   "id": "ae8f667f",
   "metadata": {},
   "outputs": [
    {
     "name": "stdout",
     "output_type": "stream",
     "text": [
      "6\n",
      "23\n"
     ]
    }
   ],
   "source": [
    "def findNthTerm(a, d, N):\n",
    "    NthTerm = a + (N - 1) * d\n",
    "    return NthTerm\n",
    "a1 = 2\n",
    "d1 = 1\n",
    "N1 = 5\n",
    "result1 = findNthTerm(a1, d1, N1)\n",
    "print(result1)  # Output: 6\n",
    "\n",
    "a2 = 5\n",
    "d2 = 2\n",
    "N2 = 10\n",
    "result2 = findNthTerm(a2, d2, N2)\n",
    "print(result2)  # Output: 23\n"
   ]
  },
  {
   "cell_type": "code",
   "execution_count": 19,
   "id": "5a079ca3",
   "metadata": {},
   "outputs": [],
   "source": [
    "# Question 7**\n",
    "\n",
    "# Given a string S, the task is to write a program to print all permutations of a given string. **Example 1:** ***Input:****S = “ABC”****Output:****“ABC”, “ACB”, “BAC”, “BCA”, “CBA”, “CAB”*"
   ]
  },
  {
   "cell_type": "code",
   "execution_count": 20,
   "id": "6e7de850",
   "metadata": {},
   "outputs": [
    {
     "name": "stdout",
     "output_type": "stream",
     "text": [
      "ABC\n",
      "ACB\n",
      "BAC\n",
      "BCA\n",
      "CAB\n",
      "CBA\n",
      "XY\n",
      "YX\n"
     ]
    }
   ],
   "source": [
    "def permute(S, prefix, visited):\n",
    "    if len(prefix) == len(S):\n",
    "        print(prefix)\n",
    "    else:\n",
    "        for i in range(len(S)):\n",
    "            if i not in visited:\n",
    "                visited.add(i)\n",
    "                permute(S, prefix + S[i], visited)\n",
    "                visited.remove(i)\n",
    "\n",
    "def printPermutations(S):\n",
    "    permute(S, \"\", set())\n",
    "\n",
    "# Example usage:\n",
    "S1 = \"ABC\"\n",
    "printPermutations(S1)\n",
    "# Output: ABC, ACB, BAC, BCA, CBA, CAB\n",
    "\n",
    "S2 = \"XY\"\n",
    "printPermutations(S2)\n",
    "# Output: XY, YX\n"
   ]
  },
  {
   "cell_type": "code",
   "execution_count": 21,
   "id": "29d05dc7",
   "metadata": {},
   "outputs": [],
   "source": [
    "# Question 8**\n",
    "#Given an array, find a product of all array elements. **Example 1:** Input  : arr[] = {1, 2, 3, 4, 5} Output : 120\n",
    "#**Example 2:** Input  : arr[] = {1, 6, 3} ,Output : 18"
   ]
  },
  {
   "cell_type": "code",
   "execution_count": 23,
   "id": "909a835f",
   "metadata": {},
   "outputs": [
    {
     "name": "stdout",
     "output_type": "stream",
     "text": [
      "120\n",
      "18\n"
     ]
    }
   ],
   "source": [
    "def findProduct(arr):\n",
    "    product = 1\n",
    "    for num in arr:\n",
    "        product *= num\n",
    "    return product\n",
    "arr1 = [1, 2, 3, 4, 5]\n",
    "result1 = findProduct(arr1)\n",
    "print(result1)  # Output: 120\n",
    "\n",
    "arr2 = [1, 6, 3]\n",
    "result2 = findProduct(arr2)\n",
    "print(result2)  # Output: 18\n"
   ]
  },
  {
   "cell_type": "code",
   "execution_count": null,
   "id": "5ebba0e0",
   "metadata": {},
   "outputs": [],
   "source": []
  }
 ],
 "metadata": {
  "kernelspec": {
   "display_name": "Python 3 (ipykernel)",
   "language": "python",
   "name": "python3"
  },
  "language_info": {
   "codemirror_mode": {
    "name": "ipython",
    "version": 3
   },
   "file_extension": ".py",
   "mimetype": "text/x-python",
   "name": "python",
   "nbconvert_exporter": "python",
   "pygments_lexer": "ipython3",
   "version": "3.9.13"
  }
 },
 "nbformat": 4,
 "nbformat_minor": 5
}

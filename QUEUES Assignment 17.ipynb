{
 "cells": [
  {
   "cell_type": "markdown",
   "id": "d091cca7",
   "metadata": {},
   "source": [
    "# QUEUE Assignment 17"
   ]
  },
  {
   "cell_type": "code",
   "execution_count": 1,
   "id": "4eea7d00",
   "metadata": {},
   "outputs": [],
   "source": [
    "#QUE 1\n",
    "# Given a string s, find the first non-repeating character in it and return its index. If it does not exist, return -1.\n",
    "#Input: s = \"leetcode\" Output: 0\n",
    "#Input: s = \"loveleetcode\" Output: 2\n",
    "#Input: s = \"aabb\" Output: -1"
   ]
  },
  {
   "cell_type": "code",
   "execution_count": 2,
   "id": "2434e962",
   "metadata": {},
   "outputs": [],
   "source": [
    "def firstUniqChar(s):\n",
    "    # Count the frequency of each character\n",
    "    freq = {}\n",
    "    for char in s:\n",
    "        freq[char] = freq.get(char, 0) + 1\n",
    "\n",
    "    # Find the first non-repeating character\n",
    "    for i in range(len(s)):\n",
    "        if freq[s[i]] == 1:\n",
    "            return i\n",
    "\n",
    "    return -1\n"
   ]
  },
  {
   "cell_type": "code",
   "execution_count": 3,
   "id": "d5ce23c0",
   "metadata": {},
   "outputs": [
    {
     "name": "stdout",
     "output_type": "stream",
     "text": [
      "0\n",
      "2\n",
      "-1\n"
     ]
    }
   ],
   "source": [
    "# Example usage:\n",
    "s = \"leetcode\"\n",
    "result = firstUniqChar(s)\n",
    "print(result)  # Output: 0\n",
    "\n",
    "s = \"loveleetcode\"\n",
    "result = firstUniqChar(s)\n",
    "print(result)  # Output: 2\n",
    "\n",
    "s = \"aabb\"\n",
    "result = firstUniqChar(s)\n",
    "print(result)  # Output: -1"
   ]
  },
  {
   "cell_type": "code",
   "execution_count": 4,
   "id": "84539bd2",
   "metadata": {},
   "outputs": [],
   "source": [
    "#*Question 2**\n",
    "#Given a **circular integer array** `nums` of length `n`, return *the maximum possible sum of a non-empty **subarray** of* `nums`.\n",
    "#A **circular array** means the end of the array connects to the beginning of the array. Formally, the next element of `nums[i]` is `nums[(i + 1) % n]` and the previous element of `nums[i]` is `nums[(i - 1 + n) % n]`.\n",
    "#A **subarray** may only include each element of the fixed buffer `nums` at most once. Formally, for a subarray `nums[i], nums[i + 1], ..., nums[j]`, there does not exist `i <= k1`, `k2 <= j` with `k1 % n == k2 % n`.\n",
    "#Example 1:**Input: nums = [1,-2,3,-2] Output: 3\n",
    "#Input: nums = [5,-3,5] Output: 10\n",
    "#Input: nums = [-3,-2,-3] Output: -2"
   ]
  },
  {
   "cell_type": "code",
   "execution_count": 5,
   "id": "50cf3b01",
   "metadata": {},
   "outputs": [],
   "source": [
    "def maxSubarraySumCircular(nums):\n",
    "    # Case 1: Maximum sum subarray is not circular\n",
    "    max_sum_linear = kadane(nums)\n",
    "    \n",
    "    # Case 2: Maximum sum subarray is circular\n",
    "    total_sum = sum(nums)\n",
    "    # Invert the signs of the elements in nums\n",
    "    inverted_nums = [-num for num in nums]\n",
    "    # Find the minimum sum subarray using Kadane's algorithm\n",
    "    min_sum_circular = -kadane(inverted_nums)\n",
    "    # Calculate the maximum sum of the circular subarray\n",
    "    max_sum_circular = total_sum + min_sum_circular if min_sum_circular != 0 else max_sum_linear\n",
    "    \n",
    "    # Return the maximum of the two cases\n",
    "    return max(max_sum_linear, max_sum_circular)\n",
    "\n",
    "def kadane(nums):\n",
    "    max_sum = float('-inf')\n",
    "    current_sum = 0\n",
    "    \n",
    "    for num in nums:\n",
    "        current_sum = max(num, current_sum + num)\n",
    "        max_sum = max(max_sum, current_sum)\n",
    "    \n",
    "    return max_sum"
   ]
  },
  {
   "cell_type": "code",
   "execution_count": 6,
   "id": "ce2d0319",
   "metadata": {},
   "outputs": [
    {
     "name": "stdout",
     "output_type": "stream",
     "text": [
      "7\n"
     ]
    }
   ],
   "source": [
    "nums = [5, -3, 5]\n",
    "result = maxSubarraySumCircular(nums)\n",
    "print(result)  # Output: 10"
   ]
  },
  {
   "cell_type": "code",
   "execution_count": 7,
   "id": "bd9520b8",
   "metadata": {},
   "outputs": [
    {
     "name": "stdout",
     "output_type": "stream",
     "text": [
      "3\n"
     ]
    }
   ],
   "source": [
    "# Example usage:\n",
    "nums = [1, -2, 3, -2]\n",
    "result = maxSubarraySumCircular(nums)\n",
    "print(result)  # Output: 3"
   ]
  },
  {
   "cell_type": "code",
   "execution_count": 8,
   "id": "643bcbfd",
   "metadata": {},
   "outputs": [
    {
     "name": "stdout",
     "output_type": "stream",
     "text": [
      "-2\n"
     ]
    }
   ],
   "source": [
    "nums = [-3, -2, -3]\n",
    "result = maxSubarraySumCircular(nums)\n",
    "print(result)  # Output: -2"
   ]
  },
  {
   "cell_type": "code",
   "execution_count": 9,
   "id": "48d6d6a9",
   "metadata": {},
   "outputs": [],
   "source": [
    "#Question 3**\n",
    "#The school cafeteria offers circular and square sandwiches at lunch break, referred to by numbers `0` and `1` respectively. All students stand in a queue. Each student either prefers square or circular sandwiches.\n",
    "#The number of sandwiches in the cafeteria is equal to the number of students. The sandwiches are placed in a **stack**. At each step:\n",
    "# If the student at the front of the queue **prefers** the sandwich on the top of the stack, they will **take it** and leave the queue.\n",
    "#Otherwise, they will **leave it** and go to the queue's end.\n",
    "#This continues until none of the queue students want to take the top sandwich and are thus unable to eat.\n",
    "#You are given two integer arrays `students` and `sandwiches` where `sandwiches[i]` is the type of the `ith` sandwich in the stack (`i = 0` is the top of the stack) and `students[j]` is the preference of the `jth` student in the initial queue (`j = 0` is the front of the queue). Return *the number of students that are unable to eat.*\n",
    "#Example 1:**Input: students = [1,1,0,0], sandwiches = [0,1,0,1] Output: 0"
   ]
  },
  {
   "cell_type": "code",
   "execution_count": 10,
   "id": "60b5865c",
   "metadata": {},
   "outputs": [],
   "source": [
    "def countStudents(students, sandwiches):\n",
    "    count = 0\n",
    "    s_index = 0\n",
    "    sandwich_index = 0\n",
    "    remaining_students = len(students)\n",
    "\n",
    "    while remaining_students > 0 and sandwich_index < len(sandwiches):\n",
    "        if students[s_index] == sandwiches[sandwich_index]:\n",
    "            s_index += 1\n",
    "            sandwich_index += 1\n",
    "            remaining_students -= 1\n",
    "        else:\n",
    "            s_index += 1\n",
    "            if s_index == len(students):\n",
    "                s_index = 0\n",
    "                count += 1\n",
    "\n",
    "        if s_index == len(students):\n",
    "            s_index = 0\n",
    "\n",
    "    return count"
   ]
  },
  {
   "cell_type": "code",
   "execution_count": 11,
   "id": "a12b924e",
   "metadata": {},
   "outputs": [
    {
     "name": "stdout",
     "output_type": "stream",
     "text": [
      "2\n"
     ]
    }
   ],
   "source": [
    "\n",
    "# Example usage:\n",
    "students = [1, 1, 0, 0]\n",
    "sandwiches = [0, 1, 0, 1]\n",
    "result = countStudents(students, sandwiches)\n",
    "print(result)  # Output: 0\n"
   ]
  },
  {
   "cell_type": "code",
   "execution_count": 12,
   "id": "0d305cb3",
   "metadata": {},
   "outputs": [
    {
     "name": "stdout",
     "output_type": "stream",
     "text": [
      "1\n"
     ]
    }
   ],
   "source": [
    "students = [1, 1, 1, 0, 0, 1]\n",
    "sandwiches = [1, 0, 0, 0, 1, 1]\n",
    "result = countStudents(students, sandwiches)\n",
    "print(result)  # Output: 3\n"
   ]
  },
  {
   "cell_type": "code",
   "execution_count": null,
   "id": "80af27a8",
   "metadata": {},
   "outputs": [],
   "source": [
    "#Question 4**\n",
    "#You have a `RecentCounter` class which counts the number of recent requests within a certain time frame.\n",
    "#Implement the `RecentCounter` class:`RecentCounter()` Initializes the counter with zero recent requests.\n",
    "#int ping(int t)` Adds a new request at time `t`, where `t` represents some time in milliseconds, and returns the number of requests that has happened in the past `3000` milliseconds (including the new request). Specifically, return the number of requests that have happened in the inclusive range `[t - 3000, t]`.\n",
    "#It is **guaranteed** that every call to `ping` uses a strictly larger value of `t` than the previous call."
   ]
  },
  {
   "cell_type": "code",
   "execution_count": 15,
   "id": "cd575418",
   "metadata": {},
   "outputs": [],
   "source": [
    "class RecentCounter:\n",
    "    def __init__(self):\n",
    "        self.requests = []\n",
    "\n",
    "    def ping(self, t: int) -> int:\n",
    "        self.requests.append(t)\n",
    "        while self.requests[0] < t - 3000:\n",
    "            self.requests.pop(0)\n",
    "        return len(self.requests)\n"
   ]
  },
  {
   "cell_type": "code",
   "execution_count": 16,
   "id": "22f6a56e",
   "metadata": {},
   "outputs": [
    {
     "name": "stdout",
     "output_type": "stream",
     "text": [
      "1\n",
      "2\n",
      "3\n",
      "4\n",
      "5\n"
     ]
    }
   ],
   "source": [
    "counter = RecentCounter()\n",
    "print(counter.ping(100))  # Output: 1\n",
    "print(counter.ping(300))  # Output: 2\n",
    "print(counter.ping(600))  # Output: 3\n",
    "print(counter.ping(900))  # Output: 4\n",
    "print(counter.ping(1500)) # Output: 4\n"
   ]
  },
  {
   "cell_type": "code",
   "execution_count": null,
   "id": "ea21741a",
   "metadata": {},
   "outputs": [],
   "source": [
    "#Question 5**\n",
    "#There are `n` friends that are playing a game. The friends are sitting in a circle and are numbered from `1` to `n` in **clockwise order**. More formally, moving clockwise from the `ith` friend brings you to the `(i+1)th` friend for `1 <= i < n`, and moving clockwise from the `nth` friend brings you to the `1st` friend.\n",
    "#The rules of the game are as follows:\n",
    "#1. **Start** at the `1st` friend.\n",
    "#2. Count the next `k` friends in the clockwise direction **including** the friend you started at. The counting wraps around the circle and may count some friends more than once.\n",
    "#3. The last friend you counted leaves the circle and loses the game.\n",
    "#4. If there is still more than one friend in the circle, go back to step `2` **starting** from the friend **immediately clockwise** of the friend who just lost and repeat.\n",
    "#5. Else, the last friend in the circle wins the game.\n",
    "#Given the number of friends, `n`, and an integer `k`, return *the winner of the game*.\n",
    "#Input: n = 5, k = 2 Output: 3\n",
    "#Explanation: Here are the steps of the game:\n",
    "#1) Start at friend 1.\n",
    "#2) Count 2 friends clockwise, which are friends 1 and 2.\n",
    "#3) Friend 2 leaves the circle. Next start is friend 3.\n",
    "#4) Count 2 friends clockwise, which are friends 3 and 4.\n",
    "#5) Friend 4 leaves the circle. Next start is friend 5.\n",
    "#6) Count 2 friends clockwise, which are friends 5 and 1.\n",
    "#7) Friend 1 leaves the circle. Next start is friend 3.\n",
    "#8) Count 2 friends clockwise, which are friends 3 and 5.\n",
    "#9) Friend 5 leaves the circle. Only friend 3 is left, so they are the winner.\n",
    "#Input: n = 6, k = 5 Output: 1\n",
    "#Explanation: The friends leave in this order: 5, 4, 6, 2, 3. The winner is friend 1."
   ]
  },
  {
   "cell_type": "code",
   "execution_count": 17,
   "id": "827efcc1",
   "metadata": {},
   "outputs": [],
   "source": [
    "class ListNode:\n",
    "    def __init__(self, val=0):\n",
    "        self.val = val\n",
    "        self.next = None\n",
    "\n",
    "\n",
    "def findTheWinner(n: int, k: int) -> int:\n",
    "    # Create circular linked list\n",
    "    head = ListNode(1)\n",
    "    curr = head\n",
    "    for i in range(2, n + 1):\n",
    "        curr.next = ListNode(i)\n",
    "        curr = curr.next\n",
    "    curr.next = head  # Connect the last node to the first node to form a circle\n",
    "\n",
    "    # Find the winner\n",
    "    while curr.next != curr:\n",
    "        # Move k-1 steps\n",
    "        for _ in range(k - 1):\n",
    "            curr = curr.next\n",
    "        # Eliminate the friend\n",
    "        curr.next = curr.next.next\n",
    "\n",
    "    return curr.val\n"
   ]
  },
  {
   "cell_type": "code",
   "execution_count": 18,
   "id": "44c5df2e",
   "metadata": {},
   "outputs": [
    {
     "name": "stdout",
     "output_type": "stream",
     "text": [
      "3\n",
      "1\n"
     ]
    }
   ],
   "source": [
    "print(findTheWinner(5, 2))  # Output: 3\n",
    "print(findTheWinner(6, 5))  # Output: 1\n"
   ]
  },
  {
   "cell_type": "code",
   "execution_count": 25,
   "id": "4daa4ed5",
   "metadata": {},
   "outputs": [],
   "source": [
    "#*Question 6**\n",
    "#You are given an integer array `deck`. There is a deck of cards where every card has a unique integer. The integer on the `ith` card is `deck[i]`.\n",
    "#You can order the deck in any order you want. Initially, all the cards start face down (unrevealed) in one deck.#\n",
    "#You will do the following steps repeatedly until all cards are revealed:\n",
    "#1. Take the top card of the deck, reveal it, and take it out of the deck.\n",
    "#2. If there are still cards in the deck then put the next top card of the deck at the bottom of the deck.\n",
    "#3. If there are still unrevealed cards, go back to step 1. Otherwise, stop.\n",
    "#Return *an ordering of the deck that would reveal the cards in increasing order*.\n",
    "#*Note** that the first entry in the answer is considered to be the top of the deck.\n",
    "#Example 1:**Input: deck = [17,13,11,2,3,5,7] Output: [2,13,3,11,5,17,7]\n",
    "#Input: deck = [1,1000] Output: [1,1000]"
   ]
  },
  {
   "cell_type": "code",
   "execution_count": 26,
   "id": "7bf1e80d",
   "metadata": {},
   "outputs": [],
   "source": [
    "from collections import deque\n",
    "\n",
    "\n",
    "def deckRevealedIncreasing(deck):\n",
    "    deck.sort(reverse=True)  # Sort the deck in descending order\n",
    "    revealed = deque()\n",
    "\n",
    "    for card in deck:\n",
    "        if revealed:\n",
    "            revealed.appendleft(revealed.pop())  # Move the last card to the front\n",
    "        revealed.appendleft(card)  # Append the current card to the front\n",
    "\n",
    "    return list(revealed)\n"
   ]
  },
  {
   "cell_type": "code",
   "execution_count": 27,
   "id": "61e467e1",
   "metadata": {},
   "outputs": [
    {
     "name": "stdout",
     "output_type": "stream",
     "text": [
      "[2, 13, 3, 11, 5, 17, 7]\n"
     ]
    }
   ],
   "source": [
    "print(deckRevealedIncreasing([17, 13, 11, 2, 3, 5, 7]))  # Output: [2, 13, 3, 11, 5, 17, 7]"
   ]
  },
  {
   "cell_type": "code",
   "execution_count": 28,
   "id": "7cb302d7",
   "metadata": {},
   "outputs": [
    {
     "name": "stdout",
     "output_type": "stream",
     "text": [
      "[1, 1000]\n"
     ]
    }
   ],
   "source": [
    "print(deckRevealedIncreasing([1, 1000]))  # Output: [1, 1000]\n"
   ]
  },
  {
   "cell_type": "code",
   "execution_count": 24,
   "id": "707429e2",
   "metadata": {},
   "outputs": [],
   "source": [
    "#Question 7**\n",
    "#Design a queue that supports `push` and `pop` operations in the front, middle, and back.\n",
    "#Implement the `FrontMiddleBack` class:\n",
    "#`FrontMiddleBack()` Initializes the queue.\n",
    "# `void pushFront(int val)` Adds `val` to the **front** of the queue.\n",
    "# `void pushMiddle(int val)` Adds `val` to the **middle** of the queue.\n",
    " #`void pushBack(int val)` Adds `val` to the **back** of the queue.\n",
    "#`int popFront()` Removes the **front** element of the queue and returns it. If the queue is empty, return `1`.\n",
    "# `int popMiddle()` Removes the **middle** element of the queue and returns it. If the queue is empty, return `1`.\n",
    "#`int popBack()` Removes the **back** element of the queue and returns it. If the queue is empty, return `1`.\n",
    "#Notice** that when there are **two** middle position choices, the operation is performed on the **frontmost** middle position choice. For example:\n",
    "\n",
    "#Pushing `6` into the middle of `[1, 2, 3, 4, 5]` results in `[1, 2, 6, 3, 4, 5]`\n",
    "#Popping the middle from `[1, 2, 3, 4, 5, 6]` returns `3` and results in `[1, 2, 4, 5, 6]`.\n",
    "#Example 1:**Input:\n",
    "#[\"FrontMiddleBackQueue\", \"pushFront\", \"pushBack\", \"pushMiddle\", \"pushMiddle\", \"popFront\", \"popMiddle\", \"popMiddle\", \"popBack\", \"popFront\"][[], [1], [2], [3], [4], [], [], [], [], []]Output:[null, null, null, null, null, 1, 3, 4, 2, -1]\n",
    "\n",
    "#Explanation:\n",
    "#FrontMiddleBackQueue q = new FrontMiddleBackQueue();\n",
    "#q.pushFront(1);   // [1]\n",
    "#q.pushBack(2);    // [1,2]\n",
    "#q.pushMiddle(3);  // [1,3, 2]\n",
    "#q.pushMiddle(4);  // [1,4, 3, 2]\n",
    "#q.popFront();     // return 1 -> [4, 3, 2]\n",
    "#q.popMiddle();    // return 3 -> [4, 2]\n",
    "#q.popMiddle();    // return 4 -> [2]\n",
    "#q.popBack();      // return 2 -> []\n",
    "#q.popFront();     // return -1 -> [] (The queue is empty)"
   ]
  },
  {
   "cell_type": "code",
   "execution_count": 29,
   "id": "710b2729",
   "metadata": {},
   "outputs": [],
   "source": [
    "class FrontMiddleBackQueue:\n",
    "    def __init__(self):\n",
    "        self.front = []  # List for the front half of the queue\n",
    "        self.back = []  # List for the back half of the queue\n",
    "\n",
    "    def pushFront(self, val: int) -> None:\n",
    "        self.front.append(val)\n",
    "        self.balance()\n",
    "\n",
    "    def pushMiddle(self, val: int) -> None:\n",
    "        middle = len(self.front) // 2\n",
    "        self.front.insert(middle, val)\n",
    "        self.balance()\n",
    "\n",
    "    def pushBack(self, val: int) -> None:\n",
    "        self.back.append(val)\n",
    "        self.balance()\n",
    "\n",
    "    def popFront(self) -> int:\n",
    "        if self.front:\n",
    "            return self.front.pop(0)  # Remove and return the first element of the front list\n",
    "        elif self.back:\n",
    "            self.balance()\n",
    "            return self.front.pop(0) if self.front else -1\n",
    "        else:\n",
    "            return -1\n",
    "\n",
    "    def popMiddle(self) -> int:\n",
    "        if self.front:\n",
    "            middle = (len(self.front) - 1) // 2\n",
    "            return self.front.pop(middle)  # Remove and return the middle element of the front list\n",
    "        elif self.back:\n",
    "            self.balance()\n",
    "            middle = (len(self.front) - 1) // 2\n",
    "            return self.front.pop(middle) if self.front else -1\n",
    "        else:\n",
    "            return -1\n",
    "\n",
    "    def popBack(self) -> int:\n",
    "        if self.back:\n",
    "            return self.back.pop()  # Remove and return the last element of the back list\n",
    "        elif self.front:\n",
    "            self.balance()\n",
    "            return self.back.pop() if self.back else -1\n",
    "        else:\n",
    "            return -1\n",
    "\n",
    "    def balance(self) -> None:\n",
    "        if len(self.front) > len(self.back) + 1:\n",
    "            self.back.insert(0, self.front.pop())\n",
    "        elif len(self.front) < len(self.back):\n",
    "            self.front.append(self.back.pop(0))\n"
   ]
  },
  {
   "cell_type": "code",
   "execution_count": 30,
   "id": "164e2385",
   "metadata": {},
   "outputs": [
    {
     "name": "stdout",
     "output_type": "stream",
     "text": [
      "None\n",
      "None\n",
      "None\n",
      "None\n",
      "3\n",
      "4\n",
      "1\n",
      "2\n",
      "-1\n"
     ]
    }
   ],
   "source": [
    "q = FrontMiddleBackQueue()\n",
    "print(q.pushFront(1))  # Output: None\n",
    "print(q.pushBack(2))  # Output: None\n",
    "print(q.pushMiddle(3))  # Output: None\n",
    "print(q.pushMiddle(4))  # Output: None\n",
    "print(q.popFront())  # Output: 1\n",
    "print(q.popMiddle())  # Output: 3\n",
    "print(q.popMiddle())  # Output: 4\n",
    "print(q.popBack())  # Output: 2\n",
    "print(q.popFront())  # Output: -1\n"
   ]
  },
  {
   "cell_type": "code",
   "execution_count": 31,
   "id": "76fcb427",
   "metadata": {},
   "outputs": [],
   "source": [
    "#Question 8**\n",
    "#For a stream of integers, implement a data structure that checks if the last `k` integers parsed in the stream are **equal** to `value`.\n",
    "#Implement the **DataStream** class:\n",
    "#`DataStream(int value, int k)` Initializes the object with an empty integer stream and the two integers `value` and `k`.\n",
    "#`boolean consec(int num)` Adds `num` to the stream of integers. Returns `true` if the last `k` integers are equal to `value`, and `false` otherwise. If there are less than `k` integers, the condition does not hold true, so returns `false`.\n",
    "#Example 1Input\n",
    "#[\"DataStream\", \"consec\", \"consec\", \"consec\", \"consec\"]\n",
    "#[[4, 3], [4], [4], [4], [3]] Output [null, false, false, true, false]\n",
    "#Explanation\n",
    "#DataStream dataStream = new DataStream(4, 3); //value = 4, k = 3\n",
    "#dataStream.consec(4); // Only 1 integer is parsed, so returns False.\n",
    "#dataStream.consec(4); // Only 2 integers are parsed.\n",
    "# // Since 2 is less than k, returns False.\n",
    "#dataStream.consec(4); // The 3 integers parsed are all equal to value, so returns True.\n",
    "#dataStream.consec(3); // The last k integers parsed in the stream are [4,4,3].\n",
    "#                      // Since 3 is not equal to value, it returns False."
   ]
  },
  {
   "cell_type": "code",
   "execution_count": 32,
   "id": "b0b54c1e",
   "metadata": {},
   "outputs": [],
   "source": [
    "from collections import deque\n",
    "\n",
    "class DataStream:\n",
    "    def __init__(self, value: int, k: int):\n",
    "        self.stream = deque()\n",
    "        self.value = value\n",
    "        self.k = k\n",
    "        self.count = 0\n",
    "\n",
    "    def consec(self, num: int) -> bool:\n",
    "        self.stream.append(num)\n",
    "        if num == self.value:\n",
    "            self.count += 1\n",
    "        if len(self.stream) > self.k:\n",
    "            prev_num = self.stream.popleft()\n",
    "            if prev_num == self.value:\n",
    "                self.count -= 1\n",
    "        return self.count == self.k\n"
   ]
  },
  {
   "cell_type": "code",
   "execution_count": 33,
   "id": "b8cec6f1",
   "metadata": {},
   "outputs": [
    {
     "name": "stdout",
     "output_type": "stream",
     "text": [
      "False\n",
      "False\n",
      "True\n",
      "False\n"
     ]
    }
   ],
   "source": [
    "dataStream = DataStream(4, 3)\n",
    "print(dataStream.consec(4))  # Output: False\n",
    "print(dataStream.consec(4))  # Output: False\n",
    "print(dataStream.consec(4))  # Output: True\n",
    "print(dataStream.consec(3))  # Output: False\n"
   ]
  }
 ],
 "metadata": {
  "kernelspec": {
   "display_name": "Python 3 (ipykernel)",
   "language": "python",
   "name": "python3"
  },
  "language_info": {
   "codemirror_mode": {
    "name": "ipython",
    "version": 3
   },
   "file_extension": ".py",
   "mimetype": "text/x-python",
   "name": "python",
   "nbconvert_exporter": "python",
   "pygments_lexer": "ipython3",
   "version": "3.9.13"
  }
 },
 "nbformat": 4,
 "nbformat_minor": 5
}

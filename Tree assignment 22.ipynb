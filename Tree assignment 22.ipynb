{
 "cells": [
  {
   "cell_type": "markdown",
   "id": "7d15ddfb",
   "metadata": {},
   "source": [
    "# Assignment Questions 22 "
   ]
  },
  {
   "cell_type": "code",
   "execution_count": 3,
   "id": "c4a3f6d5",
   "metadata": {},
   "outputs": [],
   "source": [
    "# Question-1:\n",
    "#Given a Binary Tree (Bt), convert it to a Doubly Linked List(DLL). The left and right pointers in nodes are to be used as previous and next pointers respectively in converted DLL. The order of nodes in DLL must be the same as in Inorder for the given Binary Tree. The first node of Inorder traversal (leftmost node in BT) must be the head node of the DLL."
   ]
  },
  {
   "cell_type": "code",
   "execution_count": 4,
   "id": "ac688306",
   "metadata": {},
   "outputs": [
    {
     "name": "stdout",
     "output_type": "stream",
     "text": [
      "5 10 30 20 35 \n"
     ]
    }
   ],
   "source": [
    "class TreeNode:\n",
    "    def __init__(self, value):\n",
    "        self.val = value\n",
    "        self.left = None\n",
    "        self.right = None\n",
    "        self.prev = None\n",
    "        self.next = None\n",
    "\n",
    "def binaryTreeToDLL(root):\n",
    "    if root is None:\n",
    "        return None\n",
    "\n",
    "    # Global variable to keep track of the previous node\n",
    "    global prev\n",
    "\n",
    "    # Recursively convert the left subtree\n",
    "    binaryTreeToDLL(root.left)\n",
    "\n",
    "    # Set the prev pointer of the current node\n",
    "    root.prev = prev\n",
    "\n",
    "    # If the previous node exists, set its next pointer\n",
    "    if prev:\n",
    "        prev.next = root\n",
    "\n",
    "    # Update the previous node to the current node\n",
    "    prev = root\n",
    "\n",
    "    # Recursively convert the right subtree\n",
    "    binaryTreeToDLL(root.right)\n",
    "\n",
    "    # Return the head of the DLL (leftmost node)\n",
    "    head = root\n",
    "    while head.prev:\n",
    "        head = head.prev\n",
    "\n",
    "    return head\n",
    "\n",
    "def printDLL(head):\n",
    "    current = head\n",
    "    while current:\n",
    "        print(current.val, end=\" \")\n",
    "        current = current.next\n",
    "    print()\n",
    "\n",
    "# Construct the binary tree\n",
    "root = TreeNode(10)\n",
    "root.left = TreeNode(5)\n",
    "root.right = TreeNode(20)\n",
    "root.right.left = TreeNode(30)\n",
    "root.right.right = TreeNode(35)\n",
    "\n",
    "# Convert the binary tree to a DLL\n",
    "prev = None\n",
    "head = binaryTreeToDLL(root)\n",
    "\n",
    "# Print the DLL\n",
    "printDLL(head)\n"
   ]
  },
  {
   "cell_type": "code",
   "execution_count": 5,
   "id": "4d59efb7",
   "metadata": {},
   "outputs": [],
   "source": [
    "#Question-2\n",
    "#A Given a binary tree, the task is to flip the binary tree towards the right direction that is clockwise. See the below examples to see the transformation.\n",
    "#In the flip operation, the leftmost node becomes the root of the flipped tree and its parent becomes its right child and the right sibling becomes its left child and the same should be done for all left most nodes recursively."
   ]
  },
  {
   "cell_type": "code",
   "execution_count": 6,
   "id": "761be7d7",
   "metadata": {},
   "outputs": [
    {
     "name": "stdout",
     "output_type": "stream",
     "text": [
      "3 1 5 2 4 "
     ]
    }
   ],
   "source": [
    "class TreeNode:\n",
    "    def __init__(self, value):\n",
    "        self.val = value\n",
    "        self.left = None\n",
    "        self.right = None\n",
    "\n",
    "def flipBinaryTree(root):\n",
    "    if root is None or (root.left is None and root.right is None):\n",
    "        return root\n",
    "\n",
    "    # Recursively flip the left and right subtrees\n",
    "    flippedLeft = flipBinaryTree(root.left)\n",
    "    flippedRight = flipBinaryTree(root.right)\n",
    "\n",
    "    # Swap the left and right children of the root node\n",
    "    root.left = flippedRight\n",
    "    root.right = flippedLeft\n",
    "\n",
    "    return root\n",
    "\n",
    "def inorderTraversal(root):\n",
    "    if root is None:\n",
    "        return\n",
    "\n",
    "    inorderTraversal(root.left)\n",
    "    print(root.val, end=\" \")\n",
    "    inorderTraversal(root.right)\n",
    "\n",
    "# Construct the binary tree\n",
    "root = TreeNode(1)\n",
    "root.left = TreeNode(2)\n",
    "root.right = TreeNode(3)\n",
    "root.left.left = TreeNode(4)\n",
    "root.left.right = TreeNode(5)\n",
    "\n",
    "# Flip the binary tree\n",
    "flippedRoot = flipBinaryTree(root)\n",
    "\n",
    "# Perform an inorder traversal to check the flipped tree\n",
    "inorderTraversal(flippedRoot)\n"
   ]
  },
  {
   "cell_type": "code",
   "execution_count": 7,
   "id": "4b5a1079",
   "metadata": {},
   "outputs": [],
   "source": [
    "#Question-3:\n",
    "#Given a binary tree, print all its root-to-leaf paths without using recursion. For example, consider the following Binary Tree.\n",
    "#Input:\n",
    "#    6\n",
    "#   /    \\\n",
    "#   3      5\n",
    "#  /   \\     \\\n",
    "# 2     5     4\n",
    "#     /   \\\n",
    "#    7     4\n",
    "\n",
    "#Output: There are 4 leaves, hence 4 root to leaf paths -\n",
    "# 6->3->2  6->3->5->7  6->3->5->4  6->5>4\n"
   ]
  },
  {
   "cell_type": "code",
   "execution_count": 10,
   "id": "17e19c59",
   "metadata": {},
   "outputs": [
    {
     "name": "stdout",
     "output_type": "stream",
     "text": [
      "->3->22\n",
      "->3->5->77\n",
      "->3->5->44\n",
      "->5->44\n"
     ]
    }
   ],
   "source": [
    "class TreeNode:\n",
    "    def __init__(self, value):\n",
    "        self.val = value\n",
    "        self.left = None\n",
    "        self.right = None\n",
    "\n",
    "def printRootToLeafPaths(root):\n",
    "    if root is None:\n",
    "        return\n",
    "\n",
    "    stack = [(root, \"\")]\n",
    "\n",
    "    while stack:\n",
    "        node, path = stack.pop()\n",
    "\n",
    "        if node.left is None and node.right is None:\n",
    "            print(path + str(node.val))\n",
    "\n",
    "        if node.right:\n",
    "            stack.append((node.right, path + \"->\" + str(node.right.val)))\n",
    "\n",
    "        if node.left:\n",
    "            stack.append((node.left, path + \"->\" + str(node.left.val)))\n",
    "\n",
    "# Construct the binary tree\n",
    "root = TreeNode(6)\n",
    "root.left = TreeNode(3)\n",
    "root.right = TreeNode(5)\n",
    "root.left.left = TreeNode(2)\n",
    "root.left.right = TreeNode(5)\n",
    "root.right.right = TreeNode(4)\n",
    "root.left.right.left = TreeNode(7)\n",
    "root.left.right.right = TreeNode(4)\n",
    "\n",
    "# Print all root-to-leaf paths\n",
    "printRootToLeafPaths(root)\n"
   ]
  },
  {
   "cell_type": "code",
   "execution_count": 8,
   "id": "133554f1",
   "metadata": {},
   "outputs": [],
   "source": [
    "#Question-4:\n",
    "#Given Preorder, Inorder and Postorder traversals of some tree. Write a program to check if they all are of the same tree.\n",
    "#Examples:**\n",
    "\n",
    "#Input : \n",
    "\n",
    "  #      Inorder -> 4 2 5 1 3\n",
    "  #      Preorder -> 1 2 4 5 3\n",
    " #       Postorder -> 4 5 2 3 1\n",
    "#Output : Yes\n",
    "#Explanation : \n",
    "\n",
    "#All of the above three traversals are of the same tree \n",
    "\n",
    " #                          1\n",
    " #                        /   \\\n",
    " #                       2     3\n",
    " #                     /   \\\n",
    " #                    4     5\n",
    "\n",
    "#Input : \n",
    "\n",
    "#        Inorder -> 4 2 5 1 3\n",
    "#        Preorder -> 1 5 4 2 3\n",
    "#        Postorder -> 4 1 2 3 5 Output : No\n"
   ]
  },
  {
   "cell_type": "code",
   "execution_count": 11,
   "id": "4e97f7a0",
   "metadata": {},
   "outputs": [
    {
     "name": "stdout",
     "output_type": "stream",
     "text": [
      "Output1: True\n",
      "Output2: True\n"
     ]
    }
   ],
   "source": [
    "class TreeNode:\n",
    "    def __init__(self, value):\n",
    "        self.val = value\n",
    "        self.left = None\n",
    "        self.right = None\n",
    "\n",
    "def isSameTree(inorder, preorder, postorder):\n",
    "    if not inorder or not preorder or not postorder:\n",
    "        return True\n",
    "\n",
    "    root = TreeNode(preorder[0])\n",
    "    idx = inorder.index(root.val)\n",
    "\n",
    "    left_inorder = inorder[:idx]\n",
    "    right_inorder = inorder[idx+1:]\n",
    "\n",
    "    left_preorder = preorder[1:idx+1]\n",
    "    right_preorder = preorder[idx+1:]\n",
    "\n",
    "    left_postorder = postorder[:idx]\n",
    "    right_postorder = postorder[idx:-1]\n",
    "\n",
    "    left_same = isSameTree(left_inorder, left_preorder, left_postorder)\n",
    "    right_same = isSameTree(right_inorder, right_preorder, right_postorder)\n",
    "\n",
    "    return left_same and right_same and (root.val == inorder[idx])\n",
    "\n",
    "# Test case 1\n",
    "inorder1 = [4, 2, 5, 1, 3]\n",
    "preorder1 = [1, 2, 4, 5, 3]\n",
    "postorder1 = [4, 5, 2, 3, 1]\n",
    "print(\"Output1:\", isSameTree(inorder1, preorder1, postorder1))  # True\n",
    "\n",
    "# Test case 2\n",
    "inorder2 = [4, 2, 5, 1, 3]\n",
    "preorder2 = [1, 5, 4, 2, 3]\n",
    "postorder2 = [4, 1, 2, 3, 5]\n",
    "print(\"Output2:\", isSameTree(inorder2, preorder2, postorder2))  # False\n"
   ]
  }
 ],
 "metadata": {
  "kernelspec": {
   "display_name": "Python 3 (ipykernel)",
   "language": "python",
   "name": "python3"
  },
  "language_info": {
   "codemirror_mode": {
    "name": "ipython",
    "version": 3
   },
   "file_extension": ".py",
   "mimetype": "text/x-python",
   "name": "python",
   "nbconvert_exporter": "python",
   "pygments_lexer": "ipython3",
   "version": "3.9.13"
  }
 },
 "nbformat": 4,
 "nbformat_minor": 5
}

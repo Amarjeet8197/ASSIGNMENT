{
 "cells": [
  {
   "cell_type": "markdown",
   "id": "1b7bc383",
   "metadata": {},
   "source": [
    "# Question 1\n",
    "Given three integer arrays arr1, arr2 and arr3 **sorted** in **strictly increasing** order, return a sorted array of **only** the integers that appeared in **all** three arrays"
   ]
  },
  {
   "cell_type": "code",
   "execution_count": 1,
   "id": "d904b675",
   "metadata": {},
   "outputs": [],
   "source": [
    "def find_common_elements(arr1, arr2, arr3):\n",
    "    ptr1 = ptr2 = ptr3 = 0\n",
    "    common_elements = []\n",
    "    \n",
    "    while ptr1 < len(arr1) and ptr2 < len(arr2) and ptr3 < len(arr3):\n",
    "        if arr1[ptr1] == arr2[ptr2] == arr3[ptr3]:\n",
    "            common_elements.append(arr1[ptr1])\n",
    "            ptr1 += 1\n",
    "            ptr2 += 1\n",
    "            ptr3 += 1\n",
    "        elif arr1[ptr1] < arr2[ptr2] or arr1[ptr1] < arr3[ptr3]:\n",
    "            ptr1 += 1\n",
    "        elif arr2[ptr2] < arr1[ptr1] or arr2[ptr2] < arr3[ptr3]:\n",
    "            ptr2 += 1\n",
    "        elif arr3[ptr3] < arr1[ptr1] or arr3[ptr3] < arr2[ptr2]:\n",
    "            ptr3 += 1\n",
    "    \n",
    "    return common_elements\n"
   ]
  },
  {
   "cell_type": "code",
   "execution_count": 2,
   "id": "43db9700",
   "metadata": {},
   "outputs": [
    {
     "name": "stdout",
     "output_type": "stream",
     "text": [
      "[1, 5]\n"
     ]
    }
   ],
   "source": [
    "arr1 = [1,2,3,4,5]\n",
    "arr2 = [1,2,5,7,9]\n",
    "arr3 = [1,3,4,5,8]\n",
    "\n",
    "result = find_common_elements(arr1, arr2, arr3)\n",
    "print(result)\n"
   ]
  },
  {
   "cell_type": "markdown",
   "id": "1004a0bd",
   "metadata": {},
   "source": [
    "# Question 2\n",
    "\n",
    "Given two **0-indexed** integer arrays nums1 and nums2, return *a list* answer *of size* 2 *where:*\n",
    "\n",
    "- answer[0] *is a list of all **distinct** integers in* nums1 *which are **not** present in* nums2*.*\n",
    "- answer[1] *is a list of all **distinct** integers in* nums2 *which are **not** present in* nums1.\n"
   ]
  },
  {
   "cell_type": "code",
   "execution_count": 3,
   "id": "3611ac31",
   "metadata": {},
   "outputs": [],
   "source": [
    "def find_disjoint_elements(nums1, nums2):\n",
    "    set1 = set(nums1)\n",
    "    set2 = set(nums2)\n",
    "    \n",
    "    distinct_nums1 = list(set1 - set2)\n",
    "    distinct_nums2 = list(set2 - set1)\n",
    "    \n",
    "    return [distinct_nums1, distinct_nums2]\n"
   ]
  },
  {
   "cell_type": "code",
   "execution_count": 4,
   "id": "b84ae510",
   "metadata": {},
   "outputs": [
    {
     "name": "stdout",
     "output_type": "stream",
     "text": [
      "[[1, 3], [4, 6]]\n"
     ]
    }
   ],
   "source": [
    "nums1 = [1,2,3]\n",
    "nums2 = [2,4,6]\n",
    "\n",
    "result = find_disjoint_elements(nums1, nums2)\n",
    "print(result)\n"
   ]
  },
  {
   "cell_type": "markdown",
   "id": "74bc3314",
   "metadata": {},
   "source": [
    "# Question 3\n",
    "Given a 2D integer array matrix, return *the **transpose** of* matrix.\n",
    "\n",
    "The **transpose** of a matrix is the matrix flipped over its main diagonal, switching the matrix's row and column indices.\n",
    "\n",
    "**Example 1:**\n",
    "\n",
    "Input: matrix = [[1,2,3],[4,5,6],[7,8,9]]\n",
    "\n",
    "Output: [[1,4,7],[2,5,8],[3,6,9]]\n"
   ]
  },
  {
   "cell_type": "code",
   "execution_count": 5,
   "id": "7bec1981",
   "metadata": {},
   "outputs": [],
   "source": [
    "def transpose_matrix(matrix):\n",
    "    rows = len(matrix)\n",
    "    cols = len(matrix[0])\n",
    "    \n",
    "    result = [[0] * rows for _ in range(cols)]\n",
    "    \n",
    "    for i in range(rows):\n",
    "        for j in range(cols):\n",
    "            result[j][i] = matrix[i][j]\n",
    "    \n",
    "    return result\n"
   ]
  },
  {
   "cell_type": "code",
   "execution_count": 6,
   "id": "f16c8ae8",
   "metadata": {},
   "outputs": [
    {
     "name": "stdout",
     "output_type": "stream",
     "text": [
      "[[1, 4, 7], [2, 5, 8], [3, 6, 9]]\n"
     ]
    }
   ],
   "source": [
    "matrix = [[1,2,3],[4,5,6],[7,8,9]]\n",
    "\n",
    "result = transpose_matrix(matrix)\n",
    "print(result)\n"
   ]
  },
  {
   "cell_type": "markdown",
   "id": "cd998c1a",
   "metadata": {},
   "source": [
    "# Question 4\n",
    "Given an integer array nums of 2n integers, group these integers into n pairs (a1, b1), (a2, b2), ..., (an, bn) such that the sum of min(ai, bi) for all i is **maximized**. Return *the maximized sum*.\n",
    "\n",
    "Example 1:\n",
    "\n",
    "Input: nums = [1,4,3,2]\n",
    "\n",
    "Output: 4"
   ]
  },
  {
   "cell_type": "code",
   "execution_count": 8,
   "id": "7c1e6ca9",
   "metadata": {},
   "outputs": [
    {
     "name": "stdout",
     "output_type": "stream",
     "text": [
      "4\n"
     ]
    }
   ],
   "source": [
    "def array_pair_sum(nums):\n",
    "    nums.sort()\n",
    "    max_sum = 0\n",
    "    \n",
    "    for i in range(0, len(nums), 2):\n",
    "        max_sum += nums[i]\n",
    "    \n",
    "    return max_sum\n",
    "nums = [1, 4, 3, 2]\n",
    "\n",
    "result = array_pair_sum(nums)\n",
    "print(result)\n"
   ]
  },
  {
   "cell_type": "markdown",
   "id": "98fe7007",
   "metadata": {},
   "source": [
    "# 5.Question\n",
    "You have n coins and you want to build a staircase with these coins. The staircase consists of k rows where the ith row has exactly i coins. The last row of the staircase **may be** incomplete.\n",
    "\n",
    "Given the integer n, return *the number of **complete rows** of the staircase you will build*"
   ]
  },
  {
   "cell_type": "code",
   "execution_count": 9,
   "id": "a2fba923",
   "metadata": {},
   "outputs": [
    {
     "name": "stdout",
     "output_type": "stream",
     "text": [
      "2\n"
     ]
    }
   ],
   "source": [
    "def arrange_coins(n):\n",
    "    complete_rows = 0\n",
    "    remaining_coins = n\n",
    "    row = 1\n",
    "    \n",
    "    while remaining_coins >= row:\n",
    "        remaining_coins -= row\n",
    "        complete_rows += 1\n",
    "        row += 1\n",
    "    \n",
    "    return complete_rows\n",
    "n = 5\n",
    "\n",
    "result = arrange_coins(n)\n",
    "print(result)\n"
   ]
  },
  {
   "cell_type": "markdown",
   "id": "91deba7b",
   "metadata": {},
   "source": [
    "# Question 6\n",
    "Given an integer array nums sorted in **non-decreasing** order, return *an array of **the squares of each number** sorted in non-decreasing order*.\n",
    "\n",
    "Example 1: Input: nums = [-4,-1,0,3,10] ,Output: [0,1,9,16,100]\n",
    "\n",
    "Explanation:** After squaring, the array becomes [16,1,0,9,100].,After sorting, it becomes [0,1,9,16,100]"
   ]
  },
  {
   "cell_type": "code",
   "execution_count": 10,
   "id": "759b4a86",
   "metadata": {},
   "outputs": [
    {
     "name": "stdout",
     "output_type": "stream",
     "text": [
      "[0, 1, 9, 16, 100]\n"
     ]
    }
   ],
   "source": [
    "def sorted_squares(nums):\n",
    "    result = []\n",
    "    \n",
    "    for num in nums:\n",
    "        result.append(num ** 2)\n",
    "    \n",
    "    result.sort()\n",
    "    \n",
    "    return result\n",
    "nums = [-4, -1, 0, 3, 10]\n",
    "\n",
    "result = sorted_squares(nums)\n",
    "print(result)\n"
   ]
  },
  {
   "cell_type": "markdown",
   "id": "50cb8092",
   "metadata": {},
   "source": [
    "# Question 7 \n",
    "You are given an m x n matrix M initialized with all 0's and an array of operations ops, where ops[i] = [ai, bi] means M[x][y] should be incremented by one for all 0 <= x < ai and 0 <= y < bi.\n",
    "\n",
    "Count and return *the number of maximum integers in the matrix after performing all the operations* ,Example 1:**\n",
    "\n",
    "![q4.jpg](https://s3-us-west-2.amazonaws.com/secure.notion-static.com/4d0890d0-7bc7-4f59-be8e-352d9f3c1c52/q4.jpg) ,Input:** m = 3, n = 3, ops = [[2,2],[3,3]] ,Output:** 4 ,Explanation:** The maximum integer in M is 2, and there are four of it in M. So return 4."
   ]
  },
  {
   "cell_type": "code",
   "execution_count": 11,
   "id": "c67f1cef",
   "metadata": {},
   "outputs": [
    {
     "name": "stdout",
     "output_type": "stream",
     "text": [
      "4\n"
     ]
    }
   ],
   "source": [
    "def max_count(m, n, ops):\n",
    "    min_row = m\n",
    "    min_col = n\n",
    "    \n",
    "    for op in ops:\n",
    "        min_row = min(min_row, op[0])\n",
    "        min_col = min(min_col, op[1])\n",
    "    \n",
    "    return min_row * min_col\n",
    "m = 3\n",
    "n = 3\n",
    "ops = [[2, 2], [3, 3]]\n",
    "\n",
    "result = max_count(m, n, ops)\n",
    "print(result)\n"
   ]
  },
  {
   "cell_type": "markdown",
   "id": "229f0d0f",
   "metadata": {},
   "source": [
    "# Question 8\n",
    "\n",
    "Given the array nums consisting of 2n elements in the form [x1,x2,...,xn,y1,y2,...,yn].\n",
    "\n",
    "*Return the array in the form* [x1,y1,x2,y2,...,xn,yn].\n",
    "\n",
    "**Example 1:**\n",
    "\n",
    "**Input:** nums = [2,5,1,3,4,7], n = 3\n",
    "\n",
    "**Output:** [2,3,5,4,1,7]\n",
    "\n",
    "**Explanation:** Since x1=2, x2=5, x3=1, y1=3, y2=4, y3=7 then the answer is [2,3,5,4,1,7].\n"
   ]
  },
  {
   "cell_type": "code",
   "execution_count": 12,
   "id": "0ccfc716",
   "metadata": {},
   "outputs": [
    {
     "name": "stdout",
     "output_type": "stream",
     "text": [
      "[2, 3, 5, 4, 1, 7]\n"
     ]
    }
   ],
   "source": [
    "def shuffle(nums, n):\n",
    "    nums_x = nums[:n]\n",
    "    nums_y = nums[n:]\n",
    "    \n",
    "    result = []\n",
    "    \n",
    "    for i in range(n):\n",
    "        result.append(nums_x[i])\n",
    "        result.append(nums_y[i])\n",
    "    \n",
    "    return result\n",
    "nums = [2, 5, 1, 3, 4, 7]\n",
    "n = 3\n",
    "\n",
    "result = shuffle(nums, n)\n",
    "print(result)\n"
   ]
  },
  {
   "cell_type": "code",
   "execution_count": null,
   "id": "62ea25e8",
   "metadata": {},
   "outputs": [],
   "source": []
  }
 ],
 "metadata": {
  "kernelspec": {
   "display_name": "Python 3 (ipykernel)",
   "language": "python",
   "name": "python3"
  },
  "language_info": {
   "codemirror_mode": {
    "name": "ipython",
    "version": 3
   },
   "file_extension": ".py",
   "mimetype": "text/x-python",
   "name": "python",
   "nbconvert_exporter": "python",
   "pygments_lexer": "ipython3",
   "version": "3.9.13"
  }
 },
 "nbformat": 4,
 "nbformat_minor": 5
}

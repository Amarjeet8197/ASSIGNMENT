{
 "cells": [
  {
   "cell_type": "markdown",
   "id": "8c330cf6",
   "metadata": {},
   "source": [
    "# DSA Assignment Questions 24"
   ]
  },
  {
   "cell_type": "code",
   "execution_count": 1,
   "id": "9c7428e5",
   "metadata": {},
   "outputs": [],
   "source": [
    "# QUE 1. **Roman to Integer** Roman numerals are represented by seven different symbols: `I`, `V`, `X`, `L`, `C`, `D` and `M`.\n",
    "#SymbolValue\n",
    "#I             1\n",
    "#V             5\n",
    "#X             10\n",
    "#L             50\n",
    "#C             100\n",
    "#D             500\n",
    "#M             1000\n",
    "#For example, `2` is written as `II` in Roman numeral, just two ones added together. `12` is written as `XII`, which is simply `X + II`. The number `27` is written as `XXVII`, which is `XX + V + II`.\n",
    "\n",
    "#Roman numerals are usually written largest to smallest from left to right. However, the numeral for four is not `IIII`. Instead, the number four is written as `IV`. Because the one is before the five we subtract it making four. The same principle applies to the number nine, which is written as `IX`. There are six instances where subtraction is used:\n",
    "\n",
    "#- `I` can be placed before `V` (5) and `X` (10) to make 4 and 9.\n",
    "#- `X` can be placed before `L` (50) and `C` (100) to make 40 and 90.\n",
    "#- `C` can be placed before `D` (500) and `M` (1000) to make 400 and 900 .Given a roman numeral, convert it to an integer.\n",
    "#Input: s = \"III\" Output: 3 Explanation: III = 3.\n",
    "#Input: s = \"LVIII\" Output: 58 Explanation: L = 50, V= 5, III = 3."
   ]
  },
  {
   "cell_type": "code",
   "execution_count": 3,
   "id": "1819a9b5",
   "metadata": {},
   "outputs": [
    {
     "name": "stdout",
     "output_type": "stream",
     "text": [
      "3\n",
      "58\n"
     ]
    }
   ],
   "source": [
    "def romanToInt(s):\n",
    "    symbol_values = {\n",
    "        'I': 1,\n",
    "        'V': 5,\n",
    "        'X': 10,\n",
    "        'L': 50,\n",
    "        'C': 100,\n",
    "        'D': 500,\n",
    "        'M': 1000\n",
    "    }\n",
    "\n",
    "    total = 0\n",
    "    n = len(s)\n",
    "\n",
    "    for i in range(n):\n",
    "        if i < n - 1 and symbol_values[s[i]] < symbol_values[s[i+1]]:\n",
    "            total -= symbol_values[s[i]]\n",
    "        else:\n",
    "            total += symbol_values[s[i]]\n",
    "\n",
    "    return total\n",
    "print(romanToInt(\"III\"))    # Output: 3\n",
    "print(romanToInt(\"LVIII\"))  # Output: 58\n",
    "\n"
   ]
  },
  {
   "cell_type": "code",
   "execution_count": 4,
   "id": "8281ea09",
   "metadata": {},
   "outputs": [],
   "source": [
    "#2. **Longest Substring Without Repeating Characters**\n",
    "#Given a string `s`, find the length of the **longest substring** without repeating characters.\n",
    "#Example 1:** Input: s = \"abcabcbb\" Output: 3\n",
    "#Explanation: The answer is \"abc\", with the length of 3.\n",
    "#Example 2:** Input: s = \"bbbbb\" Output: 1\n"
   ]
  },
  {
   "cell_type": "code",
   "execution_count": 6,
   "id": "e7a48cb3",
   "metadata": {},
   "outputs": [
    {
     "name": "stdout",
     "output_type": "stream",
     "text": [
      "3\n",
      "1\n"
     ]
    }
   ],
   "source": [
    "def lengthOfLongestSubstring(s):\n",
    "    n = len(s)\n",
    "    start = 0\n",
    "    end = 0\n",
    "    max_length = 0\n",
    "    seen = set()\n",
    "\n",
    "    while end < n:\n",
    "        if s[end] in seen:\n",
    "            max_length = max(max_length, end - start)\n",
    "            while s[start] != s[end]:\n",
    "                seen.remove(s[start])\n",
    "                start += 1\n",
    "            start += 1\n",
    "        else:\n",
    "            seen.add(s[end])\n",
    "        end += 1\n",
    "\n",
    "    max_length = max(max_length, end - start)\n",
    "\n",
    "    return max_length\n",
    "print(lengthOfLongestSubstring(\"abcabcbb\"))  # Output: 3\n",
    "print(lengthOfLongestSubstring(\"bbbbb\"))     # Output: 1\n"
   ]
  },
  {
   "cell_type": "code",
   "execution_count": 7,
   "id": "f18a8d9c",
   "metadata": {},
   "outputs": [],
   "source": [
    "# 3. **Majority Element**\n",
    "#Given an array `nums` of size `n`, return *the majority element*.\n",
    "#The majority element is the element that appears more than `⌊n / 2⌋` times. You may assume that the majority element always exists in the array.\n",
    "#Input: nums = [3,2,3] Output: 3\n",
    "#Input: nums = [2,2,1,1,1,2,2] Output: 2"
   ]
  },
  {
   "cell_type": "code",
   "execution_count": 10,
   "id": "9c0d98de",
   "metadata": {},
   "outputs": [
    {
     "name": "stdout",
     "output_type": "stream",
     "text": [
      "3\n",
      "2\n"
     ]
    }
   ],
   "source": [
    "def majorityElement(nums):\n",
    "    majority = None\n",
    "    count = 0\n",
    "\n",
    "    for num in nums:\n",
    "        if count == 0:\n",
    "            majority = num\n",
    "            count += 1\n",
    "        elif num == majority:\n",
    "            count += 1\n",
    "        else:\n",
    "            count -= 1\n",
    "\n",
    "    return majority\n",
    "print(majorityElement([3, 2, 3]))                # Output: 3\n",
    "print(majorityElement([2, 2, 1, 1, 1, 2, 2]))    # Output: 2\n",
    "\n"
   ]
  },
  {
   "cell_type": "code",
   "execution_count": 11,
   "id": "9241d391",
   "metadata": {},
   "outputs": [],
   "source": [
    "#4. **Group Anagram**\n",
    "#Given an array of strings `strs`, group **the anagrams** together. You can return the answer in **any order**.\n",
    "#An **Anagram** is a word or phrase formed by rearranging the letters of a different word or phrase, typically using all the original letters exactly once.\n",
    "#**Example 1:**Input: strs = [\"eat\",\"tea\",\"tan\",\"ate\",\"nat\",\"bat\"] Output: [[\"bat\"],[\"nat\",\"tan\"],[\"ate\",\"eat\",\"tea\"]]\n",
    "#Input: strs = [\"\"] Output: [[\"\"]]\n",
    "#Input: strs = [\"a\"] Output: [[\"a\"]]"
   ]
  },
  {
   "cell_type": "code",
   "execution_count": 14,
   "id": "caabcee0",
   "metadata": {},
   "outputs": [
    {
     "name": "stdout",
     "output_type": "stream",
     "text": [
      "[['eat', 'tea', 'ate'], ['tan', 'nat'], ['bat']]\n",
      "[['']]\n",
      "[['a']]\n"
     ]
    }
   ],
   "source": [
    "def groupAnagrams(strs):\n",
    "    anagram_groups = {}\n",
    "\n",
    "    for s in strs:\n",
    "        sorted_s = ''.join(sorted(s))\n",
    "\n",
    "        if sorted_s in anagram_groups:\n",
    "            anagram_groups[sorted_s].append(s)\n",
    "        else:\n",
    "            anagram_groups[sorted_s] = [s]\n",
    "\n",
    "    return list(anagram_groups.values())\n",
    "print(groupAnagrams([\"eat\", \"tea\", \"tan\", \"ate\", \"nat\", \"bat\"]))\n",
    "print(groupAnagrams([\"\"]))\n",
    "print(groupAnagrams([\"a\"]))"
   ]
  },
  {
   "cell_type": "code",
   "execution_count": 15,
   "id": "3fac71cc",
   "metadata": {},
   "outputs": [],
   "source": [
    "#5. **Ugly Numbers**\n",
    "#An **ugly number** is a positive integer whose prime factors are limited to `2`, `3`, and `5`.\n",
    "#Given an integer `n`, return *the* `nth` ***ugly number***.\n",
    "#Input: n = 10 Output: 12\n",
    "#Explanation: [1, 2, 3, 4, 5, 6, 8, 9, 10, 12] is the sequence of the first 10 ugly numbers.\n",
    "#Input: n = 1Output: 1\n",
    "#Explanation: 1 has no prime factors, therefore all of its prime factors are limited to 2, 3, and 5."
   ]
  },
  {
   "cell_type": "code",
   "execution_count": 17,
   "id": "27b1062c",
   "metadata": {},
   "outputs": [
    {
     "name": "stdout",
     "output_type": "stream",
     "text": [
      "12\n",
      "1\n"
     ]
    }
   ],
   "source": [
    "def nthUglyNumber(n):\n",
    "    ugly = [1]\n",
    "    p2 = p3 = p5 = 0\n",
    "    next_multiple_of_2 = 2\n",
    "    next_multiple_of_3 = 3\n",
    "    next_multiple_of_5 = 5\n",
    "\n",
    "    for _ in range(n - 1):\n",
    "        next_ugly = min(next_multiple_of_2, next_multiple_of_3, next_multiple_of_5)\n",
    "        ugly.append(next_ugly)\n",
    "\n",
    "        if next_ugly == next_multiple_of_2:\n",
    "            p2 += 1\n",
    "            next_multiple_of_2 = ugly[p2] * 2\n",
    "\n",
    "        if next_ugly == next_multiple_of_3:\n",
    "            p3 += 1\n",
    "            next_multiple_of_3 = ugly[p3] * 3\n",
    "\n",
    "        if next_ugly == next_multiple_of_5:\n",
    "            p5 += 1\n",
    "            next_multiple_of_5 = ugly[p5] * 5\n",
    "\n",
    "    return ugly[n - 1]\n",
    "print(nthUglyNumber(10))  # Output: 12\n",
    "print(nthUglyNumber(1))   # Output: 1\n"
   ]
  },
  {
   "cell_type": "code",
   "execution_count": 18,
   "id": "4581b9a5",
   "metadata": {},
   "outputs": [],
   "source": [
    "# 6. **Top K Frequent Words**\n",
    "#Given an array of strings `words` and an integer `k`, return *the* `k` *most frequent strings*.\n",
    "#Return the answer **sorted** by **the frequency** from highest to lowest. Sort the words with the same frequency by their **lexicographical order**.\n",
    "#**Example 1:**Input: words = [\"i\",\"love\",\"leetcode\",\"i\",\"love\",\"coding\"], k = 2 Output: [\"i\",\"love\"]\n",
    "#Input: words = [\"the\",\"day\",\"is\",\"sunny\",\"the\",\"the\",\"the\",\"sunny\",\"is\",\"is\"], k = 4Output: [\"the\",\"is\",\"sunny\",\"day\"]\n",
    "#Explanation: \"the\", \"is\", \"sunny\" and \"day\" are the four most frequent words, with the number of occurrence being 4, 3, 2 and 1 respectively."
   ]
  },
  {
   "cell_type": "code",
   "execution_count": 20,
   "id": "6e279ee3",
   "metadata": {},
   "outputs": [
    {
     "name": "stdout",
     "output_type": "stream",
     "text": [
      "['i', 'love']\n",
      "['the', 'is', 'sunny', 'day']\n"
     ]
    }
   ],
   "source": [
    "def topKFrequent(words, k):\n",
    "    word_count = {}\n",
    "\n",
    "    for word in words:\n",
    "        if word in word_count:\n",
    "            word_count[word] += 1\n",
    "        else:\n",
    "            word_count[word] = 1\n",
    "\n",
    "    sorted_words = sorted(word_count.keys(), key=lambda x: (-word_count[x], x))\n",
    "    return sorted_words[:k]\n",
    "print(topKFrequent([\"i\", \"love\", \"leetcode\", \"i\", \"love\", \"coding\"], 2))\n",
    "print(topKFrequent([\"the\", \"day\", \"is\", \"sunny\", \"the\", \"the\", \"the\", \"sunny\", \"is\", \"is\"], 4))"
   ]
  },
  {
   "cell_type": "code",
   "execution_count": 21,
   "id": "6b1aa4a1",
   "metadata": {},
   "outputs": [],
   "source": [
    "#7. **Sliding Window Maximum**\n",
    "#You are given an array of integers `nums`, there is a sliding window of size `k` which is moving from the very left of the array to the very right. You can only see the `k` numbers in the window. Each time the sliding window moves right by one position.\n",
    "#Return *the max sliding window*\n",
    "#Input: nums = [1,3,-1,-3,5,3,6,7], k = 3\n",
    "#Output: [3,3,5,5,6,7]\n",
    "#Explanation:\n",
    "#Window position                Max\n",
    "#---------------               -----\n",
    "#[1  3  -1] -3  5  3  6 7         3\n",
    "# 1 [3  -1  -3] 5  3  6 7         3\n",
    "# 1  3 [-1  -3  5] 3  6 7         5\n",
    "# 1  3  -1 [-3  5  3] 6 7         5\n",
    "# 1  3  -1  -3 [5  3  6]7         6\n",
    "# 1  3  -1  -3  5 [3  6  7]       7\n",
    "#Input: nums = [1], k = 1 Output: [1]"
   ]
  },
  {
   "cell_type": "code",
   "execution_count": 23,
   "id": "028bd3a7",
   "metadata": {},
   "outputs": [
    {
     "name": "stdout",
     "output_type": "stream",
     "text": [
      "[3, 3, 5, 5, 6, 7]\n",
      "[1]\n"
     ]
    }
   ],
   "source": [
    "from collections import deque\n",
    "\n",
    "def maxSlidingWindow(nums, k):\n",
    "    window = deque()\n",
    "    result = []\n",
    "\n",
    "    for i in range(len(nums)):\n",
    "        if window and window[0] <= i - k:\n",
    "            window.popleft()\n",
    "\n",
    "        while window and nums[window[-1]] <= nums[i]:\n",
    "            window.pop()\n",
    "\n",
    "        window.append(i)\n",
    "\n",
    "        if i >= k - 1:\n",
    "            result.append(nums[window[0]])\n",
    "\n",
    "    return result\n",
    "print(maxSlidingWindow([1, 3, -1, -3, 5, 3, 6, 7], 3))\n",
    "print(maxSlidingWindow([1], 1))"
   ]
  },
  {
   "cell_type": "code",
   "execution_count": 24,
   "id": "aae582c1",
   "metadata": {},
   "outputs": [],
   "source": [
    "#8. **Find K Closest Elements**\n",
    "#Given a **sorted** integer array `arr`, two integers `k` and `x`, return the `k` closest integers to `x` in the array. The result should also be sorted in ascending order.\n",
    "#An integer `a` is closer to `x` than an integer `b` if:\n",
    "#- `|a - x| < |b - x|`, or\n",
    "#`|a - x| == |b - x|` and `a < b`\n",
    "#**Example 1:**Input: arr = [1,2,3,4,5], k = 4, x = 3 Output: [1,2,3,4]\n",
    "#Input: arr = [1,2,3,4,5], k = 4, x = -1 Output: [1,2,3,4]"
   ]
  },
  {
   "cell_type": "code",
   "execution_count": 26,
   "id": "04245b7f",
   "metadata": {},
   "outputs": [
    {
     "name": "stdout",
     "output_type": "stream",
     "text": [
      "[2, 3, 4, 5]\n",
      "[1, 2, 3, 4]\n"
     ]
    }
   ],
   "source": [
    "def findClosestElements(arr, k, x):\n",
    "    left = 0\n",
    "    right = len(arr) - 1\n",
    "\n",
    "    while right - left + 1 > k:\n",
    "        diff1 = abs(arr[left] - x)\n",
    "        diff2 = abs(arr[right] - x)\n",
    "\n",
    "        if diff1 >= diff2:\n",
    "            left += 1\n",
    "        else:\n",
    "            right -= 1\n",
    "\n",
    "    return arr[left:right+1]\n",
    "print(findClosestElements([1, 2, 3, 4, 5], 4, 3))\n",
    "print(findClosestElements([1, 2, 3, 4, 5], 4, -1))\n"
   ]
  }
 ],
 "metadata": {
  "kernelspec": {
   "display_name": "Python 3 (ipykernel)",
   "language": "python",
   "name": "python3"
  },
  "language_info": {
   "codemirror_mode": {
    "name": "ipython",
    "version": 3
   },
   "file_extension": ".py",
   "mimetype": "text/x-python",
   "name": "python",
   "nbconvert_exporter": "python",
   "pygments_lexer": "ipython3",
   "version": "3.9.13"
  }
 },
 "nbformat": 4,
 "nbformat_minor": 5
}

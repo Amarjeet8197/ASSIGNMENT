{
 "cells": [
  {
   "cell_type": "markdown",
   "id": "95601e51",
   "metadata": {},
   "source": [
    "# Assignment 19 - Searching and Sorting "
   ]
  },
  {
   "cell_type": "code",
   "execution_count": 19,
   "id": "427a5ade",
   "metadata": {},
   "outputs": [],
   "source": [
    "# 1. **Merge k Sorted Lists**\n",
    "#You are given an array of `k` linked-lists `lists`, each linked-list is sorted in ascending order.Merge all the linked-lists into one sorted linked-list and return it.*\n",
    "#Input: lists = [[1,4,5],[1,3,4],[2,6]] Output: [1,1,2,3,4,4,5,6]\n",
    "#Explanation: The linked-lists are:\n",
    "#[\n",
    "#  1->4->5,\n",
    "#  1->3->4,\n",
    "# 2->6\n",
    "#]\n",
    "#merging them into one sorted list:\n",
    "#1->1->2->3->4->4->5->6\n",
    "#Input: lists = [] Output: []\n",
    "#Input: lists = [[]] Output: []"
   ]
  },
  {
   "cell_type": "code",
   "execution_count": 20,
   "id": "aab95a3e",
   "metadata": {},
   "outputs": [
    {
     "name": "stdout",
     "output_type": "stream",
     "text": [
      "1->1->2->3->4->4->5->6->\n",
      "\n"
     ]
    }
   ],
   "source": [
    "import heapq\n",
    "\n",
    "class ListNode:\n",
    "    def __init__(self, val=0, next=None):\n",
    "        self.val = val\n",
    "        self.next = next\n",
    "\n",
    "def mergeKLists(lists):\n",
    "    # Create a min-heap\n",
    "    min_heap = []\n",
    "    \n",
    "    # Add the first element from each list to the min-heap\n",
    "    for i in range(len(lists)):\n",
    "        if lists[i]:\n",
    "            heapq.heappush(min_heap, (lists[i].val, i))\n",
    "            lists[i] = lists[i].next\n",
    "    \n",
    "    # Create a dummy node as the head of the result linked list\n",
    "    dummy = ListNode()\n",
    "    curr = dummy\n",
    "    \n",
    "    # Merge the lists using the min-heap\n",
    "    while min_heap:\n",
    "        val, index = heapq.heappop(min_heap)\n",
    "        curr.next = ListNode(val)\n",
    "        curr = curr.next\n",
    "        \n",
    "        # Move to the next element in the list\n",
    "        if lists[index]:\n",
    "            heapq.heappush(min_heap, (lists[index].val, index))\n",
    "            lists[index] = lists[index].next\n",
    "    \n",
    "    return dummy.next\n",
    "# Example 1\n",
    "lists = [\n",
    "    ListNode(1, ListNode(4, ListNode(5))),\n",
    "    ListNode(1, ListNode(3, ListNode(4))),\n",
    "    ListNode(2, ListNode(6))\n",
    "]\n",
    "result = mergeKLists(lists)\n",
    "while result:\n",
    "    print(result.val, end=\"->\")\n",
    "    result = result.next\n",
    "# Output: 1->1->2->3->4->4->5->6\n",
    "print()\n",
    "\n",
    "# Example 2\n",
    "lists = []\n",
    "result = mergeKLists(lists)\n",
    "while result:\n",
    "    print(result.val, end=\"->\")\n",
    "    result = result.next\n",
    "# Output: (empty list)\n",
    "print()\n",
    "\n",
    "# Example 3\n",
    "lists = [[]]\n",
    "result = mergeKLists(lists)\n",
    "while result:\n",
    "    print(result.val, end=\"->\")\n",
    "    result = result.next\n",
    "# Output: (empty list)\n",
    "\n"
   ]
  },
  {
   "cell_type": "code",
   "execution_count": 21,
   "id": "b3c69ad1",
   "metadata": {},
   "outputs": [],
   "source": [
    "# 2. **Count of Smaller Numbers After Self**\n",
    "#Given an integer array `nums`, return *an integer array* `counts` *where* `counts[i]` *is the number of smaller elements to the right of* `nums[i]`.\n",
    "#Input: nums = [5,2,6,1] Output: [2,1,1,0]\n",
    "#Explanation: To the right of 5 there are2 smaller elements (2 and 1).To the right of 2 there is only1 smaller element (1).\n",
    "#To the right of 6 there is1 smaller element (1). To the right of 1 there is0 smaller element.\n",
    "#Input: nums = [-1] Output: [0]\n",
    "#Input: nums = [-1,-1] Output: [0,0]"
   ]
  },
  {
   "cell_type": "code",
   "execution_count": 22,
   "id": "d20db9ba",
   "metadata": {},
   "outputs": [
    {
     "name": "stdout",
     "output_type": "stream",
     "text": [
      "6 1 1 1 0 1 0 "
     ]
    }
   ],
   "source": [
    "def merge(v, ans, l, mid, h):\n",
    "    t = []  # temporary array for merging both halves\n",
    "    i = l\n",
    "    j = mid+1\n",
    "    while (i < mid+1 and j <= h):\n",
    "       \n",
    "        # v[i][0] is greater than all\n",
    "        # the elements from j till h.\n",
    "        if v[i][0] > v[j][0]:\n",
    "            ans[v[i][1]] += (h-j+1)\n",
    "            t.append(v[i])\n",
    "            i += 1\n",
    "        else:\n",
    "            t.append(v[j])\n",
    "            j += 1\n",
    "             \n",
    "    # if any elements left in left array\n",
    "    while (i <= mid):\n",
    "        t.append(v[i])\n",
    "        i += 1\n",
    "         \n",
    "    # if any elements left in right array\n",
    "    while j <= h:\n",
    "        t.append(v[j])\n",
    "        j += 1\n",
    "         \n",
    "    # putting elements back in main array in\n",
    "    # descending order\n",
    "    k = 0\n",
    "    i = l\n",
    "    while (i <= h):\n",
    "        v[i] = t[k]\n",
    "        i += 1\n",
    "        k += 1\n",
    " \n",
    "def mergesort(v, ans, i, j):\n",
    "    if i < j:\n",
    "        mid = (i+j)//2\n",
    "         \n",
    "        # calling mergesort for left half\n",
    "        mergesort(v, ans, i, mid)\n",
    "         \n",
    "        # calling mergesort for right half\n",
    "        mergesort(v, ans, mid + 1, j)\n",
    "         \n",
    "        # merging both halves and generating answer\n",
    "        merge(v, ans, i, mid, j)\n",
    " \n",
    " \n",
    "def constructLowerArray(arr, n):\n",
    "    v = []\n",
    "     \n",
    "    # inserting elements and corresponding index as pair\n",
    "    for i in range(n):\n",
    "        v.append([arr[i], i])\n",
    "         \n",
    "    # answer array for keeping count initialized by 0\n",
    "    ans = [0]*n\n",
    "     \n",
    "    # calling mergesort\n",
    "    mergesort(v, ans, 0, n-1)\n",
    "    return ans\n",
    " \n",
    "# Driver Code\n",
    "arr = [12, 1, 2, 3, 0, 11, 4]\n",
    "n = len(arr)\n",
    "ans = constructLowerArray(arr, n)\n",
    "for x in ans:\n",
    "    print(x, end=\" \")"
   ]
  },
  {
   "cell_type": "code",
   "execution_count": 23,
   "id": "c935234a",
   "metadata": {},
   "outputs": [],
   "source": [
    "#3. **Sort an Array**\n",
    "#Given an array of integers `nums`, sort the array in ascending order and return it.\n",
    "#You must solve the problem **without using any built-in** functions in `O(nlog(n))` time complexity and with the smallest space complexity possible.\n",
    "#Input: nums = [5,2,3,1] Output: [1,2,3,5]\n",
    "#Explanation: After sorting the array, the positions of some numbers are not changed (for example, 2 and 3), while the positions of other numbers are changed (for example, 1 and 5).\n",
    "#Input: nums = [5,1,1,2,0,0] Output: [0,0,1,1,2,5]\n",
    "#Explanation: Note that the values of nums are not necessairly unique."
   ]
  },
  {
   "cell_type": "code",
   "execution_count": 24,
   "id": "ceebf704",
   "metadata": {},
   "outputs": [],
   "source": [
    "def partition(nums, low, high):\n",
    "    pivot = nums[high]\n",
    "    i = low - 1\n",
    "    \n",
    "    for j in range(low, high):\n",
    "        if nums[j] <= pivot:\n",
    "            i += 1\n",
    "            nums[i], nums[j] = nums[j], nums[i]\n",
    "    \n",
    "    nums[i + 1], nums[high] = nums[high], nums[i + 1]\n",
    "    return i + 1\n",
    "\n",
    "def quickSort(nums, low, high):\n",
    "    if low < high:\n",
    "        pivot_index = partition(nums, low, high)\n",
    "        quickSort(nums, low, pivot_index - 1)\n",
    "        quickSort(nums, pivot_index + 1, high)\n",
    "\n",
    "def sortArray(nums):\n",
    "    quickSort(nums, 0, len(nums) - 1)\n",
    "    return nums\n"
   ]
  },
  {
   "cell_type": "code",
   "execution_count": 25,
   "id": "8d031bda",
   "metadata": {},
   "outputs": [
    {
     "name": "stdout",
     "output_type": "stream",
     "text": [
      "[1, 2, 3, 5]\n",
      "[0, 0, 1, 1, 2, 5]\n"
     ]
    }
   ],
   "source": [
    "# Example 1\n",
    "nums = [5, 2, 3, 1]\n",
    "result = sortArray(nums)\n",
    "print(result)\n",
    "# Output: [1, 2, 3, 5]\n",
    "\n",
    "# Example 2\n",
    "nums = [5, 1, 1, 2, 0, 0]\n",
    "result = sortArray(nums)\n",
    "print(result)\n",
    "# Output: [0, 0\n"
   ]
  },
  {
   "cell_type": "code",
   "execution_count": 26,
   "id": "63f29cb7",
   "metadata": {},
   "outputs": [],
   "source": [
    "#4. **Move all zeroes to end of array**\n",
    "#Given an array of random numbers, Push all the zero’s of a given array to the end of the array. For example, if the given arrays is {1, 9, 8, 4, 0, 0, 2, 7, 0, 6, 0}, it should be changed to {1, 9, 8, 4, 2, 7, 6, 0, 0, 0, 0}. The order of all other elements should be same. Expected time complexity is O(n) and extra space is O(1).\n",
    "#Input :  arr[] = {1, 2, 0, 4, 3, 0, 5, 0}; Output : arr[] = {1, 2, 4, 3, 5, 0, 0, 0};\n",
    "#Input : arr[]  = {1, 2, 0, 0, 0, 3, 6}; Output : arr[] = {1, 2, 3, 6, 0, 0, 0};"
   ]
  },
  {
   "cell_type": "code",
   "execution_count": 27,
   "id": "e3a8b21c",
   "metadata": {},
   "outputs": [],
   "source": [
    "def moveZeroes(nums):\n",
    "    left = 0\n",
    "    right = len(nums) - 1\n",
    "    \n",
    "    while left < right:\n",
    "        if nums[left] == 0:\n",
    "            while nums[right] == 0 and right > left:\n",
    "                right -= 1\n",
    "            \n",
    "            nums[left], nums[right] = nums[right], nums[left]\n",
    "        \n",
    "        left += 1\n",
    "    \n",
    "    return nums\n"
   ]
  },
  {
   "cell_type": "code",
   "execution_count": 28,
   "id": "f4ff933d",
   "metadata": {},
   "outputs": [
    {
     "name": "stdout",
     "output_type": "stream",
     "text": [
      "[1, 9, 8, 4, 6, 7, 2, 0, 0, 0, 0]\n",
      "[1, 2, 5, 4, 3, 0, 0, 0]\n",
      "[1, 2, 6, 3, 0, 0, 0]\n"
     ]
    }
   ],
   "source": [
    "# Example 1\n",
    "nums = [1, 9, 8, 4, 0, 0, 2, 7, 0, 6, 0]\n",
    "result = moveZeroes(nums)\n",
    "print(result)\n",
    "# Output: [1, 9, 8, 4, 2, 7, 6, 0, 0, 0, 0]\n",
    "\n",
    "# Example 2\n",
    "nums = [1, 2, 0, 4, 3, 0, 5, 0]\n",
    "result = moveZeroes(nums)\n",
    "print(result)\n",
    "# Output: [1, 2, 4, 3, 5, 0, 0, 0]\n",
    "\n",
    "# Example 3\n",
    "nums = [1, 2, 0, 0, 0, 3, 6]\n",
    "result = moveZeroes(nums)\n",
    "print(result)\n",
    "# Output: [1, 2, 3, 6, 0, 0, 0]\n"
   ]
  },
  {
   "cell_type": "code",
   "execution_count": 29,
   "id": "862bae0b",
   "metadata": {},
   "outputs": [],
   "source": [
    "# 5. **Rearrange array in alternating positive & negative items with O(1) extra space**\n",
    "#Given an **array of positive** and **negative numbers**, arrange them in an **alternate** fashion such that every positive number is followed by a negative and vice-versa maintaining the **order of appearance**. The number of positive and negative numbers need not be equal. If there are more positive numbers they appear at the end of the array.\n",
    "#If there are more negative numbers, they too appear at the end of the array.\n",
    "#**Examples:** Input:  arr[] = {1, 2, 3, -4, -1, 4} Output: arr[] = {-4, 1, -1, 2, 3, 4}\n",
    "#Input:  arr[] = {-5, -2, 5, 2, 4, 7, 1, 8, 0, -8} Output: arr[] = {-5, 5, -2, 2, -8, 4, 7, 1, 8, 0}"
   ]
  },
  {
   "cell_type": "code",
   "execution_count": 30,
   "id": "74d634ef",
   "metadata": {},
   "outputs": [
    {
     "name": "stdout",
     "output_type": "stream",
     "text": [
      "[-1, -4, 3, 2, 1, 4]\n",
      "[-5, -2, -8, 2, 4, 7, 1, 8, 0, 5]\n"
     ]
    }
   ],
   "source": [
    "def rearrangeArray(nums):\n",
    "    positive = 0\n",
    "    negative = len(nums) - 1\n",
    "\n",
    "    # Find the last negative element\n",
    "    while negative >= 0 and nums[negative] >= 0:\n",
    "        negative -= 1\n",
    "\n",
    "    while positive < negative:\n",
    "        if nums[positive] >= 0:\n",
    "            # Swap positive with the last negative element\n",
    "            nums[positive], nums[negative] = nums[negative], nums[positive]\n",
    "            negative -= 1\n",
    "            while negative >= 0 and nums[negative] >= 0:\n",
    "                negative -= 1\n",
    "\n",
    "        positive += 1\n",
    "\n",
    "    return nums\n",
    "# Example 1\n",
    "nums = [1, 2, 3, -4, -1, 4]\n",
    "result = rearrangeArray(nums)\n",
    "print(result)\n",
    "# Output: [-4, 1, -1, 2, 3, 4]\n",
    "\n",
    "# Example 2\n",
    "nums = [-5, -2, 5, 2, 4, 7, 1, 8, 0, -8]\n",
    "result = rearrangeArray(nums)\n",
    "print(result)\n",
    "# Output: [-5, 5, -2, 2, -8, 4, 7, 1, 8, 0]\n",
    "\n"
   ]
  },
  {
   "cell_type": "code",
   "execution_count": 31,
   "id": "988f8694",
   "metadata": {},
   "outputs": [],
   "source": [
    "# **6. Merge two sorted arrays**\n",
    "#Given two sorted arrays, the task is to merge them in a sorted manner.\n",
    "#**Examples:** Input: arr1[] = { 1, 3, 4, 5}, arr2[] = {2, 4, 6, 8}  Output: arr3[] = {1, 2, 3, 4, 4, 5, 6, 8}\n",
    "# Input: arr1[] = { 5, 8, 9}, arr2[] = {4, 7, 8} Output: arr3[] = {4, 5, 7, 8, 8, 9}"
   ]
  },
  {
   "cell_type": "code",
   "execution_count": 32,
   "id": "79e08bc1",
   "metadata": {},
   "outputs": [
    {
     "name": "stdout",
     "output_type": "stream",
     "text": [
      "[1, 2, 3, 4, 4, 5, 6, 8]\n",
      "[4, 5, 7, 8, 8, 9]\n"
     ]
    }
   ],
   "source": [
    "def mergeSortedArrays(arr1, arr2):\n",
    "    merged = []\n",
    "    i = 0\n",
    "    j = 0\n",
    "\n",
    "    while i < len(arr1) and j < len(arr2):\n",
    "        if arr1[i] <= arr2[j]:\n",
    "            merged.append(arr1[i])\n",
    "            i += 1\n",
    "        else:\n",
    "            merged.append(arr2[j])\n",
    "            j += 1\n",
    "\n",
    "    while i < len(arr1):\n",
    "        merged.append(arr1[i])\n",
    "        i += 1\n",
    "\n",
    "    while j < len(arr2):\n",
    "        merged.append(arr2[j])\n",
    "        j += 1\n",
    "\n",
    "    return merged\n",
    "# Example 1\n",
    "arr1 = [1, 3, 4, 5]\n",
    "arr2 = [2, 4, 6, 8]\n",
    "result = mergeSortedArrays(arr1, arr2)\n",
    "print(result)\n",
    "# Output: [1, 2, 3, 4, 4, 5, 6, 8]\n",
    "\n",
    "# Example 2\n",
    "arr1 = [5, 8, 9]\n",
    "arr2 = [4, 7, 8]\n",
    "result = mergeSortedArrays(arr1, arr2)\n",
    "print(result)\n",
    "# Output: [4, 5, 7, 8, 8, 9]\n",
    "\n"
   ]
  },
  {
   "cell_type": "code",
   "execution_count": 33,
   "id": "bd54deb0",
   "metadata": {},
   "outputs": [],
   "source": [
    "# 7. **Intersection of Two Arrays**\n",
    "#Given two integer arrays `nums1` and `nums2`, return *an array of their intersection*. Each element in the result must be **unique** and you may return the result in **any order**.\n",
    "#Input: nums1 = [1,2,2,1], nums2 = [2,2] Output: [2]\n",
    "#Input: nums1 = [4,9,5], nums2 = [9,4,9,8,4] Output: [9,4]Explanation: [4,9] is also accepted."
   ]
  },
  {
   "cell_type": "code",
   "execution_count": 34,
   "id": "3fb2bf22",
   "metadata": {},
   "outputs": [
    {
     "name": "stdout",
     "output_type": "stream",
     "text": [
      "[2]\n",
      "[9, 4]\n"
     ]
    }
   ],
   "source": [
    "def intersection(nums1, nums2):\n",
    "    set1 = set(nums1)\n",
    "    set2 = set(nums2)\n",
    "    intersection = set1.intersection(set2)\n",
    "    return list(intersection)\n",
    "# Example 1\n",
    "nums1 = [1, 2, 2, 1]\n",
    "nums2 = [2, 2]\n",
    "result = intersection(nums1, nums2)\n",
    "print(result)\n",
    "# Output: [2]\n",
    "\n",
    "# Example 2\n",
    "nums1 = [4, 9, 5]\n",
    "nums2 = [9, 4, 9, 8, 4]\n",
    "result = intersection(nums1, nums2)\n",
    "print(result)\n",
    "# Output: [9, 4]\n"
   ]
  },
  {
   "cell_type": "code",
   "execution_count": 35,
   "id": "34be9e1f",
   "metadata": {},
   "outputs": [],
   "source": [
    "#8. **Intersection of Two Arrays II**\n",
    "#Given two integer arrays `nums1` and `nums2`, return *an array of their intersection*. Each element in the result must appear as many times as it shows in both arrays and you may return the result in **any order**.\n",
    "#Example 1:**Input: nums1 = [1,2,2,1], nums2 = [2,2] Output: [2,2]\n",
    "#Input: nums1 = [4,9,5], nums2 = [9,4,9,8,4] Output: [4,9] Explanation: [9,4] is also accepted."
   ]
  },
  {
   "cell_type": "code",
   "execution_count": 36,
   "id": "83c1cb9d",
   "metadata": {},
   "outputs": [
    {
     "name": "stdout",
     "output_type": "stream",
     "text": [
      "[2, 2]\n",
      "[4, 9]\n"
     ]
    }
   ],
   "source": [
    "def intersect(nums1, nums2):\n",
    "    count1 = {}\n",
    "    count2 = {}\n",
    "\n",
    "    for num in nums1:\n",
    "        count1[num] = count1.get(num, 0) + 1\n",
    "\n",
    "    for num in nums2:\n",
    "        count2[num] = count2.get(num, 0) + 1\n",
    "\n",
    "    intersection = []\n",
    "\n",
    "    for num in count1:\n",
    "        if num in count2:\n",
    "            occurrences = min(count1[num], count2[num])\n",
    "            intersection.extend([num] * occurrences)\n",
    "\n",
    "    return intersection\n",
    "# Example 1\n",
    "nums1 = [1, 2, 2, 1]\n",
    "nums2 = [2, 2]\n",
    "result = intersect(nums1, nums2)\n",
    "print(result)\n",
    "# Output: [2, 2]\n",
    "\n",
    "# Example 2\n",
    "nums1 = [4, 9, 5]\n",
    "nums2 = [9, 4, 9, 8, 4]\n",
    "result = intersect(nums1, nums2)\n",
    "print(result)\n",
    "# Output: [4, 9]\n"
   ]
  },
  {
   "cell_type": "code",
   "execution_count": null,
   "id": "8469eaf3",
   "metadata": {},
   "outputs": [],
   "source": []
  }
 ],
 "metadata": {
  "kernelspec": {
   "display_name": "Python 3 (ipykernel)",
   "language": "python",
   "name": "python3"
  },
  "language_info": {
   "codemirror_mode": {
    "name": "ipython",
    "version": 3
   },
   "file_extension": ".py",
   "mimetype": "text/x-python",
   "name": "python",
   "nbconvert_exporter": "python",
   "pygments_lexer": "ipython3",
   "version": "3.9.13"
  }
 },
 "nbformat": 4,
 "nbformat_minor": 5
}

{
 "cells": [
  {
   "cell_type": "markdown",
   "id": "49d2d85c",
   "metadata": {},
   "source": [
    "# Assignment Questions 7 "
   ]
  },
  {
   "cell_type": "code",
   "execution_count": 2,
   "id": "c198e4cb",
   "metadata": {},
   "outputs": [],
   "source": [
    "##Question 1** \n",
    "# Given two strings s and t, *determine if they are isomorphic*.Two strings s and t are isomorphic if the characters in s can be replaced to get t.\n",
    "\n",
    "#All occurrences of a character must be replaced with another character while preserving the order of characters. No two characters may map to the same character, but a character may map to itself.\n",
    "\n",
    "# Example 1: Input:** s = \"egg\", t = \"add\" Output:** true\n"
   ]
  },
  {
   "cell_type": "code",
   "execution_count": 4,
   "id": "64f8807c",
   "metadata": {},
   "outputs": [
    {
     "name": "stdout",
     "output_type": "stream",
     "text": [
      "True\n"
     ]
    }
   ],
   "source": [
    "def isomorphic_strings(s, t):\n",
    "    if len(s) != len(t):\n",
    "        return False\n",
    "\n",
    "    s_dict = {}\n",
    "    t_dict = {}\n",
    "\n",
    "    for i in range(len(s)):\n",
    "        s_char = s[i]\n",
    "        t_char = t[i]\n",
    "\n",
    "        if s_char in s_dict:\n",
    "            if s_dict[s_char] != t_char:\n",
    "                return False\n",
    "        else:\n",
    "            s_dict[s_char] = t_char\n",
    "\n",
    "        if t_char in t_dict:\n",
    "            if t_dict[t_char] != s_char:\n",
    "                return False\n",
    "        else:\n",
    "            t_dict[t_char] = s_char\n",
    "\n",
    "    return True\n",
    "s = \"egg\"\n",
    "t = \"add\"\n",
    "print(isomorphic_strings(s, t))\n",
    "\n"
   ]
  },
  {
   "cell_type": "code",
   "execution_count": 5,
   "id": "57d24291",
   "metadata": {},
   "outputs": [],
   "source": [
    "# Question 2**\n",
    "\n",
    "#Given a string num which represents an integer, return true *if* num *is a **strobogrammatic number***.A **strobogrammatic number** is a number that looks the same when rotated 180 degrees (looked at upside down).\n",
    "#Example 1:** Input:** num = \"69\"  Output:  true"
   ]
  },
  {
   "cell_type": "code",
   "execution_count": 7,
   "id": "fb5bd86f",
   "metadata": {},
   "outputs": [
    {
     "name": "stdout",
     "output_type": "stream",
     "text": [
      "True\n"
     ]
    }
   ],
   "source": [
    "def is_strobogrammatic(num):\n",
    "    mapping = {\n",
    "        \"0\": \"0\",\n",
    "        \"1\": \"1\",\n",
    "        \"6\": \"9\",\n",
    "        \"8\": \"8\",\n",
    "        \"9\": \"6\"\n",
    "    }\n",
    "\n",
    "    left = 0\n",
    "    right = len(num) - 1\n",
    "\n",
    "    while left <= right:\n",
    "        if num[left] not in mapping or mapping[num[left]] != num[right]:\n",
    "            return False\n",
    "        left += 1\n",
    "        right -= 1\n",
    "\n",
    "    return True\n",
    "num = \"69\"\n",
    "print(is_strobogrammatic(num))\n",
    "\n"
   ]
  },
  {
   "cell_type": "code",
   "execution_count": 8,
   "id": "8aa34030",
   "metadata": {},
   "outputs": [],
   "source": [
    "# Question 3**\n",
    "\n",
    "# Given two non-negative integers, num1 and num2 represented as string, return *the sum of* num1 *and* num2 *as a string*.You must solve the problem without using any built-in library for handling large integers (such as BigInteger). You must also not convert the inputs to integers directly.\n",
    "# Example 1:** Input:** num1 = \"11\", num2 = \"123\" ,Output:** \"134\""
   ]
  },
  {
   "cell_type": "code",
   "execution_count": 9,
   "id": "51cf8c29",
   "metadata": {},
   "outputs": [
    {
     "name": "stdout",
     "output_type": "stream",
     "text": [
      "134\n"
     ]
    }
   ],
   "source": [
    "def addStrings(num1, num2):\n",
    "    result = \"\"\n",
    "    i = len(num1) - 1\n",
    "    j = len(num2) - 1\n",
    "    carry = 0\n",
    "\n",
    "    while i >= 0 or j >= 0:\n",
    "        digit1 = int(num1[i]) if i >= 0 else 0\n",
    "        digit2 = int(num2[j]) if j >= 0 else 0\n",
    "\n",
    "        current_sum = digit1 + digit2 + carry\n",
    "        carry = current_sum // 10\n",
    "        result = str(current_sum % 10) + result\n",
    "\n",
    "        i -= 1\n",
    "        j -= 1\n",
    "\n",
    "    if carry > 0:\n",
    "        result = str(carry) + result\n",
    "\n",
    "    return result\n",
    "num1 = \"11\"\n",
    "num2 = \"123\"\n",
    "print(addStrings(num1, num2))\n"
   ]
  },
  {
   "cell_type": "code",
   "execution_count": 10,
   "id": "cc7e8103",
   "metadata": {},
   "outputs": [],
   "source": [
    "# Question 4**\n",
    "\n",
    "#Given a string s, reverse the order of characters in each word within a sentence while still preserving whitespace and initial word order.\n",
    "\n",
    "#Example 1:**  Input:** s = \"Let's take LeetCode contest\"  ,**Output:** \"s'teL ekat edoCteeL tsetnoc\""
   ]
  },
  {
   "cell_type": "code",
   "execution_count": 11,
   "id": "e4954c1c",
   "metadata": {},
   "outputs": [
    {
     "name": "stdout",
     "output_type": "stream",
     "text": [
      "s'teL ekat edoCteeL tsetnoc\n"
     ]
    }
   ],
   "source": [
    "def reverseWords(s):\n",
    "    words = s.split()\n",
    "    reversed_words = []\n",
    "\n",
    "    for word in words:\n",
    "        reversed_word = word[::-1]\n",
    "        reversed_words.append(reversed_word)\n",
    "\n",
    "    reversed_s = ' '.join(reversed_words)\n",
    "    return reversed_s\n",
    "s = \"Let's take LeetCode contest\"\n",
    "print(reverseWords(s))\n"
   ]
  },
  {
   "cell_type": "code",
   "execution_count": 12,
   "id": "21d10109",
   "metadata": {},
   "outputs": [],
   "source": [
    "# Question 5**\n",
    "\n",
    "#Given a string s and an integer k, reverse the first k characters for every 2k characters counting from the start of the string.\n",
    "\n",
    "#If there are fewer than k characters left, reverse all of them. If there are less than 2k but greater than or equal to k characters, then reverse the first k characters and leave the other as original.\n",
    "\n",
    "#**Example 1:** **Input:** s = \"abcdefg\", k = 2  **Output:**  \"bacdfeg\""
   ]
  },
  {
   "cell_type": "code",
   "execution_count": 13,
   "id": "b96d2403",
   "metadata": {},
   "outputs": [
    {
     "name": "stdout",
     "output_type": "stream",
     "text": [
      "bacdfeg\n"
     ]
    }
   ],
   "source": [
    "def reverseStr(s, k):\n",
    "    chars = list(s)\n",
    "    n = len(chars)\n",
    "\n",
    "    for i in range(0, n, 2 * k):\n",
    "        chars[i:i+k] = chars[i:i+k][::-1]\n",
    "\n",
    "    return ''.join(chars)\n",
    "s = \"abcdefg\"\n",
    "k = 2\n",
    "print(reverseStr(s, k))\n"
   ]
  },
  {
   "cell_type": "code",
   "execution_count": 14,
   "id": "1373f8b7",
   "metadata": {},
   "outputs": [],
   "source": [
    "#Question 6**\n",
    "\n",
    "#Given two strings s and goal, return true *if and only if* s *can become* goal *after some number of **shifts** on* s.\n",
    "\n",
    "#A **shift** on s consists of moving the leftmost character of s to the rightmost position.\n",
    "\n",
    "#For example, if s = \"abcde\", then it will be \"bcdea\" after one shift.**Example 1:** **Input:** s = \"abcde\", goal = \"cdeab\"\n",
    "\n",
    "#**Output:** true"
   ]
  },
  {
   "cell_type": "code",
   "execution_count": 15,
   "id": "10a2a84a",
   "metadata": {},
   "outputs": [
    {
     "name": "stdout",
     "output_type": "stream",
     "text": [
      "True\n"
     ]
    }
   ],
   "source": [
    "def rotateString(s, goal):\n",
    "    if len(s) != len(goal):\n",
    "        return False\n",
    "\n",
    "    concat = s + s\n",
    "    return goal in concat\n",
    "s = \"abcde\"\n",
    "goal = \"cdeab\"\n",
    "print(rotateString(s, goal))\n"
   ]
  },
  {
   "cell_type": "code",
   "execution_count": 16,
   "id": "9210266f",
   "metadata": {},
   "outputs": [],
   "source": [
    "# Question 7**\n",
    "\n",
    "#Given two strings s and t, return true *if they are equal when both are typed into empty text editors*. '#' means a backspace character.\n",
    "\n",
    "#Note that after backspacing an empty text, the text will continue empty.**Example 1:** **Input:** s = \"ab#c\", t = \"ad#c\"\n",
    "\n",
    "#**Output:** true **Explanation:** Both s and t become \"ac\"."
   ]
  },
  {
   "cell_type": "code",
   "execution_count": 17,
   "id": "3d88c763",
   "metadata": {},
   "outputs": [
    {
     "name": "stdout",
     "output_type": "stream",
     "text": [
      "True\n"
     ]
    }
   ],
   "source": [
    "def backspaceCompare(s, t):\n",
    "    def process_string(string):\n",
    "        stack = []\n",
    "        for ch in string:\n",
    "            if ch != '#':\n",
    "                stack.append(ch)\n",
    "            elif stack:\n",
    "                stack.pop()\n",
    "        return ''.join(stack)\n",
    "\n",
    "    processed_s = process_string(s)\n",
    "    processed_t = process_string(t)\n",
    "\n",
    "    return processed_s == processed_t\n",
    "s = \"ab#c\"\n",
    "t = \"ad#c\"\n",
    "print(backspaceCompare(s, t))\n"
   ]
  },
  {
   "cell_type": "code",
   "execution_count": 18,
   "id": "bd345ffc",
   "metadata": {},
   "outputs": [],
   "source": [
    "# Question 8**\n",
    "\n",
    "# You are given an array coordinates, coordinates[i] = [x, y], where [x, y] represents the coordinate of a point. Check if these points make a straight line in the XY plane.\n",
    "\n",
    "# **Example 1:** **Input:** coordinates = [[1,2],[2,3],[3,4],[4,5],[5,6],[6,7]]  **Output:** true"
   ]
  },
  {
   "cell_type": "code",
   "execution_count": 19,
   "id": "ba174ff7",
   "metadata": {},
   "outputs": [
    {
     "name": "stdout",
     "output_type": "stream",
     "text": [
      "True\n"
     ]
    }
   ],
   "source": [
    "def checkStraightLine(coordinates):\n",
    "    x1, y1 = coordinates[0]\n",
    "    x2, y2 = coordinates[1]\n",
    "\n",
    "    # Calculate the reference slope\n",
    "    reference_slope = (y2 - y1) / (x2 - x1)\n",
    "\n",
    "    for i in range(2, len(coordinates)):\n",
    "        x, y = coordinates[i]\n",
    "        current_slope = (y - y1) / (x - x1)\n",
    "\n",
    "        if current_slope != reference_slope:\n",
    "            return False\n",
    "\n",
    "    return True\n",
    "coordinates = [[1,2],[2,3],[3,4],[4,5],[5,6],[6,7]]\n",
    "print(checkStraightLine(coordinates))\n"
   ]
  },
  {
   "cell_type": "code",
   "execution_count": null,
   "id": "439e1a89",
   "metadata": {},
   "outputs": [],
   "source": []
  }
 ],
 "metadata": {
  "kernelspec": {
   "display_name": "Python 3 (ipykernel)",
   "language": "python",
   "name": "python3"
  },
  "language_info": {
   "codemirror_mode": {
    "name": "ipython",
    "version": 3
   },
   "file_extension": ".py",
   "mimetype": "text/x-python",
   "name": "python",
   "nbconvert_exporter": "python",
   "pygments_lexer": "ipython3",
   "version": "3.9.13"
  }
 },
 "nbformat": 4,
 "nbformat_minor": 5
}

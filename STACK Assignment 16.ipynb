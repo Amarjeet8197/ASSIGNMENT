{
 "cells": [
  {
   "cell_type": "markdown",
   "id": "1c77dba3",
   "metadata": {},
   "source": [
    "# STACK Assignment 16 "
   ]
  },
  {
   "cell_type": "code",
   "execution_count": 1,
   "id": "678897a9",
   "metadata": {},
   "outputs": [],
   "source": [
    "#Question 1\n",
    "#Given an array, for each element find the value of the nearest element to the right which is having a frequency greater than that of the current element. If there does not exist an answer for a position, then make the value ‘-1’\n",
    "#Input: a[] = [1, 1, 2, 3, 4, 2, 1] Output : [-1, -1, 1, 2, 2, 1, -1]\n",
    "#Explanation: Given array a[] = [1, 1, 2, 3, 4, 2, 1] Frequency of each element is: 3, 3, 2, 1, 1, 2, 3\n",
    "#Lets calls Next Greater Frequency element as NGF\n",
    "#1. For element a[0] = 1 which has a frequency = 3, As it has frequency of 3 and no other next element has frequency more than 3 so  '-1'\n",
    "#2. For element a[1] = 1 it will be -1 same logic   like a[0]\n",
    "#3. For element a[2] = 2 which has frequency = 2, NGF element is 1 at position = 6  with frequency of 3 > 2\n",
    "#4. For element a[3] = 3 which has frequency = 1,   NGF element is 2 at position = 5 with frequency   of 2 > 1\n",
    "#5. For element a[4] = 4 which has frequency = 1,  NGF element is 2 at position = 5 with frequency   of 2 > 1\n",
    "#6. For element a[5] = 2 which has frequency = 2,   NGF element is 1 at position = 6 with frequency   of 3 > 2\n",
    "#7. For element a[6] = 1 there is no element to its  right, hence -1\n",
    "#Input : a[] = [1, 1, 1, 2, 2, 2, 2, 11, 3, 3] Output : [2, 2, 2, -1, -1, -1, -1, 3, -1, -1]"
   ]
  },
  {
   "cell_type": "code",
   "execution_count": 2,
   "id": "1cd81998",
   "metadata": {},
   "outputs": [
    {
     "name": "stdout",
     "output_type": "stream",
     "text": [
      "[-1, -1, 1, 2, 2, 1, -1]\n",
      "[2, 2, 2, -1, -1, -1, -1, 3, -1, -1]\n"
     ]
    }
   ],
   "source": [
    "def find_nearest_greater_frequency(arr):\n",
    "    frequency = {}\n",
    "    stack = []\n",
    "    result = [-1] * len(arr)\n",
    "\n",
    "    # Calculate frequency of each element\n",
    "    for num in arr:\n",
    "        frequency[num] = frequency.get(num, 0) + 1\n",
    "\n",
    "    # Iterate array from right to left\n",
    "    for i in range(len(arr) - 1, -1, -1):\n",
    "        while stack and frequency[arr[i]] >= frequency[arr[stack[-1]]]:\n",
    "            stack.pop()\n",
    "\n",
    "        if stack:\n",
    "            result[i] = arr[stack[-1]]\n",
    "\n",
    "        stack.append(i)\n",
    "\n",
    "    return result\n",
    "\n",
    "# Example usage:\n",
    "arr1 = [1, 1, 2, 3, 4, 2, 1]\n",
    "result1 = find_nearest_greater_frequency(arr1)\n",
    "print(result1)  # Output: [-1, -1, 1, 2, 2, 1, -1]\n",
    "\n",
    "arr2 = [1, 1, 1, 2, 2, 2, 2, 11, 3, 3]\n",
    "result2 = find_nearest_greater_frequency(arr2)\n",
    "print(result2)  # Output: [2, 2, 2, -1, -1, -1, -1, 3, -1, -1]\n"
   ]
  },
  {
   "cell_type": "code",
   "execution_count": 3,
   "id": "d8a39e2a",
   "metadata": {},
   "outputs": [],
   "source": [
    "#Question 2\n",
    "#Given a stack of integers, sort it in ascending order using another temporary stack.\n",
    "#Examples:**Input : [34, 3, 31, 98, 92, 23 Output : [3, 23, 31, 34, 92, 98]\n",
    "#Input : [3, 5, 1, 4, 2, 8] Output : [1, 2, 3, 4, 5, 8]"
   ]
  },
  {
   "cell_type": "code",
   "execution_count": 4,
   "id": "ca9cde91",
   "metadata": {},
   "outputs": [],
   "source": [
    "def sort_stack(stack):\n",
    "    temp_stack = []\n",
    "\n",
    "    while stack:\n",
    "        temp = stack.pop()\n",
    "\n",
    "        while temp_stack and temp_stack[-1] > temp:\n",
    "            stack.append(temp_stack.pop())\n",
    "\n",
    "        temp_stack.append(temp)\n",
    "\n",
    "    while temp_stack:\n",
    "        stack.append(temp_stack.pop())\n",
    "\n",
    "    return stack"
   ]
  },
  {
   "cell_type": "code",
   "execution_count": 5,
   "id": "d02161ac",
   "metadata": {},
   "outputs": [
    {
     "name": "stdout",
     "output_type": "stream",
     "text": [
      "[98, 92, 34, 31, 23, 3]\n",
      "[8, 5, 4, 3, 2, 1]\n"
     ]
    }
   ],
   "source": [
    "# Example usage:\n",
    "stack1 = [34, 3, 31, 98, 92, 23]\n",
    "result1 = sort_stack(stack1)\n",
    "print(result1)  # Output: [3, 23, 31, 34, 92, 98]\n",
    "\n",
    "stack2 = [3, 5, 1, 4, 2, 8]\n",
    "result2 = sort_stack(stack2)\n",
    "print(result2)  # Output: [1, 2, 3, 4, 5, 8]\n"
   ]
  },
  {
   "cell_type": "code",
   "execution_count": 6,
   "id": "74e8cee8",
   "metadata": {},
   "outputs": [],
   "source": [
    "#Question 3**\n",
    "#Given a stack with **push()**, **pop()**, and **empty()** operations, The task is to delete the **middle** element ****of it without using any additional data structure.\n",
    "#Input  : Stack[] = [1, 2, 3, 4, 5] Output : Stack[] = [1, 2, 4, 5]\n",
    "#Input  : Stack[] = [1, 2, 3, 4, 5, 6] Output : Stack[] = [1, 2, 4, 5, 6]\n"
   ]
  },
  {
   "cell_type": "code",
   "execution_count": 7,
   "id": "5a9d8976",
   "metadata": {},
   "outputs": [],
   "source": [
    "from queue import Queue\n",
    "\n",
    "def check_queue_arrangement(queue):\n",
    "    stack = []\n",
    "    expected = 1\n",
    "\n",
    "    while not queue.empty():\n",
    "        front = queue.queue[0]\n",
    "\n",
    "        if front == expected:\n",
    "            queue.get()\n",
    "            expected += 1\n",
    "        elif stack and stack[-1] == expected:\n",
    "            stack.pop()\n",
    "            expected += 1\n",
    "        else:\n",
    "            stack.append(front)\n",
    "            queue.get()\n",
    "\n",
    "    while stack:\n",
    "        if stack[-1] == expected:\n",
    "            stack.pop()\n",
    "            expected += 1\n",
    "        else:\n",
    "            break\n",
    "\n",
    "    if not stack and expected == queue.qsize() + 1:\n",
    "        return \"Yes\"\n",
    "    else:\n",
    "        return \"No\""
   ]
  },
  {
   "cell_type": "code",
   "execution_count": 8,
   "id": "fbb48ad8",
   "metadata": {},
   "outputs": [
    {
     "name": "stdout",
     "output_type": "stream",
     "text": [
      "No\n",
      "No\n"
     ]
    }
   ],
   "source": [
    "\n",
    "# Example usage:\n",
    "queue1 = Queue()\n",
    "queue1.put(5)\n",
    "queue1.put(1)\n",
    "queue1.put(2)\n",
    "queue1.put(3)\n",
    "queue1.put(4)\n",
    "result1 = check_queue_arrangement(queue1)\n",
    "print(result1)  # Output: Yes\n",
    "\n",
    "queue2 = Queue()\n",
    "queue2.put(5)\n",
    "queue2.put(1)\n",
    "queue2.put(2)\n",
    "queue2.put(6)\n",
    "queue2.put(3)\n",
    "queue2.put(4)\n",
    "result2 = check_queue_arrangement(queue2)\n",
    "print(result2)  # Output: No"
   ]
  },
  {
   "cell_type": "code",
   "execution_count": 9,
   "id": "7aeee65e",
   "metadata": {},
   "outputs": [],
   "source": [
    "#Question 4**\n",
    "#Given a Queue consisting of first **n** natural numbers (in random order). The task is to check whether the given Queue elements can be arranged in increasing order in another Queue using a stack. The operation allowed are:\n",
    "#1. Push and pop elements from the stack\n",
    "#2. Pop (Or Dequeue) from the given Queue.\n",
    "#3. Push (Or Enqueue) in the another Queue.\n",
    "#Examples :** Input : Queue[] = { 5, 1, 2, 3, 4 }  Output : Yes  Pop the first element of the given Queue \n",
    "#i.e 5. Push 5 into the stack. \n",
    "#Now, pop all the elements of the given Queue and push them to second Queue. \n",
    "#Now, pop element 5 in the stack and push it to the second Queue.   \n",
    "#Input : Queue[] = { 5, 1, 2, 6, 3, 4 } Output : No \n",
    "#Push 5 to stack.  Pop 1, 2 from given Queue and push it to another Queue. \n",
    "#Pop 6 from given Queue and push to stack. Pop 3, 4 from given Queue and push to second Queue. \n",
    "#Now, from using any of above operation, we cannot push 5 into the second Queue because it is below the 6 in the stack."
   ]
  },
  {
   "cell_type": "code",
   "execution_count": 13,
   "id": "9c462777",
   "metadata": {},
   "outputs": [],
   "source": [
    "from queue import Queue\n",
    "\n",
    "def check_queue_arrangement(queue):\n",
    "    stack = []\n",
    "    second_queue = Queue()\n",
    "\n",
    "    # Pop the first element from the given queue and push it to the stack\n",
    "    stack.append(queue.get())\n",
    "\n",
    "    while not queue.empty():\n",
    "        front = queue.get()\n",
    "\n",
    "        if front < stack[-1]:\n",
    "            # If the front element is less than the top element of the stack,\n",
    "            # we cannot push it to the second queue as it will violate the increasing order\n",
    "            return \"No\"\n",
    "\n",
    "        # Push elements from the stack to the second queue until the top element of the stack is less than the front element\n",
    "        while stack and stack[-1] < front:\n",
    "            second_queue.put(stack.pop())\n",
    "\n",
    "        # Push the front element to the second queue\n",
    "        second_queue.put(front)\n",
    "\n",
    "    # Push the remaining elements from the stack to the second queue\n",
    "    while stack:\n",
    "        second_queue.put(stack.pop())\n",
    "\n",
    "    # Check if the elements in the second queue are in increasing order\n",
    "    expected = 1\n",
    "    while not second_queue.empty():\n",
    "        front = second_queue.get()\n",
    "        if front != expected:\n",
    "            return \"No\"\n",
    "        expected += 1\n",
    "\n",
    "    return \"Yes\""
   ]
  },
  {
   "cell_type": "code",
   "execution_count": 14,
   "id": "c2ddae1f",
   "metadata": {},
   "outputs": [
    {
     "name": "stdout",
     "output_type": "stream",
     "text": [
      "No\n"
     ]
    }
   ],
   "source": [
    "# Example usage:\n",
    "queue1 = Queue()\n",
    "queue1.put(5)\n",
    "queue1.put(1)\n",
    "queue1.put(2)\n",
    "queue1.put(3)\n",
    "queue1.put(4)\n",
    "result1 = check_queue_arrangement(queue1)\n",
    "print(result1)  # Output: Yes"
   ]
  },
  {
   "cell_type": "code",
   "execution_count": 15,
   "id": "b34d4a8f",
   "metadata": {},
   "outputs": [
    {
     "name": "stdout",
     "output_type": "stream",
     "text": [
      "No\n"
     ]
    }
   ],
   "source": [
    "queue2 = Queue()\n",
    "queue2.put(5)\n",
    "queue2.put(1)\n",
    "queue2.put(2)\n",
    "queue2.put(6)\n",
    "queue2.put(3)\n",
    "queue2.put(4)\n",
    "result2 = check_queue_arrangement(queue2)\n",
    "print(result2)  # Output: No"
   ]
  },
  {
   "cell_type": "code",
   "execution_count": 16,
   "id": "2901294f",
   "metadata": {},
   "outputs": [],
   "source": [
    "#**Question 5**\n",
    "#Given a number , write a program to reverse this number using stack.\n",
    "#**Examples:**Input : 365 Output : 563\n",
    "#Input : 6899 Output : 9986"
   ]
  },
  {
   "cell_type": "code",
   "execution_count": 20,
   "id": "a232be57",
   "metadata": {},
   "outputs": [],
   "source": [
    "class Stack:\n",
    "    def __init__(self):\n",
    "        self.stack = []\n",
    "\n",
    "    def push(self, item):\n",
    "        self.stack.append(item)\n",
    "\n",
    "    def pop(self):\n",
    "        if not self.is_empty():\n",
    "            return self.stack.pop()\n",
    "\n",
    "    def is_empty(self):\n",
    "        return len(self.stack) == 0\n",
    "\n",
    "def reverse_number(number):\n",
    "    stack = Stack()\n",
    "\n",
    "    # Push each digit of the number to the stack\n",
    "    for digit in str(number):\n",
    "        stack.push(digit)\n",
    "\n",
    "    reversed_number = ''\n",
    "\n",
    "    # Pop each digit from the stack to form the reversed number\n",
    "    while not stack.is_empty():\n",
    "        reversed_number += stack.pop()\n",
    "\n",
    "    return int(reversed_number)"
   ]
  },
  {
   "cell_type": "code",
   "execution_count": 21,
   "id": "53145327",
   "metadata": {},
   "outputs": [
    {
     "name": "stdout",
     "output_type": "stream",
     "text": [
      "563\n",
      "9986\n"
     ]
    }
   ],
   "source": [
    "\n",
    "# Example usage:\n",
    "number1 = 365\n",
    "reversed_number1 = reverse_number(number1)\n",
    "print(reversed_number1)  # Output: 563\n",
    "\n",
    "number2 = 6899\n",
    "reversed_number2 = reverse_number(number2)\n",
    "print(reversed_number2)  # Output: 9986"
   ]
  },
  {
   "cell_type": "code",
   "execution_count": 17,
   "id": "1d7abb51",
   "metadata": {},
   "outputs": [],
   "source": [
    "#Question 6**\n",
    "#Given an integer k and a **[queue](https://www.geeksforgeeks.org/queue-data-structure/)** of integers, \n",
    "#The task is to reverse the order of the first **k** elements of the queue,\n",
    "#leaving the other elements in the same relative order.\n",
    "#Only following standard operations are allowed on queue.\n",
    "#enqueue(x) :** Add an item x to rear of queue dequeue() :** Remove an item from front of queue\n",
    "#size() :** Returns number of elements in queue.front() :** Finds front item.\n"
   ]
  },
  {
   "cell_type": "code",
   "execution_count": 22,
   "id": "e621c9f4",
   "metadata": {},
   "outputs": [
    {
     "name": "stdout",
     "output_type": "stream",
     "text": [
      "3 2 1 4 5 "
     ]
    }
   ],
   "source": [
    "from queue import Queue\n",
    "\n",
    "def reverse_k_elements(queue, k):\n",
    "    if k < 0 or k > queue.qsize():\n",
    "        return \"Invalid value of k\"\n",
    "\n",
    "    stack = []\n",
    "    \n",
    "    # Remove the first k elements from the queue and push them onto the stack\n",
    "    for _ in range(k):\n",
    "        stack.append(queue.get())\n",
    "\n",
    "    # Enqueue the elements from the stack back into the queue\n",
    "    while stack:\n",
    "        queue.put(stack.pop())\n",
    "\n",
    "    # Rotate the remaining elements by k positions\n",
    "    for _ in range(queue.qsize() - k):\n",
    "        queue.put(queue.get())\n",
    "\n",
    "    return queue\n",
    "\n",
    "# Example usage:\n",
    "queue = Queue()\n",
    "queue.put(1)\n",
    "queue.put(2)\n",
    "queue.put(3)\n",
    "queue.put(4)\n",
    "queue.put(5)\n",
    "\n",
    "k = 3\n",
    "reversed_queue = reverse_k_elements(queue, k)\n",
    "\n",
    "while not reversed_queue.empty():\n",
    "    print(reversed_queue.get(), end=\" \")  # Output: 3 2 1 4 5\n"
   ]
  },
  {
   "cell_type": "code",
   "execution_count": 23,
   "id": "c2f332b3",
   "metadata": {},
   "outputs": [],
   "source": [
    "#QUESTION 7\n",
    "#Given a sequence of n strings, the task is to check if any two similar words come together and then destroy each other then print the number of words left in the sequence after this pairwise destruction.\n",
    "#Examples: Input : ab aa aa bcd ab Output : 3\n",
    "#As aa, aa destroys each other so,*\n",
    "#ab bcd ab is the new sequence.\n",
    "#Input :  tom jerry jerry tom Output : 0\n",
    "#As first both jerry will destroy each other.\n",
    "#Then sequence will be tom, tom they will also destroy each other. So, the final sequence doesn’t contain any word."
   ]
  },
  {
   "cell_type": "code",
   "execution_count": 24,
   "id": "87f38eec",
   "metadata": {},
   "outputs": [
    {
     "name": "stdout",
     "output_type": "stream",
     "text": [
      "3\n",
      "0\n"
     ]
    }
   ],
   "source": [
    "def count_remaining_words(sequence):\n",
    "    stack = []\n",
    "\n",
    "    for word in sequence:\n",
    "        if stack and stack[-1] == word:\n",
    "            stack.pop()\n",
    "        else:\n",
    "            stack.append(word)\n",
    "\n",
    "    return len(stack)\n",
    "\n",
    "# Example usage:\n",
    "sequence = ['ab', 'aa', 'aa', 'bcd', 'ab']\n",
    "remaining_words = count_remaining_words(sequence)\n",
    "print(remaining_words)  # Output: 3\n",
    "\n",
    "sequence = ['tom', 'jerry', 'jerry', 'tom']\n",
    "remaining_words = count_remaining_words(sequence)\n",
    "print(remaining_words)  # Output: 0\n"
   ]
  },
  {
   "cell_type": "code",
   "execution_count": 25,
   "id": "4bebeb73",
   "metadata": {},
   "outputs": [],
   "source": [
    "#Question 8**\n",
    "#Given an array of integers, the task is to find the maximum absolute difference between the nearest left and the right smaller element of every element in the array.\n",
    "#**Note:** If there is no smaller element on right side or left side of any element then we take zero as the smaller element. For example for the leftmost element, the nearest smaller element on the left side is considered as 0. Similarly, for rightmost elements, the smaller element on the right side is considered as 0.\n",
    "#Examples:Input : arr[] = {2, 1, 8}Output : 1\n",
    "#Left smaller  LS[] {0, 0, 1} Right smaller RS[] {1, 0, 0} Maximum Diff of abs(LS[i] - RS[i]) = 1\n",
    "\n",
    "#Input  : arr[] = {2, 4, 8, 7, 7, 9, 3} Output : 4\n",
    "#Left smaller   LS[] = {0, 2, 4, 4, 4, 7, 2}\n",
    "#Right smaller  RS[] = {0, 3, 7, 3, 3, 3, 0}\n",
    "#Maximum Diff of abs(LS[i] - RS[i]) = 7 - 3 = 4\n",
    "\n",
    "#Input : arr[] = {5, 1, 9, 2, 5, 1, 7} Output : 1"
   ]
  },
  {
   "cell_type": "code",
   "execution_count": 26,
   "id": "d93989bb",
   "metadata": {},
   "outputs": [],
   "source": [
    "def max_absolute_difference(arr):\n",
    "    n = len(arr)\n",
    "    left_smaller = [0] * n\n",
    "    right_smaller = [0] * n\n",
    "    stack = []\n",
    "\n",
    "    # Calculate nearest left smaller element\n",
    "    for i in range(n):\n",
    "        while stack and stack[-1] >= arr[i]:\n",
    "            stack.pop()\n",
    "\n",
    "        if stack:\n",
    "            left_smaller[i] = stack[-1]\n",
    "\n",
    "        stack.append(arr[i])\n",
    "\n",
    "    stack = []\n",
    "\n",
    "    # Calculate nearest right smaller element\n",
    "    for i in range(n - 1, -1, -1):\n",
    "        while stack and stack[-1] >= arr[i]:\n",
    "            stack.pop()\n",
    "\n",
    "        if stack:\n",
    "            right_smaller[i] = stack[-1]\n",
    "\n",
    "        stack.append(arr[i])\n",
    "\n",
    "    max_diff = 0\n",
    "\n",
    "    # Calculate maximum absolute difference\n",
    "    for i in range(n):\n",
    "        max_diff = max(max_diff, abs(left_smaller[i] - right_smaller[i]))\n",
    "\n",
    "    return max_diff"
   ]
  },
  {
   "cell_type": "code",
   "execution_count": 27,
   "id": "f640d756",
   "metadata": {},
   "outputs": [
    {
     "name": "stdout",
     "output_type": "stream",
     "text": [
      "1\n",
      "4\n",
      "1\n"
     ]
    }
   ],
   "source": [
    "\n",
    "# Example usage:\n",
    "arr = [2, 1, 8]\n",
    "result = max_absolute_difference(arr)\n",
    "print(result)  # Output: 1\n",
    "\n",
    "arr = [2, 4, 8, 7, 7, 9, 3]\n",
    "result = max_absolute_difference(arr)\n",
    "print(result)  # Output: 4\n",
    "\n",
    "arr = [5, 1, 9, 2, 5, 1, 7]\n",
    "result = max_absolute_difference(arr)\n",
    "print(result)  # Output: 1\n"
   ]
  }
 ],
 "metadata": {
  "kernelspec": {
   "display_name": "Python 3 (ipykernel)",
   "language": "python",
   "name": "python3"
  },
  "language_info": {
   "codemirror_mode": {
    "name": "ipython",
    "version": 3
   },
   "file_extension": ".py",
   "mimetype": "text/x-python",
   "name": "python",
   "nbconvert_exporter": "python",
   "pygments_lexer": "ipython3",
   "version": "3.9.13"
  }
 },
 "nbformat": 4,
 "nbformat_minor": 5
}

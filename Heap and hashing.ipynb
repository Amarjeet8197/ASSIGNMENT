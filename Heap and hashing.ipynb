{
 "cells": [
  {
   "cell_type": "markdown",
   "id": "3336e609",
   "metadata": {},
   "source": [
    "# Assignment 18 - Searching and Sorting"
   ]
  },
  {
   "cell_type": "code",
   "execution_count": 1,
   "id": "4c1ac28f",
   "metadata": {},
   "outputs": [],
   "source": [
    "# que 1. Given an array of intervals where intervals[i] = [starti, endi], merge all overlapping intervals, and return an array of the non-overlapping intervals that cover all the intervals in the input.\n",
    "# Input: intervals = [[1,3],[2,6],[8,10],[15,18]] Output: [[1,6],[8,10],[15,18]]\n",
    "# Explanation: Since intervals [1,3] and [2,6] overlap, merge them into [1,6].\n",
    "#Input: intervals = [[1,4],[4,5]] Output: [[1,5]]\n",
    "#Explanation: Intervals [1,4] and [4,5] are considered overlapping.\n",
    "#**Constraints:** `1 <= intervals.length <= 10000`\n",
    "#`intervals[i].length == 2`\n",
    "# `0 <= starti <= endi <= 10000`"
   ]
  },
  {
   "cell_type": "code",
   "execution_count": 2,
   "id": "ade73b91",
   "metadata": {},
   "outputs": [],
   "source": [
    "def merge_intervals(intervals):\n",
    "    # Sort the intervals based on their start times\n",
    "    intervals.sort(key=lambda x: x[0])\n",
    "\n",
    "    # Initialize an empty result array\n",
    "    merged = []\n",
    "\n",
    "    # Iterate through the sorted intervals\n",
    "    for interval in intervals:\n",
    "        # If the merged array is empty or there is no overlap\n",
    "        if not merged or interval[0] > merged[-1][1]:\n",
    "            merged.append(interval)\n",
    "        else:\n",
    "            # Update the end time of the previous merged interval\n",
    "            merged[-1][1] = max(merged[-1][1], interval[1])\n",
    "\n",
    "    return merged\n"
   ]
  },
  {
   "cell_type": "code",
   "execution_count": 3,
   "id": "3a715569",
   "metadata": {},
   "outputs": [
    {
     "name": "stdout",
     "output_type": "stream",
     "text": [
      "[[1, 6], [8, 10], [15, 18]]\n"
     ]
    }
   ],
   "source": [
    "intervals = [[1,3],[2,6],[8,10],[15,18]]\n",
    "result = merge_intervals(intervals)\n",
    "print(result)\n"
   ]
  },
  {
   "cell_type": "code",
   "execution_count": 4,
   "id": "fc0b9835",
   "metadata": {},
   "outputs": [
    {
     "name": "stdout",
     "output_type": "stream",
     "text": [
      "[[1, 5]]\n"
     ]
    }
   ],
   "source": [
    "intervals = [[1,4],[4,5]]\n",
    "result = merge_intervals(intervals)\n",
    "print(result)\n"
   ]
  },
  {
   "cell_type": "code",
   "execution_count": 5,
   "id": "9be0ccca",
   "metadata": {},
   "outputs": [],
   "source": [
    "# que 2. **Sort Colors**\n",
    "#Given an array `nums` with `n` objects colored red, white, or blue, sort them **[in-place](https://en.\n",
    "#wikipedia.org/wiki/In-place_algorithm)** so that objects of the same color are adjacent, with the colors in the order red, white, and blue.\n",
    "#We will use the integers `0`, `1`, and `2` to represent the color red, white, and blue, respectively.\n",
    "#You must solve this problem without using the library's sort function.\n",
    "#Input: nums = [2,0,2,1,1,0] Output: [0,0,1,1,2,2]\n",
    "#Input: nums = [2,0,1] Output: [0,1,2]"
   ]
  },
  {
   "cell_type": "code",
   "execution_count": 6,
   "id": "7427d289",
   "metadata": {},
   "outputs": [],
   "source": [
    "def sortColors(nums):\n",
    "    left = 0\n",
    "    curr = 0\n",
    "    right = len(nums) - 1\n",
    "\n",
    "    while curr <= right:\n",
    "        if nums[curr] == 0:\n",
    "            nums[curr], nums[left] = nums[left], nums[curr]\n",
    "            left += 1\n",
    "            curr += 1\n",
    "        elif nums[curr] == 2:\n",
    "            nums[curr], nums[right] = nums[right], nums[curr]\n",
    "            right -= 1\n",
    "        else:\n",
    "            curr += 1\n",
    "\n",
    "    return nums\n"
   ]
  },
  {
   "cell_type": "code",
   "execution_count": 7,
   "id": "3f2888be",
   "metadata": {},
   "outputs": [
    {
     "name": "stdout",
     "output_type": "stream",
     "text": [
      "[0, 0, 1, 1, 2, 2]\n",
      "[0, 1, 2]\n"
     ]
    }
   ],
   "source": [
    "nums = [2, 0, 2, 1, 1, 0]\n",
    "sorted_nums = sortColors(nums)\n",
    "print(sorted_nums)  # Output: [0, 0, 1, 1, 2, 2]\n",
    "\n",
    "nums = [2, 0, 1]\n",
    "sorted_nums = sortColors(nums)\n",
    "print(sorted_nums)  # Output: [0, 1, 2]\n"
   ]
  },
  {
   "cell_type": "code",
   "execution_count": 8,
   "id": "f28bdc1e",
   "metadata": {},
   "outputs": [
    {
     "name": "stdout",
     "output_type": "stream",
     "text": [
      "[0, 1, 2]\n"
     ]
    }
   ],
   "source": [
    "nums = [2, 0, 1]\n",
    "sorted_nums = sortColors(nums)\n",
    "print(sorted_nums)\n"
   ]
  },
  {
   "cell_type": "code",
   "execution_count": 9,
   "id": "b9ce6a32",
   "metadata": {},
   "outputs": [],
   "source": [
    "# 3. **First Bad Version Solution**\n",
    "#You are a product manager and currently leading a team to develop a new product. Unfortunately, the latest version of your product fails the quality check. Since each version is developed based on the previous version, all the versions after a bad version are also bad.\n",
    "#Suppose you have `n` versions `[1, 2, ..., n]` and you want to find out the first bad one, which causes all the following ones to be bad.\n",
    "#You are given an API `bool isBadVersion(version)` which returns whether `version` is bad. Implement a function to find the first bad version. You should minimize the number of calls to the API.\n",
    "#Input: n = 5, bad = 4 Output: 4 Explanation: call isBadVersion(3) -> false call isBadVersion(5) -> true call isBadVersion(4) -> true\n",
    "#Then 4 is the first bad version. Input: n = 1, bad = 1 Output: 1"
   ]
  },
  {
   "cell_type": "code",
   "execution_count": 11,
   "id": "4fe2b424",
   "metadata": {},
   "outputs": [
    {
     "data": {
      "text/plain": [
       "1"
      ]
     },
     "execution_count": 11,
     "metadata": {},
     "output_type": "execute_result"
    }
   ],
   "source": [
    "def firstBadVersion(n):\n",
    "    left = 1\n",
    "    right = n\n",
    "\n",
    "    while left < right:\n",
    "        mid = left + (right - left) // 2\n",
    "        if isBadVersion(mid):\n",
    "            right = mid\n",
    "        else:\n",
    "            left = mid + 1\n",
    "\n",
    "    return left\n",
    "4\n",
    "1\n"
   ]
  },
  {
   "cell_type": "code",
   "execution_count": 15,
   "id": "21928069",
   "metadata": {},
   "outputs": [],
   "source": [
    "# 4. **Maximum Gap**\n",
    "# Given an integer array `nums`, return *the maximum difference between two successive elements in its sorted form*. If the array contains less than two elements, return `0`.\n",
    "#You must write an algorithm that runs in linear time and uses linear extra space.\n",
    "#Example 1: Input: nums = [3,6,9,1] Output: 3\n",
    "#Explanation: The sorted form of the array is [1,3,6,9], either (3,6) or (6,9) has the maximum difference 3.\n",
    "#Input: nums = [10] Output: 0\n",
    "#Explanation: The array contains less than 2 elements, therefore return 0."
   ]
  },
  {
   "cell_type": "code",
   "execution_count": 16,
   "id": "892ee8a5",
   "metadata": {},
   "outputs": [],
   "source": [
    "def maximumGap(nums):\n",
    "    n = len(nums)\n",
    "    if n < 2:\n",
    "        return 0\n",
    "\n",
    "    max_num = max(nums)\n",
    "    bucket = [0] * (max_num + 1)\n",
    "\n",
    "    for num in nums:\n",
    "        bucket[num] += 1\n",
    "\n",
    "    max_gap = 0\n",
    "    prev = None\n",
    "\n",
    "    for i in range(max_num + 1):\n",
    "        if bucket[i] > 0:\n",
    "            if prev is not None:\n",
    "                max_gap = max(max_gap, i - prev)\n",
    "            prev = i\n",
    "\n",
    "    return max_gap\n"
   ]
  },
  {
   "cell_type": "code",
   "execution_count": 17,
   "id": "3874eb68",
   "metadata": {},
   "outputs": [
    {
     "name": "stdout",
     "output_type": "stream",
     "text": [
      "3\n",
      "0\n"
     ]
    }
   ],
   "source": [
    "nums = [3, 6, 9, 1]\n",
    "max_gap = maximumGap(nums)\n",
    "print(max_gap)  # Output: 3\n",
    "\n",
    "nums = [10]\n",
    "max_gap = maximumGap(nums)\n",
    "print(max_gap)  # Output: 0\n"
   ]
  },
  {
   "cell_type": "code",
   "execution_count": 18,
   "id": "93749392",
   "metadata": {},
   "outputs": [],
   "source": [
    "# 5.Contains Duplicate**\n",
    "#Given an integer array `nums`, return `true` if any value appears **at least twice** in the array, and return `false` if every element is distinct.\n",
    "#Example 1:** Input: nums = [1,2,3,1] Output: true 2. Input: nums = [1,2,3,4] Output: false\n",
    "#Input: nums = [1,1,1,3,3,4,3,2,4,2] Output: true"
   ]
  },
  {
   "cell_type": "code",
   "execution_count": 20,
   "id": "97e93eed",
   "metadata": {},
   "outputs": [
    {
     "name": "stdout",
     "output_type": "stream",
     "text": [
      "True\n",
      "False\n",
      "True\n"
     ]
    }
   ],
   "source": [
    "def containsDuplicate(nums):\n",
    "    uniqueSet = set()\n",
    "\n",
    "    for num in nums:\n",
    "        if num in uniqueSet:\n",
    "            return True\n",
    "        uniqueSet.add(num)\n",
    "\n",
    "    return False\n",
    "nums = [1, 2, 3, 1]\n",
    "contains_duplicate = containsDuplicate(nums)\n",
    "print(contains_duplicate)  # Output: True\n",
    "\n",
    "nums = [1, 2, 3, 4]\n",
    "contains_duplicate = containsDuplicate(nums)\n",
    "print(contains_duplicate)  # Output: False\n",
    "\n",
    "nums = [1, 1, 1, 3, 3, 4, 3, 2, 4, 2]\n",
    "contains_duplicate = containsDuplicate(nums)\n",
    "print(contains_duplicate)  # Output: True\n",
    "\n"
   ]
  },
  {
   "cell_type": "code",
   "execution_count": 21,
   "id": "0d9e8f60",
   "metadata": {},
   "outputs": [],
   "source": [
    "# 6. **Minimum Number of Arrows to Burst Balloons**\n",
    "#There are some spherical balloons taped onto a flat wall that represents the XY-plane. The balloons are represented as a 2D integer array `points` where `points[i] = [xstart, xend]` denotes a balloon whose **horizontal diameter** stretches between `xstart` and `xend`. You do not know the exact y-coordinates of the balloons.\n",
    "#Arrows can be shot up **directly vertically** (in the positive y-direction) from different points along the x-axis. A balloon with `xstart` and `xend` is **burst** by an arrow shot at `x` if `xstart <= x <= xend`. There is **no limit** to the number of arrows that can be shot. A shot arrow keeps traveling up infinitely, bursting any balloons in its path.\n",
    "#Given the array `points`, return *the **minimum** number of arrows that must be shot to burst all balloons*.\n",
    "#Input: points = [[10,16],[2,8],[1,6],[7,12]] Output: 2\n",
    "#Explanation: The balloons can be burst by 2 arrows:\n",
    "# Shoot an arrow at x = 6, bursting the balloons [2,8] and [1,6].\n",
    "# Shoot an arrow at x = 11, bursting the balloons [10,16] and [7,12].\n",
    "#Input: points = [[1,2],[3,4],[5,6],[7,8]] Output: 4\n",
    "#Explanation: One arrow needs to be shot for each balloon for a total of 4 arrows.\n",
    "#Input: points = [[1,2],[2,3],[3,4],[4,5]] Output: 2\n",
    "#Explanation: The balloons can be burst by 2 arrows:\n",
    "# Shoot an arrow at x = 2, bursting the balloons [1,2] and [2,3].\n",
    "# Shoot an arrow at x = 4, bursting the balloons [3,4] and [4,5]."
   ]
  },
  {
   "cell_type": "code",
   "execution_count": 25,
   "id": "78378b11",
   "metadata": {},
   "outputs": [
    {
     "name": "stdout",
     "output_type": "stream",
     "text": [
      "None\n",
      "None\n",
      "None\n"
     ]
    }
   ],
   "source": [
    "def findMinArrowShots(points):\n",
    "    if not points:\n",
    "        return 0\n",
    "\n",
    "    points.sort(key=lambda x: x[1])\n",
    "    end = points[0][1]\n",
    "    arrows = 1\n",
    "\n",
    "    for i in range(1, len(points)):\n",
    "        if points[i][0] > end:\n",
    "            arrows += 1\n",
    "            end = points[i][1]\n",
    "        else:\n",
    "            end = min(end, points[i][1])\n",
    "\n",
    "    return\n",
    "points = [[10, 16], [2, 8], [1, 6], [7, 12]]\n",
    "min_arrows = findMinArrowShots(points)\n",
    "print(min_arrows)  # Output: 2\n",
    "\n",
    "points = [[1, 2], [3, 4], [5, 6], [7, 8]]\n",
    "min_arrows = findMinArrowShots(points)\n",
    "print(min_arrows)  # Output: 4\n",
    "\n",
    "points = [[1, 2], [2, 3], [3, 4], [4, 5]]\n",
    "min_arrows = findMinArrowShots(points)\n",
    "print(min_arrows)  # Output: 2\n"
   ]
  },
  {
   "cell_type": "code",
   "execution_count": 26,
   "id": "a70c4e9c",
   "metadata": {},
   "outputs": [],
   "source": [
    "# 7. **Longest Increasing Subsequence**\n",
    "#Given an integer array `nums`, return *the length of the longest **strictly increasing***\n",
    "#subsequence***Input: nums = [10,9,2,5,3,7,101,18] Output: 4\n",
    "#Explanation: The longest increasing subsequence is [2,3,7,101], therefore the length is 4.\n",
    "#Input: nums = [0,1,0,3,2,3] Output: 4\n",
    "#Input: nums = [7,7,7,7,7,7,7] Output: 1"
   ]
  },
  {
   "cell_type": "code",
   "execution_count": 27,
   "id": "baa321c7",
   "metadata": {},
   "outputs": [],
   "source": [
    "def findMinArrowShots(points):\n",
    "    if not points:\n",
    "        return 0\n",
    "\n",
    "    points.sort(key=lambda x: x[1])\n",
    "    end = points[0][1]\n",
    "    arrows = 1\n",
    "\n",
    "    for i in range(1, len(points)):\n",
    "        if points[i][0] > end:\n",
    "            arrows += 1\n",
    "            end = points[i][1]\n",
    "        else:\n",
    "            end = min(end, points[i][1])\n",
    "\n",
    "    return arrows\n"
   ]
  },
  {
   "cell_type": "code",
   "execution_count": 28,
   "id": "f539b71d",
   "metadata": {},
   "outputs": [
    {
     "name": "stdout",
     "output_type": "stream",
     "text": [
      "2\n",
      "4\n",
      "2\n"
     ]
    }
   ],
   "source": [
    "points = [[10, 16], [2, 8], [1, 6], [7, 12]]\n",
    "min_arrows = findMinArrowShots(points)\n",
    "print(min_arrows)  # Output: 2\n",
    "\n",
    "points = [[1, 2], [3, 4], [5, 6], [7, 8]]\n",
    "min_arrows = findMinArrowShots(points)\n",
    "print(min_arrows)  # Output: 4\n",
    "\n",
    "points = [[1, 2], [2, 3], [3, 4], [4, 5]]\n",
    "min_arrows = findMinArrowShots(points)\n",
    "print(min_arrows)  # Output: 2\n"
   ]
  },
  {
   "cell_type": "code",
   "execution_count": 29,
   "id": "f6fcbb3f",
   "metadata": {},
   "outputs": [],
   "source": [
    "#8. **132 Pattern**\n",
    "#Given an array of `n` integers `nums`, a **132 pattern** is a subsequence of three integers `nums[i]`, `nums[j]` and `nums[k]` such that `i < j < k` and `nums[i] < nums[k] < nums[j]`.\n",
    "#Return `true` *if there is a **132 pattern** in* `nums`*, otherwise, return* `false`*.*\n",
    "#Example 1:**Input: nums = [1,2,3,4] Output: false\n",
    "#Explanation: There is no 132 pattern in the sequence.\n",
    "#Input: nums = [3,1,4,2] Output: true\n",
    "#Explanation: There is a 132 pattern in the sequence: [1, 4, 2]."
   ]
  },
  {
   "cell_type": "code",
   "execution_count": 31,
   "id": "cefa8140",
   "metadata": {},
   "outputs": [
    {
     "name": "stdout",
     "output_type": "stream",
     "text": [
      "True\n",
      "True\n"
     ]
    }
   ],
   "source": [
    "def find132pattern(nums):\n",
    "    stack = []\n",
    "    s3 = float('-inf')\n",
    "\n",
    "    for num in reversed(nums):\n",
    "        if num > s3:\n",
    "            return True\n",
    "        while stack and stack[-1] < num:\n",
    "            s3 = max(s3, stack.pop())\n",
    "        stack.append(num)\n",
    "\n",
    "    return False\n",
    "nums = [1, 2, 3, 4]\n",
    "has_pattern = find132pattern(nums)\n",
    "print(has_pattern)  # Output: False\n",
    "\n",
    "nums = [3, 1, 4, 2]\n",
    "has_pattern = find132pattern(nums)\n",
    "print(has_pattern)  # Output: True\n"
   ]
  }
 ],
 "metadata": {
  "kernelspec": {
   "display_name": "Python 3 (ipykernel)",
   "language": "python",
   "name": "python3"
  },
  "language_info": {
   "codemirror_mode": {
    "name": "ipython",
    "version": 3
   },
   "file_extension": ".py",
   "mimetype": "text/x-python",
   "name": "python",
   "nbconvert_exporter": "python",
   "pygments_lexer": "ipython3",
   "version": "3.9.13"
  }
 },
 "nbformat": 4,
 "nbformat_minor": 5
}

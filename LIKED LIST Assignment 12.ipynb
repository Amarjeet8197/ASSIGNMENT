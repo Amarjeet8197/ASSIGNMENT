{
 "cells": [
  {
   "cell_type": "markdown",
   "id": "58b244db",
   "metadata": {},
   "source": [
    "# LINKED LIST Assignment 12"
   ]
  },
  {
   "cell_type": "code",
   "execution_count": 1,
   "id": "6efcab9c",
   "metadata": {},
   "outputs": [],
   "source": [
    "# Question 1**\n",
    "\n",
    "#Given a singly linked list, delete **middle** of the linked list. For example, if given linked list is 1->2->**3**->4->5 then linked list should be modified to 1->2->4->5.If there are **even** nodes, then there would be **two middle** nodes, we need to delete the second middle element. For example, if given linked list is 1->2->3->4->5->6 then it should be modified to 1->2->3->5->6.If the input linked list is NULL or has 1 node, then it should return\n",
    "#NULL, Input:   ,LinkedList: 1->2->3->4->5 ,Output:1 2 4 5 ,Input: , LinkedList: 2->4->6->7->5-Output:2 4 6 5 1."
   ]
  },
  {
   "cell_type": "code",
   "execution_count": 4,
   "id": "2c6b9e8f",
   "metadata": {},
   "outputs": [
    {
     "name": "stdout",
     "output_type": "stream",
     "text": [
      "Input: 1 -> 2 -> 3 -> 4 -> 5\n",
      "Output: 1 2 4 5 Input:2->4->6->7->5 \n",
      "Output: 1 2 5 "
     ]
    }
   ],
   "source": [
    "class Node:\n",
    "    def __init__(self, data):\n",
    "        self.data = data\n",
    "        self.next = None\n",
    "\n",
    "def delete_middle(head):\n",
    "    if head is None or head.next is None:\n",
    "        return head\n",
    "\n",
    "    slow_ptr = head\n",
    "    fast_ptr = head\n",
    "    previous = None\n",
    "\n",
    "    while fast_ptr is not None and fast_ptr.next is not None:\n",
    "        fast_ptr = fast_ptr.next.next\n",
    "        previous = slow_ptr\n",
    "        slow_ptr = slow_ptr.next\n",
    "\n",
    "    if previous is None:\n",
    "        head = head.next\n",
    "    else:\n",
    "        previous.next = slow_ptr.next\n",
    "\n",
    "    return head\n",
    "\n",
    "# Example usage:\n",
    "# Create a linked list: 1 -> 2 -> 3 -> 4 -> 5\n",
    "head = Node(1)\n",
    "head.next = Node(2)\n",
    "head.next.next = Node(3)\n",
    "head.next.next.next = Node(4)\n",
    "head.next.next.next.next = Node(5)\n",
    "\n",
    "print(\"Input: 1 -> 2 -> 3 -> 4 -> 5\")\n",
    "head = delete_middle(head)\n",
    "print(\"Output:\", end=\" \")\n",
    "current = head\n",
    "while current is not None:\n",
    "    print(current.data, end=\" \")\n",
    "    current = current.next\n",
    "\n",
    "print(\"Input:2->4->6->7->5 \")\n",
    "head = delete_middle(head)\n",
    "print(\"Output:\", end=\" \")\n",
    "current = head\n",
    "while current is not None:\n",
    "    print(current.data, end=\" \")\n",
    "    current = current.next"
   ]
  },
  {
   "cell_type": "code",
   "execution_count": 5,
   "id": "aa464cf6",
   "metadata": {},
   "outputs": [],
   "source": [
    "#Question 2 .Given a linked list of **N** nodes. The task is to check if the linked list has a loop. Linked list can contain self loop.\n",
    "# Input: N = 3 ,value[] = {1,3,4},x(position at which tail is connected) = 2,Output:True\n",
    "#Input:,N = 4 ,value[] = {1,8,3,4} ,x = 0,Output:False"
   ]
  },
  {
   "cell_type": "code",
   "execution_count": 6,
   "id": "e506f81a",
   "metadata": {},
   "outputs": [
    {
     "name": "stdout",
     "output_type": "stream",
     "text": [
      "Input: 1 -> 3 -> 4 -> 3 (loop)\n",
      "Output: True\n"
     ]
    }
   ],
   "source": [
    "class Node:\n",
    "    def __init__(self, data):\n",
    "        self.data = data\n",
    "        self.next = None\n",
    "\n",
    "def detect_loop(head):\n",
    "    if head is None or head.next is None:\n",
    "        return False\n",
    "\n",
    "    slow_ptr = head\n",
    "    fast_ptr = head\n",
    "\n",
    "    while fast_ptr is not None and fast_ptr.next is not None:\n",
    "        slow_ptr = slow_ptr.next\n",
    "        fast_ptr = fast_ptr.next.next\n",
    "\n",
    "        if slow_ptr == fast_ptr:\n",
    "            return True\n",
    "\n",
    "    return False\n",
    "\n",
    "# Example usage:\n",
    "# Create a linked list with a loop: 1 -> 3 -> 4 -> 3 (loop)\n",
    "head = Node(1)\n",
    "head.next = Node(3)\n",
    "head.next.next = Node(4)\n",
    "head.next.next.next = head.next\n",
    "\n",
    "print(\"Input: 1 -> 3 -> 4 -> 3 (loop)\")\n",
    "has_loop = detect_loop(head)\n",
    "print(\"Output:\", has_loop)\n"
   ]
  },
  {
   "cell_type": "code",
   "execution_count": 10,
   "id": "cd6021b4",
   "metadata": {},
   "outputs": [
    {
     "name": "stdout",
     "output_type": "stream",
     "text": [
      "Input: 1 -> 8 -> 3 -> 4\n",
      "Output: False\n"
     ]
    }
   ],
   "source": [
    "# Create a linked list without a loop: 1 -> 8 -> 3 -> 4\n",
    "head = Node(1)\n",
    "head.next = Node(8)\n",
    "head.next.next = Node(3)\n",
    "head.next.next.next = Node(4)\n",
    "\n",
    "print(\"Input: 1 -> 8 -> 3 -> 4\")\n",
    "has_loop = detect_loop(head)\n",
    "print(\"Output:\", has_loop)"
   ]
  },
  {
   "cell_type": "code",
   "execution_count": 11,
   "id": "a602a222",
   "metadata": {},
   "outputs": [],
   "source": [
    "# Question .3 Given a linked list consisting of L nodes and given a number N. The task is to find the Nth node from the end of the linked list.\n",
    "#Input: N = 2 ,LinkedList: 1->2->3->4->5->6->7->8->9 ,Output:8\n",
    "#Input: N = 5,LinkedList: 10->5->100->5 ,Output:-1"
   ]
  },
  {
   "cell_type": "code",
   "execution_count": 12,
   "id": "57e70345",
   "metadata": {},
   "outputs": [
    {
     "name": "stdout",
     "output_type": "stream",
     "text": [
      "Input: 1 -> 2 -> 3 -> 4 -> 5 -> 6 -> 7 -> 8 -> 9\n",
      "Output: 8\n"
     ]
    }
   ],
   "source": [
    "class Node:\n",
    "    def __init__(self, data):\n",
    "        self.data = data\n",
    "        self.next = None\n",
    "\n",
    "def find_nth_from_end(head, N):\n",
    "    if head is None:\n",
    "        return None\n",
    "\n",
    "    main_ptr = head\n",
    "    ref_ptr = head\n",
    "\n",
    "    # Move ref_ptr N nodes ahead\n",
    "    count = 0\n",
    "    while count < N:\n",
    "        if ref_ptr is None:\n",
    "            return None  # Handle case where N is greater than the number of nodes\n",
    "        ref_ptr = ref_ptr.next\n",
    "        count += 1\n",
    "\n",
    "    # Move both pointers until ref_ptr reaches the end\n",
    "    while ref_ptr is not None:\n",
    "        main_ptr = main_ptr.next\n",
    "        ref_ptr = ref_ptr.next\n",
    "\n",
    "    return main_ptr.data\n",
    "\n",
    "# Example usage:\n",
    "# Create a linked list: 1 -> 2 -> 3 -> 4 -> 5 -> 6 -> 7 -> 8 -> 9\n",
    "head = Node(1)\n",
    "head.next = Node(2)\n",
    "head.next.next = Node(3)\n",
    "head.next.next.next = Node(4)\n",
    "head.next.next.next.next = Node(5)\n",
    "head.next.next.next.next.next = Node(6)\n",
    "head.next.next.next.next.next.next = Node(7)\n",
    "head.next.next.next.next.next.next.next = Node(8)\n",
    "head.next.next.next.next.next.next.next.next = Node(9)\n",
    "\n",
    "N = 2\n",
    "print(\"Input: 1 -> 2 -> 3 -> 4 -> 5 -> 6 -> 7 -> 8 -> 9\")\n",
    "result = find_nth_from_end(head, N)\n",
    "print(\"Output:\", result)\n"
   ]
  },
  {
   "cell_type": "code",
   "execution_count": 13,
   "id": "21bb0e13",
   "metadata": {},
   "outputs": [
    {
     "name": "stdout",
     "output_type": "stream",
     "text": [
      "Input: 10 -> 5 -> 100 -> 5\n",
      "Output: None\n"
     ]
    }
   ],
   "source": [
    "# Example usage:\n",
    "# Create a linked list: 10 -> 5 -> 100 -> 5\n",
    "head = Node(10)\n",
    "head.next = Node(5)\n",
    "head.next.next = Node(100)\n",
    "head.next.next.next = Node(5)\n",
    "\n",
    "N = 5\n",
    "print(\"Input: 10 -> 5 -> 100 -> 5\")\n",
    "result = find_nth_from_end(head, N)\n",
    "print(\"Output:\", result)"
   ]
  },
  {
   "cell_type": "code",
   "execution_count": 14,
   "id": "f3a2e73a",
   "metadata": {},
   "outputs": [],
   "source": [
    "# Question 4**\n",
    "\n",
    "#Given a singly linked list of characters, write a function that returns true if the given list is a palindrome, else false.\n",
    "#**Examples:**  Input: R->A->D->A->R->NULL ,Output:** Ye ,Input:** C->O->D->E->NULL, Output:** No\n"
   ]
  },
  {
   "cell_type": "code",
   "execution_count": 16,
   "id": "53e6b449",
   "metadata": {},
   "outputs": [
    {
     "name": "stdout",
     "output_type": "stream",
     "text": [
      "Input: C -> O -> D -> E\n",
      "Output: False\n"
     ]
    }
   ],
   "source": [
    "# Create a non-palindrome linked list: C -> O -> D -> E\n",
    "head = Node('C')\n",
    "head.next = Node('O')\n",
    "head.next.next = Node('D')\n",
    "head.next.next.next = Node('E')\n",
    "\n",
    "print(\"Input: C -> O -> D -> E\")\n",
    "is_palindrome_result = is_palindrome(head)\n",
    "print(\"Output:\", is_palindrome_result)\n"
   ]
  },
  {
   "cell_type": "code",
   "execution_count": 17,
   "id": "b0089ebd",
   "metadata": {},
   "outputs": [],
   "source": [
    "# Question 5**\n",
    "\n",
    "#Given a linked list of **N** nodes such that it may contain a loop.\n",
    "\n",
    "#A loop here means that the last node of the link list is connected to the node at position X(1-based index). If the link list does not have any loop, X=0.\n",
    "\n",
    "#Remove the loop from the linked list, if it is present, i.e. unlink the last node which is forming the loop.\n",
    "#Input:\n",
    "#N = 3 ,value[] = {1,3,4} ,X = 2 ,Output:1\n"
   ]
  },
  {
   "cell_type": "code",
   "execution_count": 18,
   "id": "cda23d02",
   "metadata": {},
   "outputs": [
    {
     "name": "stdout",
     "output_type": "stream",
     "text": [
      "Input: 1 -> 3 -> 4 -> 3 (loop)\n",
      "Output: 1\n"
     ]
    }
   ],
   "source": [
    "class Node:\n",
    "    def __init__(self, data):\n",
    "        self.data = data\n",
    "        self.next = None\n",
    "\n",
    "def detect_and_remove_loop(head):\n",
    "    if head is None or head.next is None:\n",
    "        return head\n",
    "\n",
    "    slow_ptr = head\n",
    "    fast_ptr = head\n",
    "\n",
    "    # Find the meeting point (if loop exists)\n",
    "    while fast_ptr is not None and fast_ptr.next is not None:\n",
    "        slow_ptr = slow_ptr.next\n",
    "        fast_ptr = fast_ptr.next.next\n",
    "\n",
    "        if slow_ptr == fast_ptr:\n",
    "            break\n",
    "\n",
    "    # If no loop exists, return the linked list\n",
    "    if slow_ptr != fast_ptr:\n",
    "        return head\n",
    "\n",
    "    # Move slow_ptr to the head and find the loop start node\n",
    "    slow_ptr = head\n",
    "\n",
    "    while slow_ptr.next != fast_ptr.next:\n",
    "        slow_ptr = slow_ptr.next\n",
    "        fast_ptr = fast_ptr.next\n",
    "\n",
    "    # Remove the loop by setting the next pointer to NULL\n",
    "    fast_ptr.next = None\n",
    "\n",
    "    return head\n",
    "\n",
    "# Example usage:\n",
    "# Create a linked list: 1 -> 3 -> 4 -> 3 (loop)\n",
    "head = Node(1)\n",
    "head.next = Node(3)\n",
    "head.next.next = Node(4)\n",
    "head.next.next.next = head.next\n",
    "\n",
    "print(\"Input: 1 -> 3 -> 4 -> 3 (loop)\")\n",
    "head = detect_and_remove_loop(head)\n",
    "print(\"Output:\", head.data)\n"
   ]
  },
  {
   "cell_type": "code",
   "execution_count": 19,
   "id": "f4787019",
   "metadata": {},
   "outputs": [
    {
     "name": "stdout",
     "output_type": "stream",
     "text": [
      "Input: 1 -> 8 -> 3 -> 4\n",
      "Output: 1\n"
     ]
    }
   ],
   "source": [
    "# Create a linked list: 1 -> 8 -> 3 -> 4\n",
    "head = Node(1)\n",
    "head.next = Node(8)\n",
    "head.next.next = Node(3)\n",
    "head.next.next.next = Node(4)\n",
    "\n",
    "print(\"Input: 1 -> 8 -> 3 -> 4\")\n",
    "head = detect_and_remove_loop(head)\n",
    "print(\"Output:\", head.data)"
   ]
  },
  {
   "cell_type": "code",
   "execution_count": 20,
   "id": "7e66e87a",
   "metadata": {},
   "outputs": [
    {
     "name": "stdout",
     "output_type": "stream",
     "text": [
      "Input: 1 -> 2 -> 3 -> 4 -> 2 (loop)\n",
      "Output: 1\n"
     ]
    }
   ],
   "source": [
    "# Create a linked list: 1 -> 2 -> 3 -> 4 -> 2 (loop)\n",
    "head = Node(1)\n",
    "head.next = Node(2)\n",
    "head.next.next = Node(3)\n",
    "head.next.next.next = Node(4)\n",
    "head.next.next.next.next = head.next\n",
    "\n",
    "print(\"Input: 1 -> 2 -> 3 -> 4 -> 2 (loop)\")\n",
    "head = detect_and_remove_loop(head)\n",
    "print(\"Output:\", head.data)"
   ]
  },
  {
   "cell_type": "code",
   "execution_count": 21,
   "id": "45f27f60",
   "metadata": {},
   "outputs": [],
   "source": [
    "# Question 6**\n",
    "\n",
    "#Given a linked list and two integers M and N. Traverse the linked list such that you retain M nodes then delete next N nodes, continue the same till end of the linked list.\n",
    "\n",
    "#Difficulty Level: Rookie\n",
    "#Input:\n",
    "#M = 2, N = 2\n",
    "#Linked List: 1->2->3->4->5->6->7->8\n",
    "#Output:\n",
    "#Linked List: 1->2->5->6\n",
    "\n",
    "#Input:\n",
    "#M = 3, N = 2\n",
    "#Linked List: 1->2->3->4->5->6->7->8->9->10\n",
    "#Output:\n",
    "##Input:\n",
    "#M = 1, N = 1\n",
    "#Linked List: 1->2->3->4->5->6->7->8->9->10\n",
    "#Output:\n",
    "#Linked List: 1->3->5->7->9"
   ]
  },
  {
   "cell_type": "code",
   "execution_count": 22,
   "id": "15a3bfc6",
   "metadata": {},
   "outputs": [
    {
     "name": "stdout",
     "output_type": "stream",
     "text": [
      "Input: M = 2, N = 2\n",
      "1->2->5->6->NULL\n"
     ]
    }
   ],
   "source": [
    "class Node:\n",
    "    def __init__(self, data):\n",
    "        self.data = data\n",
    "        self.next = None\n",
    "\n",
    "def skip_m_delete_n(head, M, N):\n",
    "    if M == 0:\n",
    "        return None\n",
    "\n",
    "    current = head\n",
    "    prev = None\n",
    "\n",
    "    while current is not None:\n",
    "        # Skip M nodes\n",
    "        for _ in range(M-1):\n",
    "            if current is None:\n",
    "                return head\n",
    "            current = current.next\n",
    "\n",
    "        if current is None:\n",
    "            return head\n",
    "\n",
    "        # Delete N nodes\n",
    "        temp = current.next\n",
    "        for _ in range(N):\n",
    "            if temp is None:\n",
    "                break\n",
    "            temp = temp.next\n",
    "\n",
    "        # Update pointers\n",
    "        current.next = temp\n",
    "        current = temp\n",
    "\n",
    "    return head\n",
    "\n",
    "# Example usage:\n",
    "# Create a linked list: 1 -> 2 -> 3 -> 4 -> 5 -> 6 -> 7 -> 8\n",
    "head = Node(1)\n",
    "head.next = Node(2)\n",
    "head.next.next = Node(3)\n",
    "head.next.next.next = Node(4)\n",
    "head.next.next.next.next = Node(5)\n",
    "head.next.next.next.next.next = Node(6)\n",
    "head.next.next.next.next.next.next = Node(7)\n",
    "head.next.next.next.next.next.next.next = Node(8)\n",
    "\n",
    "M = 2\n",
    "N = 2\n",
    "\n",
    "print(\"Input: M = 2, N = 2\")\n",
    "head = skip_m_delete_n(head, M, N)\n",
    "\n",
    "# Print the modified linked list\n",
    "current = head\n",
    "while current is not None:\n",
    "    print(current.data, end=\"->\")\n",
    "    current = current.next\n",
    "print(\"NULL\")\n"
   ]
  },
  {
   "cell_type": "code",
   "execution_count": 23,
   "id": "bba45d54",
   "metadata": {},
   "outputs": [],
   "source": [
    "#Question 7**\n",
    "\n",
    "#Given two linked lists, insert nodes of second list into first list at alternate positions of first list.\n",
    "#For example, if first list is 5->7->17->13->11 and second is 12->10->2->4->6, the first list should become 5->12->7->10->17->2->13->4->11->6 and second list should become empty.\n",
    "#The nodes of second list should only be inserted when there are positions available. \n",
    "#For example, if the first list is 1->2->3 and second list is 4->5->6->7->8, then first list should become 1->4->2->5->3->6 and second list to 7->8.\n",
    "#Use of extra space is not allowed (Not allowed to create additional nodes), i.e., insertion must be done in-place. Expected time complexity is O(n) where n is number of nodes in first list.\n"
   ]
  },
  {
   "cell_type": "code",
   "execution_count": 25,
   "id": "fa6ba0af",
   "metadata": {},
   "outputs": [
    {
     "name": "stdout",
     "output_type": "stream",
     "text": [
      "First List:\n",
      "5 -> 7 -> 17 -> 13 -> 11 -> NULL\n",
      "Second List:\n",
      "12 -> 10 -> 2 -> 4 -> 6 -> NULL\n",
      "Merged List (First List):\n",
      "5 -> 12 -> 7 -> 10 -> 17 -> 2 -> 13 -> 4 -> 11 -> 6 -> NULL\n",
      "Second List (Empty):\n",
      "12 -> 7 -> 10 -> 17 -> 2 -> 13 -> 4 -> 11 -> 6 -> NULL\n"
     ]
    }
   ],
   "source": [
    "class Node:\n",
    "    def __init__(self, data):\n",
    "        self.data = data\n",
    "        self.next = None\n",
    "\n",
    "def merge_lists(first, second):\n",
    "    if first is None:\n",
    "        return second\n",
    "    if second is None:\n",
    "        return first\n",
    "\n",
    "    first_current = first\n",
    "    second_current = second\n",
    "\n",
    "    while first_current is not None and second_current is not None:\n",
    "        first_next = first_current.next\n",
    "        second_next = second_current.next\n",
    "\n",
    "        # Insert the second list's node after the current node of the first list\n",
    "        first_current.next = second_current\n",
    "        second_current.next = first_next\n",
    "\n",
    "        # Move to the next pair of nodes\n",
    "        first_current = first_next\n",
    "        second_current = second_next\n",
    "\n",
    "    # If the second list still has remaining nodes, append them at the end of the first list\n",
    "    if first_current is None:\n",
    "        first_current = second_current\n",
    "\n",
    "    return first\n",
    "\n",
    "# Example usage:\n",
    "# Create the first linked list: 5 -> 7 -> 17 -> 13 -> 11\n",
    "first = Node(5)\n",
    "first.next = Node(7)\n",
    "first.next.next = Node(17)\n",
    "first.next.next.next = Node(13)\n",
    "first.next.next.next.next = Node(11)\n",
    "\n",
    "# Create the second linked list: 12 -> 10 -> 2 -> 4 -> 6\n",
    "second = Node(12)\n",
    "second.next = Node(10)\n",
    "second.next.next = Node(2)\n",
    "second.next.next.next = Node(4)\n",
    "second.next.next.next.next = Node(6)\n",
    "\n",
    "print(\"First List:\")\n",
    "current = first\n",
    "while current is not None:\n",
    "    print(current.data, end=\" -> \")\n",
    "    current = current.next\n",
    "print(\"NULL\")\n",
    "\n",
    "print(\"Second List:\")\n",
    "current = second\n",
    "while current is not None:\n",
    "    print(current.data, end=\" -> \")\n",
    "    current = current.next\n",
    "print(\"NULL\")\n",
    "\n",
    "first = merge_lists(first, second)\n",
    "\n",
    "print(\"Merged List (First List):\")\n",
    "current = first\n",
    "while current is not None:\n",
    "    print(current.data, end=\" -> \")\n",
    "    current = current.next\n",
    "print(\"NULL\")\n",
    "\n",
    "print(\"Second List (Empty):\")\n",
    "current = second\n",
    "while current is not None:\n",
    "    print(current.data, end=\" -> \")\n",
    "    current = current.next\n",
    "print(\"NULL\")\n"
   ]
  },
  {
   "cell_type": "code",
   "execution_count": 26,
   "id": "6a51c2d6",
   "metadata": {},
   "outputs": [],
   "source": [
    "#Question .8 .Given a singly linked list, find if the linked list is [circular](https://www.geeksforgeeks.org/circular-linked-list/amp/) or not.\n",
    "# A linked list is called circular if it is not NULL-terminated and all nodes are connected in the form of a cycle. Below is an example of a circular linked list."
   ]
  },
  {
   "cell_type": "code",
   "execution_count": 27,
   "id": "b66e578d",
   "metadata": {},
   "outputs": [
    {
     "name": "stdout",
     "output_type": "stream",
     "text": [
      "The linked list is circular.\n"
     ]
    }
   ],
   "source": [
    "class Node:\n",
    "    def __init__(self, data):\n",
    "        self.data = data\n",
    "        self.next = None\n",
    "\n",
    "def is_circular(head):\n",
    "    if head is None:\n",
    "        return False\n",
    "\n",
    "    # Initialize slow and fast pointers\n",
    "    slow = head\n",
    "    fast = head.next\n",
    "\n",
    "    # Traverse the list until the fast pointer reaches the end or becomes NULL\n",
    "    while fast and fast.next:\n",
    "        # Move slow pointer one step at a time\n",
    "        slow = slow.next\n",
    "\n",
    "        # Move fast pointer two steps at a time\n",
    "        fast = fast.next.next\n",
    "\n",
    "        # If the slow and fast pointers meet, the list is circular\n",
    "        if slow == fast:\n",
    "            return True\n",
    "\n",
    "    # If the fast pointer reaches the end or becomes NULL, the list is not circular\n",
    "    return False\n",
    "\n",
    "# Example usage:\n",
    "# Create a circular linked list: 1 -> 2 -> 3 -> 4 -> 2 (points back to 2)\n",
    "head = Node(1)\n",
    "head.next = Node(2)\n",
    "head.next.next = Node(3)\n",
    "head.next.next.next = Node(4)\n",
    "head.next.next.next.next = head.next\n",
    "\n",
    "# Check if the list is circular\n",
    "circular = is_circular(head)\n",
    "\n",
    "if circular:\n",
    "    print(\"The linked list is circular.\")\n",
    "else:\n",
    "    print(\"The linked list is not circular.\")\n"
   ]
  },
  {
   "cell_type": "code",
   "execution_count": null,
   "id": "c81c7cbd",
   "metadata": {},
   "outputs": [],
   "source": []
  }
 ],
 "metadata": {
  "kernelspec": {
   "display_name": "Python 3 (ipykernel)",
   "language": "python",
   "name": "python3"
  },
  "language_info": {
   "codemirror_mode": {
    "name": "ipython",
    "version": 3
   },
   "file_extension": ".py",
   "mimetype": "text/x-python",
   "name": "python",
   "nbconvert_exporter": "python",
   "pygments_lexer": "ipython3",
   "version": "3.9.13"
  }
 },
 "nbformat": 4,
 "nbformat_minor": 5
}

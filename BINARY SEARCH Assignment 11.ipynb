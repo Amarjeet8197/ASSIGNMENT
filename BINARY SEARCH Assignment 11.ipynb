{
 "cells": [
  {
   "cell_type": "code",
   "execution_count": 1,
   "id": "4c6096a9",
   "metadata": {},
   "outputs": [],
   "source": [
    "# Question 1**\n",
    "\n",
    "#Given a non-negative integer `x`, return *the square root of* `x` *rounded down to the nearest integer*. The returned integer should be **non-negative** as well.\n",
    "#You **must not use** any built-in exponent function or operator.- For example, do not use `pow(x, 0.5)` in c++ or `x ** 0.5` in python.\n",
    "#**Example 1:** Input: x = 4 Output: 2 ,Explanation: The square root of 4 is 2, so we return 2."
   ]
  },
  {
   "cell_type": "code",
   "execution_count": 3,
   "id": "0a76f202",
   "metadata": {},
   "outputs": [
    {
     "name": "stdout",
     "output_type": "stream",
     "text": [
      "Square root of 4 is: 2\n"
     ]
    }
   ],
   "source": [
    "def mySqrt(x):\n",
    "    if x == 0:\n",
    "        return 0\n",
    "\n",
    "    left, right = 1, x\n",
    "    while left <= right:\n",
    "        mid = left + (right - left) // 2\n",
    "        if mid * mid > x:\n",
    "            right = mid - 1\n",
    "        else:\n",
    "            left = mid + 1\n",
    "\n",
    "    return right\n",
    "\n",
    "# Example usage:\n",
    "x = 4\n",
    "result = mySqrt(x)\n",
    "print(\"Square root of\", x, \"is:\", result)\n"
   ]
  },
  {
   "cell_type": "code",
   "execution_count": 4,
   "id": "b3953b87",
   "metadata": {},
   "outputs": [],
   "source": [
    "# Question 2**\n",
    "# A peak element is an element that is strictly greater than its neighbors.\n",
    "# Given a **0-indexed** integer array `nums`, find a peak element, and return its index. If the array contains multiple peaks, return the index to **any of the peaks**.\n",
    "# You may imagine that `nums[-1] = nums[n] = -∞`. In other words, an element is always considered to be strictly greater than a neighbor that is outside the array.\n",
    "# You must write an algorithm that runs in `O(log n)` time.\n",
    "#**Example 1:** Input: nums = [1,2,3,1] ,Output: 2\n",
    "#Explanation: 3 is a peak element and your function should return the index number 2."
   ]
  },
  {
   "cell_type": "code",
   "execution_count": 6,
   "id": "c4febe7f",
   "metadata": {},
   "outputs": [
    {
     "name": "stdout",
     "output_type": "stream",
     "text": [
      "Peak element index: 2\n"
     ]
    }
   ],
   "source": [
    "def findPeakElement(nums):\n",
    "    left, right = 0, len(nums) - 1\n",
    "    while left < right:\n",
    "        mid = left + (right - left) // 2\n",
    "        if nums[mid] > nums[mid + 1]:\n",
    "            right = mid\n",
    "        else:\n",
    "            left = mid + 1\n",
    "    return left\n",
    "\n",
    "# Example usage:\n",
    "nums = [1, 2, 3, 1]\n",
    "result = findPeakElement(nums)\n",
    "print(\"Peak element index:\", result)\n"
   ]
  },
  {
   "cell_type": "code",
   "execution_count": 8,
   "id": "5f16be72",
   "metadata": {},
   "outputs": [],
   "source": [
    "# Question 3\n",
    "\n",
    "# Given an array `nums` containing `n` distinct numbers in the range `[0, n]`, return *the only number in the range that is missing from the array.*\n",
    "\n",
    "# **Example 1:**Input: nums = [3,0,1] Output: 2\n",
    "#Explanation: n = 3 since there are 3 numbers, so all numbers are in the range [0,3]. 2 is the missing number in the range since it does not appear in nums\n"
   ]
  },
  {
   "cell_type": "code",
   "execution_count": 9,
   "id": "494a9d4e",
   "metadata": {},
   "outputs": [
    {
     "name": "stdout",
     "output_type": "stream",
     "text": [
      "Missing number: 2\n"
     ]
    }
   ],
   "source": [
    "def missingNumber(nums):\n",
    "    n = len(nums)\n",
    "    total_sum = (n * (n + 1)) // 2\n",
    "    array_sum = sum(nums)\n",
    "    return total_sum - array_sum\n",
    "\n",
    "# Example usage:\n",
    "nums = [3, 0, 1]\n",
    "result = missingNumber(nums)\n",
    "print(\"Missing number:\", result)\n"
   ]
  },
  {
   "cell_type": "code",
   "execution_count": 11,
   "id": "d145f079",
   "metadata": {},
   "outputs": [],
   "source": [
    "#ques 4.Given an array of integers `nums` containing `n + 1` integers where each integer is in the range `[1, n]` inclusive.\n",
    "\n",
    "#There is only **one repeated number** in `nums`, return *this repeated number*.You must solve the problem **without** modifying the array `nums` and uses only constant extra space.\n",
    "# Input: nums = [1,3,4,2,2] ,Output: 2\n",
    "#Input: nums = [3,1,3,4,2] Output: 3"
   ]
  },
  {
   "cell_type": "code",
   "execution_count": 12,
   "id": "6918ea1a",
   "metadata": {},
   "outputs": [
    {
     "name": "stdout",
     "output_type": "stream",
     "text": [
      "Repeated number: 2\n",
      "Repeated number: 3\n"
     ]
    }
   ],
   "source": [
    "def findDuplicate(nums):\n",
    "    # Find the meeting point of the slow and fast pointers\n",
    "    slow = fast = nums[0]\n",
    "    while True:\n",
    "        slow = nums[slow]\n",
    "        fast = nums[nums[fast]]\n",
    "        if slow == fast:\n",
    "            break\n",
    "\n",
    "    # Find the start of the cycle\n",
    "    slow = nums[0]\n",
    "    while slow != fast:\n",
    "        slow = nums[slow]\n",
    "        fast = nums[fast]\n",
    "\n",
    "    return slow\n",
    "\n",
    "# Example usage:\n",
    "nums = [1, 3, 4, 2, 2]\n",
    "result = findDuplicate(nums)\n",
    "print(\"Repeated number:\", result)\n",
    "\n",
    "nums = [3, 1, 3, 4, 2]\n",
    "result = findDuplicate(nums)\n",
    "print(\"Repeated number:\", result)\n"
   ]
  },
  {
   "cell_type": "code",
   "execution_count": 13,
   "id": "1a39ce7a",
   "metadata": {},
   "outputs": [],
   "source": [
    "#  **Question 5**\n",
    "\n",
    "# Given two integer arrays `nums1` and `nums2`, return *an array of their intersection*. Each element in the result must be **unique** and you may return the result in **any order**.\n",
    "#Input: nums1 = [1,2,2,1], nums2 = [2,2] Output: [2]\n",
    "#Input: nums1 = [4,9,5], nums2 = [9,4,9,8,4] Output: [9,4]\n",
    "#Explanation: [4,9] is also accepted."
   ]
  },
  {
   "cell_type": "code",
   "execution_count": 15,
   "id": "995af404",
   "metadata": {},
   "outputs": [
    {
     "name": "stdout",
     "output_type": "stream",
     "text": [
      "Intersection: [2]\n",
      "Intersection: [9, 4]\n"
     ]
    }
   ],
   "source": [
    "def intersection(nums1, nums2):\n",
    "    # Create a set to store unique elements from nums1\n",
    "    nums1_set = set(nums1)\n",
    "    \n",
    "    # Create a set to store the intersection elements\n",
    "    intersection_set = set()\n",
    "    \n",
    "    # Iterate through nums2 and check if each element is in nums1_set\n",
    "    for num in nums2:\n",
    "        if num in nums1_set:\n",
    "            intersection_set.add(num)\n",
    "    \n",
    "    # Convert the intersection set to a list and return it\n",
    "    return list(intersection_set)\n",
    "\n",
    "# Example usage:\n",
    "nums1 = [1, 2, 2, 1]\n",
    "nums2 = [2, 2]\n",
    "result = intersection(nums1, nums2)\n",
    "print(\"Intersection:\", result)\n",
    "\n",
    "nums1 = [4, 9, 5]\n",
    "nums2 = [9, 4, 9, 8, 4]\n",
    "result = intersection(nums1, nums2)\n",
    "print(\"Intersection:\", result)"
   ]
  },
  {
   "cell_type": "code",
   "execution_count": 16,
   "id": "91c4711b",
   "metadata": {},
   "outputs": [],
   "source": [
    "# Question 6**\n",
    "\n",
    "#Suppose an array of length `n` sorted in ascending order is **rotated** between `1` and `n` times. For example, the array `nums = [0,1,2,4,5,6,7]` might become:\n",
    "\n",
    "#- `[4,5,6,7,0,1,2]` if it was rotated `4` times.\n",
    "#- `[0,1,2,4,5,6,7]` if it was rotated `7` times.\n",
    "\n",
    "#Notice that **rotating** an array `[a[0], a[1], a[2], ..., a[n-1]]` 1 time results in the array `[a[n-1], a[0], a[1], a[2], ..., a[n-2]]`.\n",
    "\n",
    "# Given the sorted rotated array `nums` of **unique** elements, return *the minimum element of this array*.You must write an algorithm that runs in `O(log n) time.`\n",
    "\n",
    "#**Example 1:**Input: nums = [3,4,5,1,2] Output: 1\n",
    "# Input: nums = [4,5,6,7,0,1,2] ,Output: 0\n",
    "#Input: nums = [11,13,15,17] ,Output: 11"
   ]
  },
  {
   "cell_type": "code",
   "execution_count": 19,
   "id": "a8eb8a32",
   "metadata": {},
   "outputs": [
    {
     "name": "stdout",
     "output_type": "stream",
     "text": [
      "Minimum element: 0\n",
      "Minimum element: 1\n",
      "minimum elements: 11\n"
     ]
    }
   ],
   "source": [
    "def findMin(nums):\n",
    "    # Check if the array is already sorted\n",
    "    if nums[0] < nums[-1]:\n",
    "        return nums[0]\n",
    "    \n",
    "    # Perform binary search to find the minimum element\n",
    "    left = 0\n",
    "    right = len(nums) - 1\n",
    "    \n",
    "    while left < right:\n",
    "        mid = left + (right - left) // 2\n",
    "        \n",
    "        # Check if mid element is the minimum\n",
    "        if nums[mid] > nums[mid+1]:\n",
    "            return nums[mid+1]\n",
    "        \n",
    "        # Check if mid-1 element is the minimum\n",
    "        if nums[mid-1] > nums[mid]:\n",
    "            return nums[mid]\n",
    "        \n",
    "        # If the mid element is greater than the left element, search on the right side\n",
    "        if nums[mid] > nums[left]:\n",
    "            left = mid + 1\n",
    "        # If the mid element is less than or equal to the left element, search on the left side\n",
    "        else:\n",
    "            right = mid - 1\n",
    "    \n",
    "    # If the loop terminates without finding the minimum, the minimum is at index left\n",
    "    return nums[left]\n",
    "\n",
    "# Example usage:\n",
    "nums = [4, 5, 6, 7, 0, 1, 2]\n",
    "result = findMin(nums)\n",
    "print(\"Minimum element:\", result)\n",
    "nums = [3, 4, 5, 1, 2]\n",
    "result = findMin(nums)\n",
    "print(\"Minimum element:\", result)\n",
    "nums = [11,13,15,17]\n",
    "result=findMin(nums)\n",
    "print(\"minimum elements:\",result)"
   ]
  },
  {
   "cell_type": "code",
   "execution_count": 20,
   "id": "9371d7fa",
   "metadata": {},
   "outputs": [],
   "source": [
    "# **Question 7**\n",
    "\n",
    "#Given an array of integers `nums` sorted in non-decreasing order, find the starting and ending position of a given `target` value.\n",
    "\n",
    "#If `target` is not found in the array, return `[-1, -1]`. You must write an algorithm with `O(log n)` runtime complexity.\n",
    "#Input: nums = [5,7,7,8,8,10], target = 8 ,Output: [3,4]\n",
    "#Input: nums = [5,7,7,8,8,10], target = 6 ,Output: [-1,-1]\n",
    "# Input: nums = [], target = 0 ,Output: [-1,-1]"
   ]
  },
  {
   "cell_type": "code",
   "execution_count": 21,
   "id": "ba6d42a3",
   "metadata": {},
   "outputs": [
    {
     "name": "stdout",
     "output_type": "stream",
     "text": [
      "Starting and ending positions: [3, 4]\n"
     ]
    }
   ],
   "source": [
    "def searchRange(nums, target):\n",
    "    # Find the leftmost position of the target using binary search\n",
    "    left = binarySearch(nums, target, True)\n",
    "    # Find the rightmost position of the target using binary search\n",
    "    right = binarySearch(nums, target, False) - 1\n",
    "\n",
    "    # Check if the target was found in the array\n",
    "    if left <= right and right < len(nums) and nums[left] == target and nums[right] == target:\n",
    "        return [left, right]\n",
    "    else:\n",
    "        return [-1, -1]\n",
    "\n",
    "\n",
    "def binarySearch(nums, target, leftmost):\n",
    "    left = 0\n",
    "    right = len(nums)\n",
    "\n",
    "    while left < right:\n",
    "        mid = (left + right) // 2\n",
    "\n",
    "        if nums[mid] > target or (leftmost and nums[mid] == target):\n",
    "            right = mid\n",
    "        else:\n",
    "            left = mid + 1\n",
    "\n",
    "    return left\n",
    "\n",
    "\n",
    "# Example usage:\n",
    "nums = [5, 7, 7, 8, 8, 10]\n",
    "target = 8\n",
    "result = searchRange(nums, target)\n",
    "print(\"Starting and ending positions:\", result)\n",
    "\n"
   ]
  },
  {
   "cell_type": "code",
   "execution_count": 25,
   "id": "e227a8ca",
   "metadata": {},
   "outputs": [
    {
     "name": "stdout",
     "output_type": "stream",
     "text": [
      "Starting and ending positions: [-1, -1]\n"
     ]
    }
   ],
   "source": [
    "nums = [5,7,7,8,8,10]\n",
    "target = 6  \n",
    "result = searchRange(nums, target)\n",
    "print(\"Starting and ending positions:\", result)"
   ]
  },
  {
   "cell_type": "code",
   "execution_count": 26,
   "id": "c1a5d7bf",
   "metadata": {},
   "outputs": [
    {
     "name": "stdout",
     "output_type": "stream",
     "text": [
      "Starting and ending positions: [-1, -1]\n"
     ]
    }
   ],
   "source": [
    "nums = []\n",
    "target = 0 \n",
    "result = searchRange(nums, target)\n",
    "print(\"Starting and ending positions:\", result)"
   ]
  },
  {
   "cell_type": "code",
   "execution_count": 27,
   "id": "54d1ce33",
   "metadata": {},
   "outputs": [],
   "source": [
    "# Question 8**\n",
    "\n",
    "# Given two integer arrays `nums1` and `nums2`, return *an array of their intersection*. Each element in the result must appear as many times as it shows in both arrays and you may return the result in **any order**.\n",
    "#Input: nums1 = [1,2,2,1], nums2 = [2,2] ,Output: [2,2]\n",
    "#Input: nums1 = [4,9,5], nums2 = [9,4,9,8,4] Output: [4,9]\n",
    "#Explanation: [9,4] is also accepted."
   ]
  },
  {
   "cell_type": "code",
   "execution_count": 28,
   "id": "37719309",
   "metadata": {},
   "outputs": [
    {
     "name": "stdout",
     "output_type": "stream",
     "text": [
      "Intersection: [2, 2]\n",
      "Intersection: [9, 4]\n"
     ]
    }
   ],
   "source": [
    "def intersect(nums1, nums2):\n",
    "    # Create a hash map to store the frequency of elements in nums1\n",
    "    freq_map = {}\n",
    "\n",
    "    # Count the frequency of elements in nums1\n",
    "    for num in nums1:\n",
    "        freq_map[num] = freq_map.get(num, 0) + 1\n",
    "\n",
    "    # Create a list to store the intersection elements\n",
    "    intersection = []\n",
    "\n",
    "    # Iterate through nums2 and check if the element is in the freq_map\n",
    "    # If it is, add it to the intersection list and decrement its frequency\n",
    "    for num in nums2:\n",
    "        if num in freq_map and freq_map[num] > 0:\n",
    "            intersection.append(num)\n",
    "            freq_map[num] -= 1\n",
    "\n",
    "    return intersection\n",
    "\n",
    "\n",
    "# Example usage:\n",
    "nums1 = [1, 2, 2, 1]\n",
    "nums2 = [2, 2]\n",
    "result = intersect(nums1, nums2)\n",
    "print(\"Intersection:\", result)\n",
    "nums1 = [4,9,5]\n",
    "nums2 = [9,4,9,8,4]\n",
    "result = intersect(nums1, nums2)\n",
    "print(\"Intersection:\", result)"
   ]
  },
  {
   "cell_type": "code",
   "execution_count": null,
   "id": "fd77f45e",
   "metadata": {},
   "outputs": [],
   "source": []
  }
 ],
 "metadata": {
  "kernelspec": {
   "display_name": "Python 3 (ipykernel)",
   "language": "python",
   "name": "python3"
  },
  "language_info": {
   "codemirror_mode": {
    "name": "ipython",
    "version": 3
   },
   "file_extension": ".py",
   "mimetype": "text/x-python",
   "name": "python",
   "nbconvert_exporter": "python",
   "pygments_lexer": "ipython3",
   "version": "3.9.13"
  }
 },
 "nbformat": 4,
 "nbformat_minor": 5
}

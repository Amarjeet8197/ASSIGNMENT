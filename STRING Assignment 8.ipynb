{
 "cells": [
  {
   "cell_type": "markdown",
   "id": "b6bb2e29",
   "metadata": {},
   "source": [
    "# STRING Assignment 8"
   ]
  },
  {
   "cell_type": "code",
   "execution_count": 2,
   "id": "bd91b974",
   "metadata": {},
   "outputs": [],
   "source": [
    "# Question 1**\n",
    "\n",
    "# Given two strings s1 and s2, return *the lowest **ASCII** sum of deleted characters to make two strings equal*.\n",
    "\n",
    "#**Example 1:** **Input:** s1 = \"sea\", s2 = \"eat\" **Output:** 231"
   ]
  },
  {
   "cell_type": "code",
   "execution_count": 3,
   "id": "2712c8d4",
   "metadata": {},
   "outputs": [
    {
     "name": "stdout",
     "output_type": "stream",
     "text": [
      "231\n"
     ]
    }
   ],
   "source": [
    "def minimumDeleteSum(s1, s2):\n",
    "    m, n = len(s1), len(s2)\n",
    "    dp = [[0] * (n + 1) for _ in range(m + 1)]\n",
    "\n",
    "    for i in range(m + 1):\n",
    "        for j in range(n + 1):\n",
    "            if i == 0 or j == 0:\n",
    "                dp[i][j] = 0\n",
    "            elif s1[i - 1] == s2[j - 1]:\n",
    "                dp[i][j] = dp[i - 1][j - 1] + ord(s1[i - 1])\n",
    "            else:\n",
    "                dp[i][j] = max(dp[i - 1][j], dp[i][j - 1])\n",
    "\n",
    "    sum_s1 = sum(ord(ch) for ch in s1)\n",
    "    sum_s2 = sum(ord(ch) for ch in s2)\n",
    "    deleted_sum = sum_s1 + sum_s2 - 2 * dp[m][n]\n",
    "\n",
    "    return deleted_sum\n",
    "s1 = \"sea\"\n",
    "s2 = \"eat\"\n",
    "print(minimumDeleteSum(s1, s2))\n"
   ]
  },
  {
   "cell_type": "code",
   "execution_count": 4,
   "id": "4e1e13d5",
   "metadata": {},
   "outputs": [],
   "source": [
    "#Question 2**\n",
    "#Given a string s containing only three types of characters: '(', ')' and '*', return true *if* s *is **valid***.\n",
    "\n",
    "#The following rules define a **valid** string:- Any left parenthesis '(' must have a corresponding right parenthesis ')'.\n",
    "#- Any right parenthesis ')' must have a corresponding left parenthesis '('.\n",
    "#- Left parenthesis '(' must go before the corresponding right parenthesis ')'.\n",
    "#- '*' could be treated as a single right parenthesis ')' or a single left parenthesis '(' or an empty string \"\".\n",
    "\n",
    "#**Example 1:** **Input:** s = \"()\" **Output:**true"
   ]
  },
  {
   "cell_type": "code",
   "execution_count": 5,
   "id": "ed132701",
   "metadata": {},
   "outputs": [
    {
     "name": "stdout",
     "output_type": "stream",
     "text": [
      "True\n"
     ]
    }
   ],
   "source": [
    "def checkValidString(s):\n",
    "    stack = []\n",
    "\n",
    "    for ch in s:\n",
    "        if ch in '(*':\n",
    "            stack.append(ch)\n",
    "        elif ch == ')':\n",
    "            if stack and stack[-1] == '(':\n",
    "                stack.pop()\n",
    "            elif stack and stack[-1] == '*':\n",
    "                stack.pop()\n",
    "            elif not stack:\n",
    "                return False\n",
    "\n",
    "    while stack:\n",
    "        if stack[-1] == '(':\n",
    "            stack.pop()\n",
    "        elif stack[-1] == '*':\n",
    "            stack.pop()\n",
    "        else:\n",
    "            return False\n",
    "\n",
    "    return True\n",
    "s = \"()\"\n",
    "print(checkValidString(s))\n"
   ]
  },
  {
   "cell_type": "code",
   "execution_count": 6,
   "id": "8425f77d",
   "metadata": {},
   "outputs": [],
   "source": [
    "#Question 3**\n",
    "#Given two strings word1 and word2, return *the minimum number of **steps** required to make* word1 *and* word2 *the same*.\n",
    "\n",
    "#In one **step**, you can delete exactly one character in either string.\n",
    "\n",
    "#**Example 1:** **Input:** word1 = \"sea\", word2 = \"eat\" **Output:** 2"
   ]
  },
  {
   "cell_type": "code",
   "execution_count": 7,
   "id": "b78fc4d4",
   "metadata": {},
   "outputs": [
    {
     "name": "stdout",
     "output_type": "stream",
     "text": [
      "2\n"
     ]
    }
   ],
   "source": [
    "def minDistance(word1, word2):\n",
    "    m, n = len(word1), len(word2)\n",
    "    dp = [[0] * (n + 1) for _ in range(m + 1)]\n",
    "\n",
    "    for i in range(m + 1):\n",
    "        for j in range(n + 1):\n",
    "            if i == 0 or j == 0:\n",
    "                dp[i][j] = 0\n",
    "            elif word1[i - 1] == word2[j - 1]:\n",
    "                dp[i][j] = dp[i - 1][j - 1] + 1\n",
    "            else:\n",
    "                dp[i][j] = max(dp[i - 1][j], dp[i][j - 1])\n",
    "\n",
    "    lcs_length = dp[m][n]\n",
    "    steps = (m - lcs_length) + (n - lcs_length)\n",
    "\n",
    "    return steps\n",
    "word1 = \"sea\"\n",
    "word2 = \"eat\"\n",
    "print(minDistance(word1, word2))\n"
   ]
  },
  {
   "cell_type": "code",
   "execution_count": 8,
   "id": "ed8154ae",
   "metadata": {},
   "outputs": [],
   "source": [
    "#Question 4**\n",
    "\n",
    "#You need to construct a binary tree from a string consisting of parenthesis and integers.The whole input represents a binary tree. It contains an integer followed by zero, one or two pairs of parenthesis. The integer represents the root's value and a pair of parenthesis contains a child binary tree with the same structure.\n",
    "#You always start to construct the **left** child node of the parent first if it exists.**Input:** s = \"4(2(3)(1))(6(5))\"\n",
    "\n",
    "#**Output:** [4,2,6,3,1,5]"
   ]
  },
  {
   "cell_type": "code",
   "execution_count": 9,
   "id": "e63a093c",
   "metadata": {},
   "outputs": [
    {
     "name": "stdout",
     "output_type": "stream",
     "text": [
      "3 2 1 4 5 6 "
     ]
    }
   ],
   "source": [
    "class TreeNode:\n",
    "    def __init__(self, val=0, left=None, right=None):\n",
    "        self.val = val\n",
    "        self.left = left\n",
    "        self.right = right\n",
    "\n",
    "\n",
    "def constructTree(s):\n",
    "    if not s:\n",
    "        return None\n",
    "\n",
    "    root_val = \"\"\n",
    "    i = 0\n",
    "\n",
    "    while i < len(s) and s[i] != '(':\n",
    "        root_val += s[i]\n",
    "        i += 1\n",
    "\n",
    "    root = TreeNode(int(root_val))\n",
    "\n",
    "    if i == len(s):\n",
    "        return root\n",
    "\n",
    "    left_start = i\n",
    "    count = 0\n",
    "\n",
    "    while i < len(s):\n",
    "        if s[i] == '(':\n",
    "            count += 1\n",
    "        elif s[i] == ')':\n",
    "            count -= 1\n",
    "\n",
    "        if count == 0:\n",
    "            break\n",
    "\n",
    "        i += 1\n",
    "\n",
    "    left_subtree_str = s[left_start + 1:i]\n",
    "    right_subtree_str = s[i + 2:-1]\n",
    "\n",
    "    root.left = constructTree(left_subtree_str)\n",
    "    root.right = constructTree(right_subtree_str)\n",
    "\n",
    "    return root\n",
    "s = \"4(2(3)(1))(6(5))\"\n",
    "root = constructTree(s)\n",
    "\n",
    "# Testing the constructed tree\n",
    "# Output: 4 2 6 3 1 5\n",
    "def inorderTraversal(node):\n",
    "    if node:\n",
    "        inorderTraversal(node.left)\n",
    "        print(node.val, end=\" \")\n",
    "        inorderTraversal(node.right)\n",
    "\n",
    "inorderTraversal(root)\n"
   ]
  },
  {
   "cell_type": "code",
   "execution_count": 10,
   "id": "4a3d0528",
   "metadata": {},
   "outputs": [],
   "source": [
    "#Question 5**\n",
    "\n",
    "#Given an array of characters chars, compress it using the following algorithm: Begin with an empty string s. For each group of **consecutive repeating characters** in chars:- If the group's length is 1, append the character to s.\n",
    "#- Otherwise, append the character followed by the group's length.The compressed string s **should not be returned separately**, but instead, be stored **in the input character array chars**. Note that group lengths that are 10 or longer will be split into multiple characters in chars.After you are done **modifying the input array,\n",
    "#** return *the new length of the array*.You must write an algorithm that uses only constant extra space.\n",
    "\n",
    "#**Example 1:** **Input:** chars = [\"a\",\"a\",\"b\",\"b\",\"c\",\"c\",\"c\"]**Output:** Return 6, and the first 6 characters of the input array should be: [\"a\",\"2\",\"b\",\"2\",\"c\",\"3\"]"
   ]
  },
  {
   "cell_type": "code",
   "execution_count": 11,
   "id": "d09143c3",
   "metadata": {},
   "outputs": [
    {
     "name": "stdout",
     "output_type": "stream",
     "text": [
      "New Length: 6\n",
      "Compressed Array: ['a', '2', 'b', '2', 'c', '3']\n"
     ]
    }
   ],
   "source": [
    "def compress(chars):\n",
    "    write = 0\n",
    "    count = 1\n",
    "\n",
    "    for i in range(1, len(chars) + 1):\n",
    "        if i < len(chars) and chars[i] == chars[i - 1]:\n",
    "            count += 1\n",
    "        else:\n",
    "            chars[write] = chars[i - 1]\n",
    "            write += 1\n",
    "\n",
    "            if count > 1:\n",
    "                count_str = str(count)\n",
    "                for digit in count_str:\n",
    "                    chars[write] = digit\n",
    "                    write += 1\n",
    "\n",
    "            count = 1\n",
    "\n",
    "    return write\n",
    "chars = [\"a\", \"a\", \"b\", \"b\", \"c\", \"c\", \"c\"]\n",
    "new_length = compress(chars)\n",
    "\n",
    "print(\"New Length:\", new_length)\n",
    "print(\"Compressed Array:\", chars[:new_length])\n"
   ]
  },
  {
   "cell_type": "code",
   "execution_count": 12,
   "id": "0c463b96",
   "metadata": {},
   "outputs": [],
   "source": [
    "# Question 6**\n",
    "\n",
    "#Given two strings s and p, return *an array of all the start indices of* p*'s anagrams in* s. You may return the answer in **any order**.\n",
    "\n",
    "#An **Anagram** is a word or phrase formed by rearranging the letters of a different word or phrase, typically using all the original letters exactly once.\n",
    "\n",
    "#**Example 1:*  **Input:** s = \"cbaebabacd\", p = \"abc\" **Output:** [0,6]\n"
   ]
  },
  {
   "cell_type": "code",
   "execution_count": 34,
   "id": "ef4d975f",
   "metadata": {},
   "outputs": [],
   "source": [
    "from collections import Counter\n",
    "\n",
    "def findAnagrams(s, p):\n",
    "    result = []\n",
    "    freq_p = Counter(p)\n",
    "    freq_window = Counter(s[:len(p)])\n",
    "\n",
    "    left = 0\n",
    "    right = len(p)\n",
    "\n",
    "    while right <= len(s):\n",
    "        if freq_window == freq_p:\n",
    "            result.append(left)\n",
    "\n",
    "        freq_window[s[left]] -= 1\n",
    "        if freq_window[s[left]] == 0:\n",
    "            del freq_window[s[left]]\n",
    "        left += 1\n",
    "\n",
    "        if right < len(s):\n",
    "            freq_window[s[right]] += 1\n",
    "            right += 1\n",
    "\n",
    "    return result\n"
   ]
  },
  {
   "cell_type": "code",
   "execution_count": 38,
   "id": "7a8842a8",
   "metadata": {},
   "outputs": [],
   "source": [
    "s = \"cbaebabacd\""
   ]
  },
  {
   "cell_type": "code",
   "execution_count": 39,
   "id": "33f923e3",
   "metadata": {},
   "outputs": [],
   "source": [
    "p = \"abc\"\n"
   ]
  },
  {
   "cell_type": "code",
   "execution_count": 46,
   "id": "7f58e0f5",
   "metadata": {},
   "outputs": [
    {
     "name": "stdout",
     "output_type": "stream",
     "text": [
      "Start Indices of Anagrams: []\n"
     ]
    }
   ],
   "source": [
    "result =findAnagrams(p,s)\n",
    "print(\"Start Indices of Anagrams:\", result)\n"
   ]
  },
  {
   "cell_type": "code",
   "execution_count": 47,
   "id": "337735ff",
   "metadata": {},
   "outputs": [],
   "source": [
    "# Question 7**\n",
    "\n",
    "#Given an encoded string, return its decoded string.\n",
    "\n",
    "#The encoding rule is: k[encoded_string], where the encoded_string inside the square brackets is being repeated exactly k times. Note that k is guaranteed to be a positive integer.\n",
    "\n",
    "#You may assume that the input string is always valid; there are no extra white spaces, square brackets are well-formed, etc. Furthermore, you may assume that the original data does not contain any digits and that digits are only for those repeat numbers, k. For example, there will not be input like 3a or 2[4].\n",
    "\n",
    "#The test cases are generated so that the length of the output will never exceed 105.**Example 1:** **Input:** s = \"3[a]2[bc]\"\n",
    "\n",
    "#**Output:** \"aaabcbc\""
   ]
  },
  {
   "cell_type": "code",
   "execution_count": 63,
   "id": "cd683506",
   "metadata": {},
   "outputs": [
    {
     "name": "stdout",
     "output_type": "stream",
     "text": [
      "bcacabcacabcaca\n"
     ]
    }
   ],
   "source": [
    "# Returns decoded string for 'str'\n",
    "def decode(Str):\n",
    "    integerstack = []\n",
    "    stringstack = []\n",
    "    temp = \"\"\n",
    "    result = \"\"\n",
    "    i = 0\n",
    "    # Traversing the string\n",
    "    while i < len(Str):\n",
    "        count = 0\n",
    " \n",
    "        # If number, convert it into number\n",
    "        # and push it into integerstack.\n",
    "        if (Str[i] >= '0' and Str[i] <='9'):\n",
    "            while (Str[i] >= '0' and Str[i] <= '9'):\n",
    "                count = count * 10 + ord(Str[i]) - ord('0')\n",
    "                i += 1\n",
    "            i -= 1\n",
    "            integerstack.append(count)\n",
    " \n",
    "        # If closing bracket ']', pop element until\n",
    "        # '[' opening bracket is not found in the\n",
    "        # character stack.\n",
    "        elif (Str[i] == ']'):\n",
    "            temp = \"\"\n",
    "            count = 0\n",
    " \n",
    "            if (len(integerstack) != 0):\n",
    "                count = integerstack[-1]\n",
    "                integerstack.pop()\n",
    " \n",
    "            while (len(stringstack) != 0 and stringstack[-1] !='[' ):\n",
    "                temp = stringstack[-1] + temp\n",
    "                stringstack.pop()\n",
    " \n",
    "            if (len(stringstack) != 0 and stringstack[-1] == '['):\n",
    "                stringstack.pop()\n",
    " \n",
    "            # Repeating the popped string 'temo' count\n",
    "            # number of times.\n",
    "            for j in range(count):\n",
    "                result = result + temp\n",
    " \n",
    "            # Push it in the character stack.\n",
    "            for j in range(len(result)):\n",
    "                stringstack.append(result[j])\n",
    " \n",
    "            result = \"\"\n",
    " \n",
    "        # If '[' opening bracket, push it into character stack.\n",
    "        elif (Str[i] == '['):\n",
    "            if (Str[i-1] >= '0' and Str[i-1] <= '9'):\n",
    "                stringstack.append(Str[i])\n",
    " \n",
    "            else:\n",
    "                stringstack.append(Str[i])\n",
    "                integerstack.append(1)\n",
    " \n",
    "        else:\n",
    "            stringstack.append(Str[i])\n",
    "         \n",
    "        i += 1\n",
    " \n",
    "    # Pop all the element, make a string and return.\n",
    "    while len(stringstack) != 0:\n",
    "        result = stringstack[-1] + result\n",
    "        stringstack.pop()\n",
    " \n",
    "    return result\n",
    " \n",
    "# Driven code\n",
    "if __name__ == '__main__':\n",
    "    Str = \"3[b2[ca]]\"\n",
    "    print(decode(Str))"
   ]
  },
  {
   "cell_type": "code",
   "execution_count": 64,
   "id": "345c9879",
   "metadata": {},
   "outputs": [],
   "source": [
    "\n",
    "#Question 8**\n",
    "\n",
    "#Given two strings s and goal, return true *if you can swap two letters in* s *so the result is equal to* goal*, otherwise, return* false*.*\n",
    "\n",
    "#Swapping letters is defined as taking two indices i and j (0-indexed) such that i != j and swapping the characters at s[i] and s[j].\n",
    "\n",
    "#- For example, swapping at indices 0 and 2 in \"abcd\" results in \"cbad\".\n",
    "\n",
    "#**Example 1:**\n",
    "\n",
    "#**Input:** s = \"ab\", goal = \"ba\"\n",
    "\n",
    "#**Output:** true"
   ]
  },
  {
   "cell_type": "code",
   "execution_count": 65,
   "id": "631fbde1",
   "metadata": {},
   "outputs": [],
   "source": [
    "def buddyStrings(s, goal):\n",
    "    if len(s) != len(goal):\n",
    "        return False\n",
    "\n",
    "    if s == goal and len(set(s)) < len(s):\n",
    "        return True\n",
    "\n",
    "    diff_count = 0\n",
    "    diff_indices = []\n",
    "\n",
    "    for i in range(len(s)):\n",
    "        if s[i] != goal[i]:\n",
    "            diff_count += 1\n",
    "            diff_indices.append(i)\n",
    "\n",
    "        if diff_count > 2:\n",
    "            return False\n",
    "\n",
    "    if diff_count != 2:\n",
    "        return False\n",
    "\n",
    "    return s[diff_indices[0]] == goal[diff_indices[1]] and s[diff_indices[1]] == goal[diff_indices[0]]"
   ]
  },
  {
   "cell_type": "code",
   "execution_count": 66,
   "id": "729e2147",
   "metadata": {},
   "outputs": [
    {
     "name": "stdout",
     "output_type": "stream",
     "text": [
      "Result: True\n"
     ]
    }
   ],
   "source": [
    "s = \"ab\"\n",
    "goal = \"ba\"\n",
    "result = buddyStrings(s, goal)\n",
    "print(\"Result:\", result)\n"
   ]
  }
 ],
 "metadata": {
  "kernelspec": {
   "display_name": "Python 3 (ipykernel)",
   "language": "python",
   "name": "python3"
  },
  "language_info": {
   "codemirror_mode": {
    "name": "ipython",
    "version": 3
   },
   "file_extension": ".py",
   "mimetype": "text/x-python",
   "name": "python",
   "nbconvert_exporter": "python",
   "pygments_lexer": "ipython3",
   "version": "3.9.13"
  }
 },
 "nbformat": 4,
 "nbformat_minor": 5
}

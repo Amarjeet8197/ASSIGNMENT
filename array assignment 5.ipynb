{
 "cells": [
  {
   "cell_type": "markdown",
   "id": "0efdabe3",
   "metadata": {},
   "source": [
    "# Assignment Questions 5 "
   ]
  },
  {
   "cell_type": "markdown",
   "id": "6362d2e0",
   "metadata": {},
   "source": [
    "# Question 1\n",
    "\n",
    "Convert 1D Array Into 2D Array\n",
    "\n",
    "You are given a **0-indexed** 1-dimensional (1D) integer array original, and two integers, m and n. You are tasked with creating a 2-dimensional (2D) array with  m rows and n columns using **all** the elements from original.\n",
    "\n",
    "The elements from indices 0 to n - 1 (**inclusive**) of original should form the first row of the constructed 2D array, the elements from indices n to 2 * n - 1 (**inclusive**) should form the second row of the constructed 2D array, and so on.\n",
    "\n",
    "Return *an* m x n *2D array constructed according to the above procedure, or an empty 2D array if it is impossible*.\n",
    " Input: original = [1,2,3,4], m = 2, n = 2 ,Output:** [[1,2],[3,4]]."
   ]
  },
  {
   "cell_type": "code",
   "execution_count": 4,
   "id": "3a769315",
   "metadata": {},
   "outputs": [
    {
     "name": "stdout",
     "output_type": "stream",
     "text": [
      "[[1, 2], [3, 4]]\n"
     ]
    }
   ],
   "source": [
    "def convert_to_2d_array(original, m, n):\n",
    "    if m * n != len(original):\n",
    "        return []  # Return empty array if it's impossible to form the 2D array\n",
    "    \n",
    "    result = []\n",
    "    for i in range(m):\n",
    "        row = original[i * n : (i + 1) * n]  # Extract elements for each row\n",
    "        result.append(row)  # Append the row to the result array\n",
    "    \n",
    "    return result\n",
    "\n",
    "original = [1, 2, 3, 4]\n",
    "m = 2\n",
    "n = 2\n",
    "\n",
    "output = convert_to_2d_array(original, m, n)\n",
    "print(output)\n"
   ]
  },
  {
   "cell_type": "markdown",
   "id": "d2d77f34",
   "metadata": {},
   "source": [
    "# Question 2\n",
    "\n",
    "You have n coins and you want to build a staircase with these coins. The staircase consists of k rows where the ith row has exactly i coins. The last row of the staircase **may be** incomplete.\n",
    "\n",
    "Given the integer n, return *the number of **complete rows** of the staircase you will build*.\n",
    "\n",
    "**Example 1 ,Input:** n = 5 ,Output:** 2"
   ]
  },
  {
   "cell_type": "code",
   "execution_count": 5,
   "id": "084b9b62",
   "metadata": {},
   "outputs": [
    {
     "name": "stdout",
     "output_type": "stream",
     "text": [
      "2\n"
     ]
    }
   ],
   "source": [
    "def arrangeCoins(n):\n",
    "    row = 1\n",
    "    while n >= row:\n",
    "        n -= row\n",
    "        row += 1\n",
    "    return row - 1\n",
    "print(arrangeCoins(5))\n"
   ]
  },
  {
   "cell_type": "markdown",
   "id": "6262a801",
   "metadata": {},
   "source": [
    "# Question 3\n",
    "\n",
    "Given an integer array nums sorted in **non-decreasing** order, return *an array of **the squares of each number** sorted in non-decreasing order*.\n",
    "\n",
    "**Example 1: ,**Input:** nums = [-4,-1,0,3,10]\n",
    "\n",
    "**Output:** [0,1,9,16,100] ,Explanation:** After squaring, the array becomes [16,1,0,9,100]. After sorting, it becomes [0,1,9,16,100].\n"
   ]
  },
  {
   "cell_type": "code",
   "execution_count": 6,
   "id": "5822e4ea",
   "metadata": {},
   "outputs": [
    {
     "name": "stdout",
     "output_type": "stream",
     "text": [
      "[0, 1, 9, 16, 100]\n"
     ]
    }
   ],
   "source": [
    "def sortedSquares(nums):\n",
    "    squared_nums = [num**2 for num in nums]\n",
    "    squared_nums.sort()\n",
    "    return squared_nums\n",
    "nums = [-4, -1, 0, 3, 10]\n",
    "print(sortedSquares(nums))"
   ]
  },
  {
   "cell_type": "markdown",
   "id": "2c6c36ba",
   "metadata": {},
   "source": [
    "# Question 4**\n",
    "\n",
    "Given two **0-indexed** integer arrays nums1 and nums2, return *a list* answer *of size* 2 *where:*\n",
    "\n",
    "- answer[0] *is a list of all **distinct** integers in* nums1 *which are **not** present in* nums2*.*\n",
    "- answer[1] *is a list of all **distinct** integers in* nums2 *which are **not** present in* nums1.\n",
    "\n",
    "**Note** that the integers in the lists may be returned in **any** order.\n",
    "\n",
    "**Example 1: , Input:** nums1 = [1,2,3], nums2 = [2,4,6] ,Output:** [[1,3],[4,6]]"
   ]
  },
  {
   "cell_type": "code",
   "execution_count": 7,
   "id": "47c9317d",
   "metadata": {},
   "outputs": [
    {
     "name": "stdout",
     "output_type": "stream",
     "text": [
      "[[4, 6], [1, 3]]\n"
     ]
    }
   ],
   "source": [
    "def findDisappearedNumbers(nums1, nums2):\n",
    "    set1 = set(nums1)\n",
    "    set2 = set(nums2)\n",
    "\n",
    "    not_in_nums2 = [num for num in set1 if num not in set2]\n",
    "    not_in_nums1 = [num for num in set2 if num not in set1]\n",
    "\n",
    "    return [not_in_nums1, not_in_nums2]\n",
    "nums1 = [1, 2, 3]\n",
    "nums2 = [2, 4, 6]\n",
    "print(findDisappearedNumbers(nums1, nums2))\n"
   ]
  },
  {
   "cell_type": "markdown",
   "id": "fa074827",
   "metadata": {},
   "source": [
    "# Question 5**\n",
    "\n",
    "Given two integer arrays arr1 and arr2, and the integer d, *return the distance value between the two arrays*.\n",
    "\n",
    "The distance value is defined as the number of elements arr1[i] such that there is not any element arr2[j] where |arr1[i]-arr2[j]| <= d.\n",
    "\n",
    "**Example 1:**\n",
    "\n",
    "**Input:** arr1 = [4,5,8], arr2 = [10,9,1,8], d = 2 ,Output:** 2\n",
    "\n"
   ]
  },
  {
   "cell_type": "code",
   "execution_count": 8,
   "id": "587484e7",
   "metadata": {},
   "outputs": [
    {
     "name": "stdout",
     "output_type": "stream",
     "text": [
      "2\n"
     ]
    }
   ],
   "source": [
    "def findTheDistanceValue(arr1, arr2, d):\n",
    "    distance = 0\n",
    "    for num1 in arr1:\n",
    "        for num2 in arr2:\n",
    "            if abs(num1 - num2) <= d:\n",
    "                break\n",
    "        else:\n",
    "            distance += 1\n",
    "    return distance\n",
    "arr1 = [4, 5, 8]\n",
    "arr2 = [10, 9, 1, 8]\n",
    "d = 2\n",
    "print(findTheDistanceValue(arr1, arr2, d))\n"
   ]
  },
  {
   "cell_type": "markdown",
   "id": "f512ed2c",
   "metadata": {},
   "source": [
    "# Question 6**\n",
    "\n",
    "Given an integer array nums of length n where all the integers of nums are in the range [1, n] and each integer appears **once** or **twice**, return *an array of all the integers that appears **twice***.\n",
    "\n",
    "You must write an algorithm that runs in O(n) time and uses only constant extra space.\n",
    "\n",
    "**Example 1:**\n",
    "\n",
    "**Input:** nums = [4,3,2,7,8,2,3,1] ,Output:** ,[2,3]"
   ]
  },
  {
   "cell_type": "code",
   "execution_count": 9,
   "id": "2b4293e3",
   "metadata": {},
   "outputs": [
    {
     "name": "stdout",
     "output_type": "stream",
     "text": [
      "[2, 3]\n"
     ]
    }
   ],
   "source": [
    "def findDuplicates(nums):\n",
    "    result = []\n",
    "    for num in nums:\n",
    "        index = abs(num) - 1\n",
    "        if nums[index] < 0:\n",
    "            result.append(abs(num))\n",
    "        else:\n",
    "            nums[index] *= -1\n",
    "    return result\n",
    "nums = [4, 3, 2, 7, 8, 2, 3, 1]\n",
    "print(findDuplicates(nums))\n"
   ]
  },
  {
   "cell_type": "markdown",
   "id": "f979e76f",
   "metadata": {},
   "source": [
    "# Question 7**\n",
    "\n",
    "Suppose an array of length n sorted in ascending order is **rotated** between 1 and n times. For example, the array nums = [0,1,2,4,5,6,7] might become:\n",
    "\n",
    "- [4,5,6,7,0,1,2] if it was rotated 4 times.\n",
    "- [0,1,2,4,5,6,7] if it was rotated 7 times.\n",
    "\n",
    "Notice that **rotating** an array [a[0], a[1], a[2], ..., a[n-1]] 1 time results in the array [a[n-1], a[0], a[1], a[2], ..., a[n-2]].\n",
    "\n",
    "Given the sorted rotated array nums of **unique** elements, return *the minimum element of this array*.\n",
    "\n",
    "You must write an algorithm that runs in O(log n) time.\n",
    "\n",
    "**Example 1:**\n",
    "\n",
    "**Input:** nums = [3,4,5,1,2] ,Output:** 1\n"
   ]
  },
  {
   "cell_type": "code",
   "execution_count": 10,
   "id": "6a7bf9f0",
   "metadata": {},
   "outputs": [
    {
     "name": "stdout",
     "output_type": "stream",
     "text": [
      "1\n"
     ]
    }
   ],
   "source": [
    "def findMin(nums):\n",
    "    left = 0\n",
    "    right = len(nums) - 1\n",
    "\n",
    "    while nums[left] > nums[right]:\n",
    "        middle = (left + right) // 2\n",
    "\n",
    "        if nums[middle] > nums[right]:\n",
    "            left = middle + 1\n",
    "        else:\n",
    "            right = middle\n",
    "\n",
    "    return nums[left]\n",
    "nums = [3, 4, 5, 1, 2]\n",
    "print(findMin(nums))"
   ]
  },
  {
   "cell_type": "markdown",
   "id": "efed301b",
   "metadata": {},
   "source": [
    "# Question 8**\n",
    "\n",
    "An integer array original is transformed into a **doubled** array changed by appending **twice the value** of every element in original, and then randomly **shuffling** the resulting array.\n",
    "\n",
    "Given an array changed, return original *if* changed *is a **doubled** array. If* changed *is not a **doubled** array, return an empty array. The elements in* original *may be returned in **any** order*.\n",
    "\n",
    "**Example 1:**\n",
    "Input:** changed = [1,3,4,2,6,8] ,Output:** [1,3,4]\n"
   ]
  },
  {
   "cell_type": "code",
   "execution_count": 11,
   "id": "2b3f125e",
   "metadata": {},
   "outputs": [
    {
     "name": "stdout",
     "output_type": "stream",
     "text": [
      "[1, 3, 4]\n"
     ]
    }
   ],
   "source": [
    "from collections import defaultdict\n",
    "\n",
    "def findOriginalArray(changed):\n",
    "    counter = defaultdict(int)\n",
    "    for num in changed:\n",
    "        counter[num] += 1\n",
    "\n",
    "    original = []\n",
    "    changed.sort()\n",
    "    for num in changed:\n",
    "        if counter[num] > 0 and counter[num*2] > 0:\n",
    "            counter[num*2] -= 1\n",
    "            original.append(num)\n",
    "\n",
    "    if len(original) == len(changed) // 2:\n",
    "        return original\n",
    "    else:\n",
    "        return []\n",
    "changed = [1, 3, 4, 2, 6, 8]\n",
    "print(findOriginalArray(changed))\n"
   ]
  }
 ],
 "metadata": {
  "kernelspec": {
   "display_name": "Python 3 (ipykernel)",
   "language": "python",
   "name": "python3"
  },
  "language_info": {
   "codemirror_mode": {
    "name": "ipython",
    "version": 3
   },
   "file_extension": ".py",
   "mimetype": "text/x-python",
   "name": "python",
   "nbconvert_exporter": "python",
   "pygments_lexer": "ipython3",
   "version": "3.9.13"
  }
 },
 "nbformat": 4,
 "nbformat_minor": 5
}

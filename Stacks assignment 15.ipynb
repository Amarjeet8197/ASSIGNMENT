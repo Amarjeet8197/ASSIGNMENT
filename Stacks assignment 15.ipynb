{
 "cells": [
  {
   "cell_type": "code",
   "execution_count": 1,
   "id": "ce81c35b",
   "metadata": {},
   "outputs": [],
   "source": [
    "# Question 1**\n",
    "#Given an array **arr[ ]** of size **N** having elements, the task is to find the next greater element for each element of the array in order of their appearance in the array.\n",
    "#Next greater element of an element in the array is the nearest element on the right which is greater than the current element.If there does not exist next greater of current element,\n",
    "#then next greater element for current element is -1. For example, next greater of the last element is always -1.\n",
    "#Input: N = 4, arr[] = [1 3 2 4] ,Output: 3 4 4 -1\n",
    "#Explanation: In the array, the next larger element to 1 is 3 , 3 is 4 , 2 is 4 and for 4 ?since it doesn't exist, it is -1.\n",
    "#Input: N = 5, arr[] [6 8 0 1 3] Output: 8 -1 1 3 -1"
   ]
  },
  {
   "cell_type": "code",
   "execution_count": 3,
   "id": "8d286128",
   "metadata": {},
   "outputs": [],
   "source": [
    "def find_next_greater_elements(arr):\n",
    "    n = len(arr)\n",
    "    result = [-1] * n\n",
    "    stack = []\n",
    "\n",
    "    for i in range(n - 1, -1, -1):\n",
    "        while stack and arr[i] >= stack[-1]:\n",
    "            stack.pop()\n",
    "\n",
    "        if stack:\n",
    "            result[i] = stack[-1]\n",
    "\n",
    "        stack.append(arr[i])\n",
    "\n",
    "    return result\n"
   ]
  },
  {
   "cell_type": "code",
   "execution_count": 4,
   "id": "3f4cf002",
   "metadata": {},
   "outputs": [
    {
     "name": "stdout",
     "output_type": "stream",
     "text": [
      "[3, 4, 4, -1]\n",
      "[8, -1, 1, 3, -1]\n"
     ]
    }
   ],
   "source": [
    "arr1 = [1, 3, 2, 4]\n",
    "result1 = find_next_greater_elements(arr1)\n",
    "print(result1)  # Output: [3, 4, 4, -1]\n",
    "\n",
    "arr2 = [6, 8, 0, 1, 3]\n",
    "result2 = find_next_greater_elements(arr2)\n",
    "print(result2)  # Output: [8, -1, 1, 3, -1]\n"
   ]
  },
  {
   "cell_type": "code",
   "execution_count": 6,
   "id": "72551753",
   "metadata": {},
   "outputs": [],
   "source": [
    "#Question 2**\n",
    "#Given an array **a** of integers of length **n**, find the nearest smaller number for every element such that the smaller element is on left side.\n",
    "#If no small element present on the left print -1.\n",
    "#Input: n = 3 a = {1, 6, 2} Output: -1 1 1\n",
    "#Input: n = 6 a = {1, 5, 0, 3, 4, 5} Output: -1 1 -1 0 3 4"
   ]
  },
  {
   "cell_type": "code",
   "execution_count": 7,
   "id": "47c843f4",
   "metadata": {},
   "outputs": [],
   "source": [
    "def find_nearest_smaller_elements(arr):\n",
    "    n = len(arr)\n",
    "    result = [-1] * n\n",
    "    stack = []\n",
    "\n",
    "    for i in range(n):\n",
    "        while stack and arr[i] <= stack[-1]:\n",
    "            stack.pop()\n",
    "\n",
    "        if stack:\n",
    "            result[i] = stack[-1]\n",
    "\n",
    "        stack.append(arr[i])\n",
    "\n",
    "    return result\n"
   ]
  },
  {
   "cell_type": "code",
   "execution_count": 8,
   "id": "aa9f3ae0",
   "metadata": {},
   "outputs": [
    {
     "name": "stdout",
     "output_type": "stream",
     "text": [
      "[-1, 1, 1]\n",
      "[-1, 1, -1, 0, 3, 4]\n"
     ]
    }
   ],
   "source": [
    "arr1 = [1, 6, 2]\n",
    "result1 = find_nearest_smaller_elements(arr1)\n",
    "print(result1)  # Output: [-1, 1, 1]\n",
    "\n",
    "arr2 = [1, 5, 0, 3, 4, 5]\n",
    "result2 = find_nearest_smaller_elements(arr2)\n",
    "print(result2)  # Output: [-1, 1, -1, 0, 3, 4]\n"
   ]
  },
  {
   "cell_type": "code",
   "execution_count": 5,
   "id": "31712a60",
   "metadata": {},
   "outputs": [],
   "source": [
    "#Question 3**\n",
    "#Implement a Stack using two queues **q1** and **q2**\n",
    "#example 1:Input:push(2) push(3) pop() push(4) pop() Output:3 4\n",
    "#Input: push(2) pop() pop() push(3) Output:2 -1"
   ]
  },
  {
   "cell_type": "code",
   "execution_count": 9,
   "id": "f023dbfc",
   "metadata": {},
   "outputs": [
    {
     "name": "stdout",
     "output_type": "stream",
     "text": [
      "3\n",
      "4\n",
      "2\n",
      "-1\n"
     ]
    }
   ],
   "source": [
    "class Stack:\n",
    "    def __init__(self):\n",
    "        self.q1 = []  # Main storage queue\n",
    "        self.q2 = []  # Temporary queue\n",
    "\n",
    "    def push(self, value):\n",
    "        # Move all elements from q1 to q2\n",
    "        while self.q1:\n",
    "            self.q2.append(self.q1.pop(0))\n",
    "\n",
    "        # Add the new element to q1\n",
    "        self.q1.append(value)\n",
    "\n",
    "        # Move back all elements from q2 to q1\n",
    "        while self.q2:\n",
    "            self.q1.append(self.q2.pop(0))\n",
    "\n",
    "    def pop(self):\n",
    "        # If stack is empty\n",
    "        if not self.q1:\n",
    "            return -1\n",
    "\n",
    "        # Remove and return the top element from q1\n",
    "        return self.q1.pop(0)\n",
    "\n",
    "\n",
    "# Example usage:\n",
    "stack = Stack()\n",
    "stack.push(2)\n",
    "stack.push(3)\n",
    "print(stack.pop())  # Output: 3\n",
    "stack.push(4)\n",
    "print(stack.pop())  # Output: 4\n",
    "\n",
    "# Clearing the stack\n",
    "stack.pop()  # Removing the remaining element\n",
    "\n",
    "stack.push(2)\n",
    "print(stack.pop())  # Output: 2\n",
    "print(stack.pop())  # Output: -1 (stack is empty)\n"
   ]
  },
  {
   "cell_type": "code",
   "execution_count": 10,
   "id": "1f10fc19",
   "metadata": {},
   "outputs": [],
   "source": [
    "#Question 4**\n",
    "#You are given a stack **St**. You have to reverse the stack using recursion.\n",
    "#Example 1:Input:St = {3,2,1,7,6} Output:{6,7,1,2,3}\n",
    "#Input:St = {4,3,9,6} Output:{6,9,3,4}"
   ]
  },
  {
   "cell_type": "code",
   "execution_count": 13,
   "id": "88e62739",
   "metadata": {},
   "outputs": [],
   "source": [
    "def insert_at_bottom(stack, item):\n",
    "    if len(stack) == 0:\n",
    "        stack.append(item)\n",
    "    else:\n",
    "        temp = stack.pop()\n",
    "        insert_at_bottom(stack, item)\n",
    "        stack.append(temp)\n",
    "\n",
    "def reverse_stack(stack):\n",
    "    if len(stack) > 1:\n",
    "        top_element = stack.pop()\n",
    "        reverse_stack(stack)\n",
    "        insert_at_bottom(stack, top_element)\n"
   ]
  },
  {
   "cell_type": "code",
   "execution_count": 14,
   "id": "1962495d",
   "metadata": {},
   "outputs": [
    {
     "name": "stdout",
     "output_type": "stream",
     "text": [
      "[6, 7, 1, 2, 3]\n",
      "[6, 9, 3, 4]\n"
     ]
    }
   ],
   "source": [
    "# Example usage:\n",
    "stack1 = [3, 2, 1, 7, 6]\n",
    "reverse_stack(stack1)\n",
    "print(stack1)  # Output: [6, 7, 1, 2, 3]\n",
    "\n",
    "stack2 = [4, 3, 9, 6]\n",
    "reverse_stack(stack2)\n",
    "print(stack2)  # Output: [6, 9, 3, 4]\n"
   ]
  },
  {
   "cell_type": "code",
   "execution_count": 15,
   "id": "a5d62aeb",
   "metadata": {},
   "outputs": [],
   "source": [
    "#Question 5**\n",
    "#You are given a string **S**, the task is to reverse the string using stack.\n",
    "#Example 1:**Input: S=\"GeeksforGeeks\" Output: skeeGrofskeeG"
   ]
  },
  {
   "cell_type": "code",
   "execution_count": 18,
   "id": "af4b16aa",
   "metadata": {},
   "outputs": [
    {
     "name": "stdout",
     "output_type": "stream",
     "text": [
      "skeeGrofskeeG\n"
     ]
    }
   ],
   "source": [
    "def reverse_string(S):\n",
    "    stack = []\n",
    "    reversed_str = \"\"\n",
    "\n",
    "    # Push each character onto the stack\n",
    "    for char in S:\n",
    "        stack.append(char)\n",
    "\n",
    "    # Pop each character and append it to the reversed_str\n",
    "    while stack:\n",
    "        reversed_str += stack.pop()\n",
    "\n",
    "    return reversed_str\n",
    "\n",
    "# Example usage:\n",
    "S = \"GeeksforGeeks\"\n",
    "reversed_string = reverse_string(S)\n",
    "print(reversed_string)  # Output: skeeGrofskeeG\n"
   ]
  },
  {
   "cell_type": "code",
   "execution_count": 16,
   "id": "d317f8d8",
   "metadata": {},
   "outputs": [],
   "source": [
    "# **Question 6**\n",
    "#Given string **S** representing a postfix expression, the task is to evaluate the expression and find the final value. Operators will only include the basic arithmetic operators like ***, /, + and -**.\n",
    "#Example 1:**#Input: S = \"231*+9-\" Output: -4\n",
    "#Input: S = \"123+*8-\" Output: -3"
   ]
  },
  {
   "cell_type": "code",
   "execution_count": 19,
   "id": "92489317",
   "metadata": {},
   "outputs": [],
   "source": [
    "def evaluate_postfix_expression(S):\n",
    "    stack = []\n",
    "\n",
    "    for char in S:\n",
    "        if char.isdigit():\n",
    "            stack.append(int(char))\n",
    "        else:\n",
    "            operand2 = stack.pop()\n",
    "            operand1 = stack.pop()\n",
    "\n",
    "            if char == '+':\n",
    "                result = operand1 + operand2\n",
    "            elif char == '-':\n",
    "                result = operand1 - operand2\n",
    "            elif char == '*':\n",
    "                result = operand1 * operand2\n",
    "            elif char == '/':\n",
    "                result = operand1 / operand2\n",
    "\n",
    "            stack.append(result)\n",
    "\n",
    "    return stack.pop()\n"
   ]
  },
  {
   "cell_type": "code",
   "execution_count": 20,
   "id": "b3534907",
   "metadata": {},
   "outputs": [
    {
     "name": "stdout",
     "output_type": "stream",
     "text": [
      "-4\n",
      "-3\n"
     ]
    }
   ],
   "source": [
    "# Example usage:\n",
    "S1 = \"231*+9-\"\n",
    "result1 = evaluate_postfix_expression(S1)\n",
    "print(result1)  # Output: -4\n",
    "\n",
    "S2 = \"123+*8-\"\n",
    "result2 = evaluate_postfix_expression(S2)\n",
    "print(result2)  # Output: -3"
   ]
  },
  {
   "cell_type": "code",
   "execution_count": 21,
   "id": "7659247f",
   "metadata": {},
   "outputs": [],
   "source": [
    "#Question 7**\n",
    "#Design a stack that supports push, pop, top, and retrieving the minimum element in constant time.\n",
    "#Implement the `MinStack` class:\n",
    "#`MinStack()` initializes the stack object. `void push(int val)` pushes the element `val` onto the stack. `void pop()` removes the element on the top of the stack.\n",
    "#int top()` gets the top element of the stack.\n",
    "#int getMin()` retrieves the minimum element in the stack.\n",
    "#You must implement a solution with `O(1)` time complexity for each function.\n",
    "#Example 1:**Input [\"MinStack\",\"push\",\"push\",\"push\",\"getMin\",\"pop\",\"top\",\"getMin\"] [[],[-2],[0],[-3],[],[],[],[]] Output [null,null,null,null,-3,null,0,-2]."
   ]
  },
  {
   "cell_type": "code",
   "execution_count": 22,
   "id": "ad4bb569",
   "metadata": {},
   "outputs": [],
   "source": [
    "class MinStack:\n",
    "    def __init__(self):\n",
    "        self.stack = []\n",
    "        self.min_val = float('inf')\n",
    "\n",
    "    def push(self, val):\n",
    "        if val <= self.min_val:\n",
    "            self.stack.append(self.min_val)\n",
    "            self.min_val = val\n",
    "        self.stack.append(val)\n",
    "\n",
    "    def pop(self):\n",
    "        if self.stack.pop() == self.min_val:\n",
    "            self.min_val = self.stack.pop()\n",
    "\n",
    "    def top(self):\n",
    "        return self.stack[-1]\n",
    "\n",
    "    def getMin(self):\n",
    "        return self.min_val"
   ]
  },
  {
   "cell_type": "code",
   "execution_count": 23,
   "id": "0e8bc3bc",
   "metadata": {},
   "outputs": [
    {
     "name": "stdout",
     "output_type": "stream",
     "text": [
      "-3\n",
      "0\n",
      "-2\n"
     ]
    }
   ],
   "source": [
    "# Example usage:\n",
    "min_stack = MinStack()\n",
    "min_stack.push(-2)\n",
    "min_stack.push(0)\n",
    "min_stack.push(-3)\n",
    "print(min_stack.getMin())  # Output: -3\n",
    "min_stack.pop()\n",
    "print(min_stack.top())  # Output: 0\n",
    "print(min_stack.getMin())  # Output: -2"
   ]
  },
  {
   "cell_type": "code",
   "execution_count": 24,
   "id": "7437ad10",
   "metadata": {},
   "outputs": [],
   "source": [
    "#Question 8**\n",
    "#Given `n` non-negative integers representing an elevation map where the width of each bar is `1`, compute how much water it can trap after raining.\n",
    "#Example 1:**#Input: height = [0,1,0,2,1,0,1,3,2,1,2,1] Output: 6\n",
    "#Input: height = [4,2,0,3,2,5] Output: 9"
   ]
  },
  {
   "cell_type": "code",
   "execution_count": 25,
   "id": "e12ae8b2",
   "metadata": {},
   "outputs": [],
   "source": [
    "def trap_water(height):\n",
    "    left = 0\n",
    "    right = len(height) - 1\n",
    "    left_max = right_max = water = 0\n",
    "\n",
    "    while left <= right:\n",
    "        if height[left] <= height[right]:\n",
    "            left_max = max(left_max, height[left])\n",
    "            water += left_max - height[left]\n",
    "            left += 1\n",
    "        else:\n",
    "            right_max = max(right_max, height[right])\n",
    "            water += right_max - height[right]\n",
    "            right -= 1\n",
    "\n",
    "    return water"
   ]
  },
  {
   "cell_type": "code",
   "execution_count": 26,
   "id": "70b2cd09",
   "metadata": {},
   "outputs": [
    {
     "name": "stdout",
     "output_type": "stream",
     "text": [
      "6\n",
      "9\n"
     ]
    }
   ],
   "source": [
    "# Example usage:\n",
    "height1 = [0, 1, 0, 2, 1, 0, 1, 3, 2, 1, 2, 1]\n",
    "result1 = trap_water(height1)\n",
    "print(result1)  # Output: 6\n",
    "\n",
    "height2 = [4, 2, 0, 3, 2, 5]\n",
    "result2 = trap_water(height2)\n",
    "print(result2)  # Output: 9"
   ]
  }
 ],
 "metadata": {
  "kernelspec": {
   "display_name": "Python 3 (ipykernel)",
   "language": "python",
   "name": "python3"
  },
  "language_info": {
   "codemirror_mode": {
    "name": "ipython",
    "version": 3
   },
   "file_extension": ".py",
   "mimetype": "text/x-python",
   "name": "python",
   "nbconvert_exporter": "python",
   "pygments_lexer": "ipython3",
   "version": "3.9.13"
  }
 },
 "nbformat": 4,
 "nbformat_minor": 5
}

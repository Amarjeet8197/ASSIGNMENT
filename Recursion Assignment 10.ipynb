{
 "cells": [
  {
   "cell_type": "markdown",
   "id": "0b8fd95d",
   "metadata": {},
   "source": [
    "# Recursion assignment 10"
   ]
  },
  {
   "cell_type": "code",
   "execution_count": 1,
   "id": "015fb633",
   "metadata": {},
   "outputs": [],
   "source": [
    "# Question 1**\n",
    "# Given an integer `n`, return *`true` if it is a power of three. Otherwise, return `false`*.An integer `n` is a power of three, if there exists an integer `x` such that `n == 3x`.\n",
    "# **Example 1:** Input: n = 27 ,Output: true ,Explanation: 27 = 33\n",
    "# **Example 2:**  Input: n = 0 ,Output: false ,Explanation: There is no x where 3x = 0."
   ]
  },
  {
   "cell_type": "code",
   "execution_count": 3,
   "id": "34c070cd",
   "metadata": {},
   "outputs": [
    {
     "name": "stdout",
     "output_type": "stream",
     "text": [
      "True\n",
      "False\n"
     ]
    }
   ],
   "source": [
    "def isPowerOfThree(n):\n",
    "    if n <= 0:\n",
    "        return False\n",
    "    while n > 1:\n",
    "        if n % 3 != 0:\n",
    "            return False\n",
    "        n //= 3\n",
    "    return n == 1\n",
    "n1 = 27\n",
    "result1 = isPowerOfThree(n1)\n",
    "print(result1)  # Output: True\n",
    "\n",
    "n2 = 0\n",
    "result2 = isPowerOfThree(n2)\n",
    "print(result2)  # Output: False\n",
    "\n"
   ]
  },
  {
   "cell_type": "code",
   "execution_count": 4,
   "id": "6b5f539f",
   "metadata": {},
   "outputs": [],
   "source": [
    "# Question 2**\n",
    "\n",
    "# You have a list `arr` of all integers in the range `[1, n]` sorted in a strictly increasing order. Apply the following algorithm on `arr`:\n",
    "\n",
    "#- Starting from left to right, remove the first number and every other number afterward until you reach the end of the list.\n",
    "# Repeat the previous step again, but this time from right to left, remove the rightmost number and every other number from the remaining numbers.\n",
    "# - Keep repeating the steps again, alternating left to right and right to left, until a single number remains.\n",
    "#Given the integer `n`, return *the last number that remains in* `arr`. **Example 1:** Input: n = 9 ,Output: 6\n",
    "# Explanation: ,arr = [1, 2,3, 4,5, 6,7, 8,9] ,arr = [2,4, 6,8] arr = [2, 6] ,arr = [6]\n"
   ]
  },
  {
   "cell_type": "code",
   "execution_count": 7,
   "id": "c887fe69",
   "metadata": {},
   "outputs": [
    {
     "name": "stdout",
     "output_type": "stream",
     "text": [
      "8\n",
      "1\n"
     ]
    }
   ],
   "source": [
    "def lastRemaining(arr):\n",
    "    if len(arr) == 1:\n",
    "        return arr[0]\n",
    "    \n",
    "    newArr = []\n",
    "    for i in range(1, len(arr), 2):\n",
    "        newArr.append(arr[i])\n",
    "    \n",
    "    for i in range(len(arr) - 2, 0, -2):\n",
    "        newArr.append(arr[i])\n",
    "    \n",
    "    return lastRemaining(newArr)\n",
    "\n",
    "def lastRemainingNumber(n):\n",
    "    arr = list(range(1, n + 1))\n",
    "    return lastRemaining(arr)\n",
    "\n",
    "# Example usage:\n",
    "n1 = 9\n",
    "result1 = lastRemainingNumber(n1)\n",
    "print(result1)  # Output: 8\n",
    "\n",
    "n2 = 1\n",
    "result2 = lastRemainingNumber(n2)\n",
    "print(result2)  # Output: 1\n"
   ]
  },
  {
   "cell_type": "code",
   "execution_count": 8,
   "id": "3968c3a5",
   "metadata": {},
   "outputs": [],
   "source": [
    "# Question 3**\n",
    "\n",
    "#*Given a set represented as a string, write a recursive code to print all subsets of it. The subsets can be printed in any order.\n",
    "\n",
    "# *Example 1:** Input :  set = “abc” ,Output : { “”, “a”, “b”, “c”, “ab”, “ac”, “bc”, “abc”}\n",
    "# **Example 2:** Input : set = “abcd” ,Output : { “”, “a” ,”ab” ,”abc” ,”abcd”, “abd” ,”ac” ,”acd”, “ad” ,”b”, “bc” ,”bcd” ,”bd” ,”c” ,”cd” ,”d” }"
   ]
  },
  {
   "cell_type": "code",
   "execution_count": 9,
   "id": "c626fad5",
   "metadata": {},
   "outputs": [
    {
     "name": "stdout",
     "output_type": "stream",
     "text": [
      "['', 'c', 'b', 'bc', 'a', 'ac', 'ab', 'abc']\n",
      "['', 'd', 'c', 'cd', 'b', 'bd', 'bc', 'bcd', 'a', 'ad', 'ac', 'acd', 'ab', 'abd', 'abc', 'abcd']\n"
     ]
    }
   ],
   "source": [
    "def findAllSubsets(subset, set_str, index, subsets):\n",
    "    if index == len(set_str):\n",
    "        subsets.append(subset)\n",
    "        return\n",
    "    \n",
    "    findAllSubsets(subset, set_str, index + 1, subsets)\n",
    "    findAllSubsets(subset + set_str[index], set_str, index + 1, subsets)\n",
    "\n",
    "def printAllSubsets(set_str):\n",
    "    subsets = []\n",
    "    findAllSubsets(\"\", set_str, 0, subsets)\n",
    "    print(subsets)\n",
    "\n",
    "# Example usage:\n",
    "set_str1 = \"abc\"\n",
    "printAllSubsets(set_str1)  # Output: ['', 'c', 'b', 'bc', 'a', 'ac', 'ab', 'abc']\n",
    "\n",
    "set_str2 = \"abcd\"\n",
    "printAllSubsets(set_str2)  # Output: ['', 'd', 'c', 'cd', 'b', 'bd', 'bc', 'bcd', 'a', 'ad', 'ac', 'acd', 'ab', 'abd', 'abc', 'abcd']\n"
   ]
  },
  {
   "cell_type": "code",
   "execution_count": 10,
   "id": "9009bed3",
   "metadata": {},
   "outputs": [],
   "source": [
    "#  **Question 4**\n",
    "\n",
    "# Given a string calculate length of the string using recursion. **Examples:**Input : str = \"abcd\" Output :4\n",
    "# Input : str = \"GEEKSFORGEEKS\" ,Output :13"
   ]
  },
  {
   "cell_type": "code",
   "execution_count": 12,
   "id": "fcc0f63f",
   "metadata": {},
   "outputs": [
    {
     "name": "stdout",
     "output_type": "stream",
     "text": [
      "5\n",
      "9\n"
     ]
    }
   ],
   "source": [
    "def calculateLength(string):\n",
    "    if string == \"\":\n",
    "        return 0\n",
    "    else:\n",
    "        return 1 + calculateLength(string[1:])\n",
    "\n",
    "# Example usage:\n",
    "string1 = \"Hello\"\n",
    "print(calculateLength(string1))  # Output: 5\n",
    "\n",
    "string2 = \"Recursive\"\n",
    "print(calculateLength(string2))  # Output: 9\n"
   ]
  },
  {
   "cell_type": "code",
   "execution_count": null,
   "id": "1875a470",
   "metadata": {},
   "outputs": [],
   "source": [
    "# Question 5**\n",
    "\n",
    "# We are given a string S, we need to find count of all contiguous substrings starting and ending with same character.**Examples :**\n",
    "#Input  : S = \"abcab\" Output : 7\n",
    "# There are 15 substrings of \"abcab\" a, ab, abc, abca, abcab, b, bc, bca bcab, c, ca, cab, a, ab, b ,Out of the above substrings, there\n",
    "# are 7 substrings : a, abca, b, bcab, c, a and b. Input  : S = \"aba\" Output : 4 ,The substrings are a, b, a and aba."
   ]
  },
  {
   "cell_type": "code",
   "execution_count": 13,
   "id": "d5e4ce70",
   "metadata": {},
   "outputs": [
    {
     "name": "stdout",
     "output_type": "stream",
     "text": [
      "0\n",
      "6\n"
     ]
    }
   ],
   "source": [
    "def countSubstrings(S):\n",
    "    count = 0\n",
    "    for i in range(len(S)):\n",
    "        if i+1 < len(S) and S[i] == S[i+1]:\n",
    "            count += i + 1\n",
    "    return count\n",
    "\n",
    "# Example usage:\n",
    "string1 = \"abcab\"\n",
    "print(countSubstrings(string1))  # Output: 0\n",
    "\n",
    "string2 = \"aaaa\"\n",
    "print(countSubstrings(string2))  # Output: 6\n"
   ]
  },
  {
   "cell_type": "code",
   "execution_count": 14,
   "id": "d92186f0",
   "metadata": {},
   "outputs": [],
   "source": [
    "# Question 6**\n",
    "\n",
    "# The [tower of Hanoi](https://en.wikipedia.org/wiki/Tower_of_Hanoi) is a famous puzzle where we have three rods and **N** disks. The objective of the puzzle is to move the entire stack to another rod. You are given the number of discs **N**. Initially, these discs are in the rod 1. You need to print all the steps of discs movement so that all the discs reach the 3rd rod. Also, you need to find the total moves.**Note:** The discs are arranged such that the **top disc is numbered 1** and the **bottom-most disc is numbered N**. Also, all the discs have **different sizes** and a bigger disc **cannot** be put on the top of a smaller disc. Refer the provided link to get a better clarity about the puzzle.\n",
    "\n",
    "# **Example 1:*Input: N = 2 ,Output: move disk 1 from rod 1 to rod 2 move disk 2 from rod 1 to rod 3 move disk 1 from rod 2 to rod 33\n",
    "# Explanation:For N=2 , steps will be as follows in the example and total3 steps will be taken."
   ]
  },
  {
   "cell_type": "code",
   "execution_count": 16,
   "id": "66845506",
   "metadata": {},
   "outputs": [
    {
     "name": "stdout",
     "output_type": "stream",
     "text": [
      "move disk 1 from rod 1 to rod 2\n",
      "move disk 2 from rod 1 to rod 3\n",
      "move disk 1 from rod 2 to rod 3\n",
      "Total moves: 3\n",
      "move disk 1 from rod 1 to rod 3\n",
      "move disk 2 from rod 1 to rod 2\n",
      "move disk 1 from rod 3 to rod 2\n",
      "move disk 3 from rod 1 to rod 3\n",
      "move disk 1 from rod 2 to rod 1\n",
      "move disk 2 from rod 2 to rod 3\n",
      "move disk 1 from rod 1 to rod 3\n",
      "Total moves: 7\n"
     ]
    }
   ],
   "source": [
    "def towerOfHanoi(N, source, destination, auxiliary):\n",
    "    if N == 1:\n",
    "        print(\"move disk\", N, \"from rod\", source, \"to rod\", destination)\n",
    "        return 1\n",
    "    else:\n",
    "        moves = 0\n",
    "        moves += towerOfHanoi(N-1, source, auxiliary, destination)\n",
    "        print(\"move disk\", N, \"from rod\", source, \"to rod\", destination)\n",
    "        moves += 1\n",
    "        moves += towerOfHanoi(N-1, auxiliary, destination, source)\n",
    "        return moves\n",
    "\n",
    "# Example 1:\n",
    "N = 2\n",
    "total_moves = towerOfHanoi(N, 1, 3, 2)\n",
    "print(\"Total moves:\", total_moves)\n",
    "\n",
    "# Example 2:\n",
    "N = 3\n",
    "total_moves = towerOfHanoi(N, 1, 3, 2)\n",
    "print(\"Total moves:\", total_moves)\n"
   ]
  },
  {
   "cell_type": "code",
   "execution_count": 18,
   "id": "76e99bd2",
   "metadata": {},
   "outputs": [],
   "source": [
    "#  **Question 7**\n",
    "\n",
    "# Given a string **str**, the task is to print all the permutations of **str**. A **permutation** is an arrangement of all or part of a set of objects, with regard to the order of the arrangement. For instance, the words ‘bat’ and ‘tab’ represents two distinct permutation (or arrangements) of a similar three letter word.\n",
    "\n",
    "# **Examples:**  Input: str = “cd” , **Output:** cd dc\n",
    " #**Input:** str = “abb”  Output:** abb abb bab bba bab bba"
   ]
  },
  {
   "cell_type": "code",
   "execution_count": 19,
   "id": "7817f7bf",
   "metadata": {},
   "outputs": [
    {
     "name": "stdout",
     "output_type": "stream",
     "text": [
      "Permutations of cd\n",
      "cd\n",
      "dc\n",
      "Permutations of abb\n",
      "abb\n",
      "abb\n",
      "bab\n",
      "bba\n",
      "bba\n",
      "bab\n"
     ]
    }
   ],
   "source": [
    "def permute(string, left, right):\n",
    "    if left == right:\n",
    "        print(\"\".join(string))\n",
    "    else:\n",
    "        for i in range(left, right + 1):\n",
    "            string[left], string[i] = string[i], string[left]  # Swap characters\n",
    "            permute(string, left + 1, right)  # Recursively permute the remaining characters\n",
    "            string[left], string[i] = string[i], string[left]  # Backtrack\n",
    "\n",
    "# Function to print all permutations of a given string\n",
    "def printPermutations(str):\n",
    "    n = len(str)\n",
    "    string = list(str)  # Convert string to a list of characters\n",
    "    permute(string, 0, n - 1)\n",
    "\n",
    "# Example usage:\n",
    "str = \"cd\"\n",
    "print(\"Permutations of\", str)\n",
    "printPermutations(str)\n",
    "\n",
    "str = \"abb\"\n",
    "print(\"Permutations of\", str)\n",
    "printPermutations(str)\n"
   ]
  },
  {
   "cell_type": "code",
   "execution_count": 20,
   "id": "8884a797",
   "metadata": {},
   "outputs": [],
   "source": [
    "#Question 8**\n",
    "# Given a string, count total number of consonants in it. A consonant is an English alphabet character that is not vowel (a, e, i, o and u).\n",
    "#Examples of constants are b, c, d, f, and g.\n",
    "# **Examples :**Input : abc de Output : 3 There are three consonants b, c and d.\n",
    "#Input : geeksforgeeks portal ,Output : 12"
   ]
  },
  {
   "cell_type": "code",
   "execution_count": 22,
   "id": "e959c50c",
   "metadata": {},
   "outputs": [
    {
     "name": "stdout",
     "output_type": "stream",
     "text": [
      "Total number of consonants: 3\n"
     ]
    }
   ],
   "source": [
    "def count_consonants(string):\n",
    "    vowels = 'aeiou'\n",
    "    consonant_count = 0\n",
    "\n",
    "    for char in string:\n",
    "        if char.isalpha() and char.lower() not in vowels:\n",
    "            consonant_count += 1\n",
    "\n",
    "    return consonant_count\n",
    "\n",
    "# Example usage:\n",
    "str = \"abc de\"\n",
    "consonant_count = count_consonants(str)\n",
    "print(\"Total number of consonants:\", consonant_count)\n"
   ]
  },
  {
   "cell_type": "code",
   "execution_count": null,
   "id": "312b5918",
   "metadata": {},
   "outputs": [],
   "source": []
  }
 ],
 "metadata": {
  "kernelspec": {
   "display_name": "Python 3 (ipykernel)",
   "language": "python",
   "name": "python3"
  },
  "language_info": {
   "codemirror_mode": {
    "name": "ipython",
    "version": 3
   },
   "file_extension": ".py",
   "mimetype": "text/x-python",
   "name": "python",
   "nbconvert_exporter": "python",
   "pygments_lexer": "ipython3",
   "version": "3.9.13"
  }
 },
 "nbformat": 4,
 "nbformat_minor": 5
}
